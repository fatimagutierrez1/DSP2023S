{
 "cells": [
  {
   "cell_type": "markdown",
   "id": "748c3de9",
   "metadata": {},
   "source": [
    "Implementing the Bell-shaped (Gaussian) function"
   ]
  },
  {
   "cell_type": "code",
   "execution_count": 40,
   "id": "0f1f2e9a",
   "metadata": {},
   "outputs": [],
   "source": [
    "import math"
   ]
  },
  {
   "cell_type": "code",
   "execution_count": 56,
   "id": "d7438231",
   "metadata": {},
   "outputs": [
    {
     "name": "stdout",
     "output_type": "stream",
     "text": [
      "<built-in function sqrt>\n"
     ]
    }
   ],
   "source": [
    "print(math.sqrt)"
   ]
  },
  {
   "cell_type": "code",
   "execution_count": 58,
   "id": "715c61f8",
   "metadata": {},
   "outputs": [
    {
     "name": "stdout",
     "output_type": "stream",
     "text": [
      "3.141592653589793\n"
     ]
    }
   ],
   "source": [
    "print(math.pi)"
   ]
  },
  {
   "cell_type": "code",
   "execution_count": 59,
   "id": "b67cb4e7",
   "metadata": {},
   "outputs": [
    {
     "name": "stdout",
     "output_type": "stream",
     "text": [
      "<built-in function exp>\n"
     ]
    }
   ],
   "source": [
    "print(math.exp)"
   ]
  },
  {
   "cell_type": "code",
   "execution_count": null,
   "id": "1abc3305",
   "metadata": {},
   "outputs": [],
   "source": [
    "m=0\n",
    "sig=2\n",
    "x=2"
   ]
  },
  {
   "cell_type": "code",
   "execution_count": null,
   "id": "a10e74cb",
   "metadata": {},
   "outputs": [],
   "source": [
    "f=1/(sig*sqrt(2*pi))*exp(-((x-m)^2/(2*(sig)^2)))"
   ]
  },
  {
   "cell_type": "markdown",
   "id": "5fb3d36c",
   "metadata": {},
   "source": [
    "Check if number is even in one line function definition"
   ]
  },
  {
   "cell_type": "code",
   "execution_count": 1,
   "id": "226c0bf0",
   "metadata": {},
   "outputs": [],
   "source": [
    "def is_even(num):\n",
    "    return True if num%2==0 else False"
   ]
  },
  {
   "cell_type": "code",
   "execution_count": 2,
   "id": "157fb737",
   "metadata": {},
   "outputs": [
    {
     "data": {
      "text/plain": [
       "False"
      ]
     },
     "execution_count": 2,
     "metadata": {},
     "output_type": "execute_result"
    }
   ],
   "source": [
    "is_even(3)"
   ]
  },
  {
   "cell_type": "markdown",
   "id": "81d4ff49",
   "metadata": {},
   "source": [
    "Getting the largest prime number smaller than the input value"
   ]
  },
  {
   "cell_type": "code",
   "execution_count": 17,
   "id": "6ad3c1ed",
   "metadata": {},
   "outputs": [],
   "source": [
    "def isPrime_for(n):\n",
    "    for i in range(2,n):\n",
    "        if n%i==0:\n",
    "            return False\n",
    "    return True\n",
    "\n",
    "def getNumPrimes_for(n):\n",
    "    count=0\n",
    "    if n<=2:\n",
    "        return 0\n",
    "    else:\n",
    "        for i in range(2,n):\n",
    "            if isPrime_for(i):\n",
    "                count+=1\n",
    "        return count"
   ]
  },
  {
   "cell_type": "code",
   "execution_count": 18,
   "id": "e2010d77",
   "metadata": {},
   "outputs": [
    {
     "data": {
      "text/plain": [
       "0"
      ]
     },
     "execution_count": 18,
     "metadata": {},
     "output_type": "execute_result"
    }
   ],
   "source": [
    "getNumPrimes_for(2)"
   ]
  },
  {
   "cell_type": "code",
   "execution_count": 4,
   "id": "a5053d6c",
   "metadata": {},
   "outputs": [],
   "source": [
    "def isPrime(n):\n",
    "    \n",
    "    isPrime = True\n",
    "    \n",
    "    def is_divisible(n,divisor):\n",
    "        if n<(divisor-1)*divisor: return False\n",
    "        if n%divisor==0: return True\n",
    "        else:\n",
    "            divisor += 1\n",
    "            return is_divisible(n,divisor)\n",
    "\n",
    "    if n==2:\n",
    "        isPrime = True\n",
    "    elif is_divisible(n,divisor=2):\n",
    "        isPrime = False\n",
    "    return isPrime\n",
    "\n",
    "def getNumPrimes(n):\n",
    "    if n <= 2:\n",
    "        return 0\n",
    "    else:\n",
    "        return isPrime(n-1) + getNumPrimes(n-1)"
   ]
  },
  {
   "cell_type": "code",
   "execution_count": 5,
   "id": "9366488e",
   "metadata": {},
   "outputs": [
    {
     "data": {
      "text/plain": [
       "5"
      ]
     },
     "execution_count": 5,
     "metadata": {},
     "output_type": "execute_result"
    }
   ],
   "source": [
    "getNumPrimes(13)"
   ]
  },
  {
   "cell_type": "code",
   "execution_count": 14,
   "id": "2e145065",
   "metadata": {},
   "outputs": [
    {
     "name": "stdout",
     "output_type": "stream",
     "text": [
      "2.72 ms ± 74.2 µs per loop (mean ± std. dev. of 7 runs, 100 loops each)\n"
     ]
    }
   ],
   "source": [
    "%timeit getNumPrimes(500)"
   ]
  },
  {
   "cell_type": "code",
   "execution_count": 20,
   "id": "8e6f681f",
   "metadata": {},
   "outputs": [
    {
     "name": "stdout",
     "output_type": "stream",
     "text": [
      "4.01 ms ± 109 µs per loop (mean ± std. dev. of 7 runs, 100 loops each)\n"
     ]
    }
   ],
   "source": [
    "%timeit getNumPrimes_for(500) "
   ]
  },
  {
   "cell_type": "code",
   "execution_count": null,
   "id": "ba19e5be",
   "metadata": {},
   "outputs": [],
   "source": [
    "#getNumPrimes is faster than getNumPrimes_For"
   ]
  },
  {
   "cell_type": "code",
   "execution_count": null,
   "id": "ac597856",
   "metadata": {},
   "outputs": [],
   "source": []
  }
 ],
 "metadata": {
  "kernelspec": {
   "display_name": "Python 3 (ipykernel)",
   "language": "python",
   "name": "python3"
  },
  "language_info": {
   "codemirror_mode": {
    "name": "ipython",
    "version": 3
   },
   "file_extension": ".py",
   "mimetype": "text/x-python",
   "name": "python",
   "nbconvert_exporter": "python",
   "pygments_lexer": "ipython3",
   "version": "3.10.9"
  }
 },
 "nbformat": 4,
 "nbformat_minor": 5
}
