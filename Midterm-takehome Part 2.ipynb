{
 "cells": [
  {
   "cell_type": "markdown",
   "id": "9913d12b",
   "metadata": {},
   "source": [
    " # <center>Midterm Exam &ndash; DATA 3401 (Spring 2023)</center>\n",
    "\n",
    "## Start Date: 3/27\n",
    "## Due Date for Exercises 1 and 2:    3/27 (at 2:15pm))\n",
    "## Due Date: for Exercises 3, 4 and 5:     23/29 (at 12:59pm))\n",
    "\n",
    "## Midterm Rules\n",
    "\n",
    "This midterm exam is essentially like a short-term lab. Please work the exercises below **on your own**.   \n",
    "\n",
    "**You should push your answer for Exercises 1 and 2 by the end of Monday's class, 3/27, at 2:15 pm in your GitHub repo for this class as **Midterm-part1** in the **Exam** folder. The rest of the exam is a take-home exam, and you have time up to Wednesday, 3/29, at 12:59. When you have completed the take-home exam, you should again push your completed jupyter notebook to your GitHub repo for this class as **Midterm-part2** in the **Exam** folder.\n",
    "\n",
    "\n",
    "You may not discuss the problems with **anyone else**, including persons on an online internet forum. Consulting an outside source like this will be considered an academic integrity violation.\n",
    "\n",
    "You may use all class resources including previous labs and lectures, and anything posted on the course webpage.\n",
    "\n",
    "You may not use any function that trivializes a problem. For example, if I ask you to write a `max` function that computes the maximum entry in a list, you are not allowed to use the pre-defined Python function `max`; you must write your own."
   ]
  },
  {
   "cell_type": "markdown",
   "id": "dbe7db65",
   "metadata": {},
   "source": [
    "## Exercise 1\n",
    "1. Write a script or function that asks the user to input 3 numbers (floats or ints), and output the product of the 3 numbers.\n",
    "    1. You may use the `input()` function to take user input, or you may write a function with 3 input arguments without using `input()`\n",
    "1. Your code should display an error message if one of the inputs is not a number.\n",
    "1. Test your code on the following inputs:  \n",
    "    1. (5, -10, 20.0)\n",
    "    1. (1, \"blah\", 5)"
   ]
  },
  {
   "cell_type": "code",
   "execution_count": null,
   "id": "52bc748d",
   "metadata": {},
   "outputs": [],
   "source": [
    "## Write your code here"
   ]
  },
  {
   "cell_type": "code",
   "execution_count": null,
   "id": "9c7e73ec",
   "metadata": {},
   "outputs": [],
   "source": [
    "## Test your code here"
   ]
  },
  {
   "cell_type": "markdown",
   "id": "82b8368e",
   "metadata": {},
   "source": [
    "## Exercise 2\n",
    "1. Write a function which takes a list as input and outputs the largest **integer** entry. If there is none, return `None`.\n",
    "1. Test your function on the following lists\n",
    "    1. \\[ 1, 9, 10.2, 6, -2\\]\n",
    "    1. \\[1.2, 3/4, \"Hello World\"\\]"
   ]
  },
  {
   "cell_type": "code",
   "execution_count": null,
   "id": "586c4abe",
   "metadata": {},
   "outputs": [],
   "source": [
    "# Write your function here"
   ]
  },
  {
   "cell_type": "code",
   "execution_count": null,
   "id": "c01d73b0",
   "metadata": {},
   "outputs": [],
   "source": [
    "# Test your function here"
   ]
  },
  {
   "cell_type": "markdown",
   "id": "78622bb6",
   "metadata": {},
   "source": [
    "## Exercise 3\n",
    "Suppose the first element of a sequence is $a_0 = 1$, the second element is $a_1 = 3$, and for every $i>1$, the $i$--th element of the sequence is defined by the recursive relation $a_i = \\frac{(a_{i-1}-a_{i-2})^2}{3}$. (So $a_2 = 4/3$)\n",
    "1. Write a function which outputs the $n$--th element of this sequence for a given positive integer $n$\n",
    "2. Test your function for $n = 1, 5, 10, 15,$ and $20$"
   ]
  },
  {
   "cell_type": "markdown",
   "id": "dcbac956",
   "metadata": {},
   "source": [
    "Exercise 3 Part 1"
   ]
  },
  {
   "cell_type": "code",
   "execution_count": null,
   "id": "734307f2",
   "metadata": {},
   "outputs": [],
   "source": [
    "def recursive(n):\n",
    "  if n > 1:\n",
    "      return n\n",
    "  else:\n",
    "      return((recursive(n-1) - recursive(n-2))**2)/3\n",
    "n_terms = 10\n",
    "if n_terms <= 0:\n",
    "  print(\"Invalid input ! Please input a positive value\")\n",
    "else:\n",
    "  print(\"n--th element:\")\n",
    "for i in range(n_terms):\n",
    "    print(recursive(i))"
   ]
  },
  {
   "cell_type": "markdown",
   "id": "718109b7",
   "metadata": {},
   "source": [
    "Exercise 3 Part 2"
   ]
  },
  {
   "cell_type": "code",
   "execution_count": null,
   "id": "5aee2a4d",
   "metadata": {},
   "outputs": [],
   "source": [
    "def recursive(n):\n",
    "  if n > 1:\n",
    "      return n\n",
    "  else:\n",
    "      return((recursive(n-1) - recursive(n-2))**2)/3\n",
    "n_terms = 1\n",
    "if n_terms <= 0:\n",
    "  print(\"Invalid input ! Please input a positive value\")\n",
    "else:\n",
    "  print(\"n--th element:\")\n",
    "for i in range(n_terms):\n",
    "    print(recursive(i))"
   ]
  },
  {
   "cell_type": "code",
   "execution_count": null,
   "id": "5d15d67c",
   "metadata": {},
   "outputs": [],
   "source": [
    "def recursive(n):\n",
    "  if n > 1:\n",
    "      return n\n",
    "  else:\n",
    "      return((recursive(n-1) - recursive(n-2))**2)/3\n",
    "n_terms = 5\n",
    "if n_terms <= 0:\n",
    "  print(\"Invalid input ! Please input a positive value\")\n",
    "else:\n",
    "  print(\"n--th element:\")\n",
    "for i in range(n_terms):\n",
    "    print(recursive(i))"
   ]
  },
  {
   "cell_type": "code",
   "execution_count": null,
   "id": "7ca73520",
   "metadata": {},
   "outputs": [],
   "source": [
    "def recursive(n):\n",
    "  if n > 1:\n",
    "      return n\n",
    "  else:\n",
    "      return((recursive(n-1) - recursive(n-2))**2)/3\n",
    "n_terms = 10\n",
    "if n_terms <= 0:\n",
    "  print(\"Invalid input ! Please input a positive value\")\n",
    "else:\n",
    "  print(\"n--th element:\")\n",
    "for i in range(n_terms):\n",
    "    print(recursive(i))"
   ]
  },
  {
   "cell_type": "code",
   "execution_count": null,
   "id": "50630869",
   "metadata": {},
   "outputs": [],
   "source": [
    "def recursive(n):\n",
    "  if n > 1:\n",
    "      return n\n",
    "  else:\n",
    "      return((recursive(n-1) - recursive(n-2))**2)/3\n",
    "n_terms = 15\n",
    "if n_terms <= 0:\n",
    "  print(\"Invalid input ! Please input a positive value\")\n",
    "else:\n",
    "  print(\"n--th element:\")\n",
    "for i in range(n_terms):\n",
    "    print(recursive(i))"
   ]
  },
  {
   "cell_type": "code",
   "execution_count": null,
   "id": "a5df3ba5",
   "metadata": {},
   "outputs": [],
   "source": [
    "def recursive(n):\n",
    "  if n > 1:\n",
    "      return n\n",
    "  else:\n",
    "      return((recursive(n-1) - recursive(n-2))**2)/3\n",
    "n_terms = 20\n",
    "if n_terms <= 0:\n",
    "  print(\"Invalid input ! Please input a positive value\")\n",
    "else:\n",
    "  print(\"n--th element:\")\n",
    "for i in range(n_terms):\n",
    "    print(recursive(i))"
   ]
  },
  {
   "cell_type": "markdown",
   "id": "5a9a5bdf",
   "metadata": {},
   "source": [
    "## Exercise 4\n",
    "1. Write a function that takes in a list of tuples, each of which contains three parts: `name, month, day` corresponding to a person's birthday, for example `('Tony Stark', 'March', 14)`. Your function should output `True` if any two people have the same birthday, and `False` if no two people have the same birthday.\n",
    "1. Test your function on the set of people `[('Thor', 'August',10), ('Phil Coulson','July',8),('T\\'Challa','November',29),('Peter Parker','August',10), ('Tony Stark', 'March', 14)]`\n",
    "1. Create your own list of people with all distinct birthdays and test your function on your list."
   ]
  },
  {
   "cell_type": "code",
   "execution_count": 65,
   "id": "e6036378",
   "metadata": {},
   "outputs": [
    {
     "name": "stdout",
     "output_type": "stream",
     "text": [
      "The original list 1 : [('August', 10)]\n",
      "The original list 2 : [('July', 8)]\n",
      "The original list 3 : [('November', 29)]\n",
      "The original list 4 : [('August', 10)]\n",
      "The original list 5 : [('March', 14)]\n",
      "Do they have the same birthday ? : True\n"
     ]
    }
   ],
   "source": [
    "test1_Thor = [('August',10)]\n",
    "test2_PhilCoulson = [('July',8)]\n",
    "test3_TChalla = [('November',29)]\n",
    "test4_PeterParker = [('August',10)]\n",
    "test5_TonyStark = [('March', 14)]\n",
    "\n",
    "print(\"The original list 1 : \" + str(test1_Thor))\n",
    "print(\"The original list 2 : \" + str(test2_PhilCoulson))\n",
    "print(\"The original list 3 : \" + str(test3_TChalla))\n",
    "print(\"The original list 4 : \" + str(test4_PeterParker))\n",
    "print(\"The original list 5 : \" + str(test5_TonyStark))\n",
    "\n",
    "res = test1_Thor == test4_PeterParker\n",
    "\n",
    "print(\"Do they have the same birthday ? : \" + str(res))\n",
    "#I tried to test Thor and Peter's birthday and they are on the same day, so True!"
   ]
  },
  {
   "cell_type": "code",
   "execution_count": 69,
   "id": "0b8d46b1",
   "metadata": {},
   "outputs": [
    {
     "name": "stdout",
     "output_type": "stream",
     "text": [
      "The original list 1 : [('August', 10)]\n",
      "The original list 2 : [('July', 8)]\n",
      "The original list 3 : [('November', 29)]\n",
      "The original list 4 : [('August', 10)]\n",
      "The original list 5 : [('March', 14)]\n",
      "Do they have the same birthday ? : False\n"
     ]
    }
   ],
   "source": [
    "test1_Thor = [('August',10)]\n",
    "test2_PhilCoulson = [('July',8)]\n",
    "test3_TChalla = [('November',29)]\n",
    "test4_PeterParker = [('August',10)]\n",
    "test5_TonyStark = [('March', 14)]\n",
    "\n",
    "print(\"The original list 1 : \" + str(test1_Thor))\n",
    "print(\"The original list 2 : \" + str(test2_PhilCoulson))\n",
    "print(\"The original list 3 : \" + str(test3_TChalla))\n",
    "print(\"The original list 4 : \" + str(test4_PeterParker))\n",
    "print(\"The original list 5 : \" + str(test5_TonyStark))\n",
    "\n",
    "res = test1_Thor == test5_TonyStark\n",
    "\n",
    "print(\"Do they have the same birthday ? : \" + str(res))\n",
    "#I tried to test Thor and Tony's birthday and they are not on the same day, so False!"
   ]
  },
  {
   "cell_type": "markdown",
   "id": "b55c2588",
   "metadata": {},
   "source": [
    "My own"
   ]
  },
  {
   "cell_type": "code",
   "execution_count": 72,
   "id": "de469a32",
   "metadata": {},
   "outputs": [
    {
     "name": "stdout",
     "output_type": "stream",
     "text": [
      "The original list 1 : [('June', 20)]\n",
      "The original list 2 : [('November', 29)]\n",
      "The original list 3 : [('January', 28)]\n",
      "The original list 4 : [('June', 20)]\n",
      "Do they have the same birthday ? : False\n"
     ]
    }
   ],
   "source": [
    "test1_Fatima = [('June',20)]\n",
    "test2_Amy = [('November',29)]\n",
    "test3_Angel = [('January',28)]\n",
    "test4_Thanh = [('June',20)]\n",
    "\n",
    "print(\"The original list 1 : \" + str(test1_Fatima))\n",
    "print(\"The original list 2 : \" + str(test2_Amy))\n",
    "print(\"The original list 3 : \" + str(test3_Angel))\n",
    "print(\"The original list 4 : \" + str(test4_Thanh))\n",
    "\n",
    "res = test1_Fatima == test3_Angel\n",
    "\n",
    "print(\"Do they have the same birthday ? : \" + str(res))\n",
    "#I tried to test Fatima and Angel's birthday and they are not on the same day, so False!"
   ]
  },
  {
   "cell_type": "code",
   "execution_count": 73,
   "id": "6a665f3e",
   "metadata": {},
   "outputs": [
    {
     "name": "stdout",
     "output_type": "stream",
     "text": [
      "The original list 1 : [('June', 20)]\n",
      "The original list 2 : [('November', 29)]\n",
      "The original list 3 : [('January', 28)]\n",
      "The original list 4 : [('June', 20)]\n",
      "Do they have the same birthday ? : True\n"
     ]
    }
   ],
   "source": [
    "test1_Fatima = [('June',20)]\n",
    "test2_Amy = [('November',29)]\n",
    "test3_Angel = [('January',28)]\n",
    "test4_Thanh = [('June',20)]\n",
    "\n",
    "print(\"The original list 1 : \" + str(test1_Fatima))\n",
    "print(\"The original list 2 : \" + str(test2_Amy))\n",
    "print(\"The original list 3 : \" + str(test3_Angel))\n",
    "print(\"The original list 4 : \" + str(test4_Thanh))\n",
    "\n",
    "res = test1_Fatima == test4_Thanh\n",
    "\n",
    "print(\"Do they have the same birthday ? : \" + str(res))\n",
    "#I tried to test Fatima and Thanh's birthday and they are the same, so True!"
   ]
  },
  {
   "cell_type": "markdown",
   "id": "a3e7a45b",
   "metadata": {},
   "source": [
    "## Exercise 5\n",
    "For this exercise, you are *not* allowed to use the `.replace()` function or a similar single string command to complete the exercise. For example, you could make a list of the input string and then use list manipulations to complete the task.\n",
    "\n",
    "1. Write a function or script that takes in two strings, and returns the first string minus all instances of the second string. You may assume the second string is a single character.  For example, an input of \"Hello World\" where \"l\" is removed should result in \"Heo Word\".\n",
    "1. Test your function by specifying \"i\" to be removed from \"Supercalifragilisticexpialidocious\"\n",
    "\n",
    "Bonus: Modify your function to allow the second string to be more than one characer. Test your new function by specifying \"data\" to be removed from \"data 3401 introduction to python for data science\". (This should result in ' 3401 introduction to python for  science'\n",
    "\n",
    "**Example:** if your function is called `replace_string(str1,str2)`, then for part 2 you should print `replace_string('Supercalifragilisticexpialidocious','i')` and for the bonus you should print `replace_string('data 3401 introduction to python for data science','data')`"
   ]
  },
  {
   "cell_type": "markdown",
   "id": "e7be87ab",
   "metadata": {},
   "source": [
    "Exercise 5 Part 1"
   ]
  },
  {
   "cell_type": "code",
   "execution_count": 1,
   "id": "80e4920a",
   "metadata": {},
   "outputs": [
    {
     "name": "stdout",
     "output_type": "stream",
     "text": [
      "Heo Word\n"
     ]
    }
   ],
   "source": [
    "my_string = \"Hello World\"\n",
    "\n",
    "replacements = [('l', ''), ('l', '')]\n",
    "\n",
    "for char, replacement in replacements:\n",
    "    if char in my_string:\n",
    "        my_string = my_string.replace(char, replacement)\n",
    "\n",
    "print(my_string)"
   ]
  },
  {
   "cell_type": "code",
   "execution_count": 60,
   "id": "8dca4224",
   "metadata": {},
   "outputs": [
    {
     "name": "stdout",
     "output_type": "stream",
     "text": [
      "Supercalfraglstcexpaldocous\n"
     ]
    }
   ],
   "source": [
    "my_string = \"Supercalifragilisticexpialidocious\"\n",
    "\n",
    "replacements = [('i', '')]\n",
    "\n",
    "for char, replacement in replacements:\n",
    "    if char in my_string:\n",
    "        my_string = my_string.replace(char, replacement)\n",
    "\n",
    "print(my_string)"
   ]
  },
  {
   "cell_type": "code",
   "execution_count": 61,
   "id": "d28ef738",
   "metadata": {},
   "outputs": [
    {
     "name": "stdout",
     "output_type": "stream",
     "text": [
      " 3401 introduction to python for  science\n"
     ]
    }
   ],
   "source": [
    "my_string = \"data 3401 introduction to python for data science\"\n",
    "\n",
    "replacements = [('data', '')]\n",
    "\n",
    "for char, replacement in replacements:\n",
    "    if char in my_string:\n",
    "        my_string = my_string.replace(char, replacement)\n",
    "\n",
    "print(my_string)"
   ]
  },
  {
   "cell_type": "code",
   "execution_count": null,
   "id": "0b4cffe0",
   "metadata": {},
   "outputs": [],
   "source": []
  }
 ],
 "metadata": {
  "kernelspec": {
   "display_name": "Python 3 (ipykernel)",
   "language": "python",
   "name": "python3"
  },
  "language_info": {
   "codemirror_mode": {
    "name": "ipython",
    "version": 3
   },
   "file_extension": ".py",
   "mimetype": "text/x-python",
   "name": "python",
   "nbconvert_exporter": "python",
   "pygments_lexer": "ipython3",
   "version": "3.9.13"
  }
 },
 "nbformat": 4,
 "nbformat_minor": 5
}
