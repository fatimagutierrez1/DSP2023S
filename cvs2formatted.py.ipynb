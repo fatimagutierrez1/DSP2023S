{
 "cells": [
  {
   "cell_type": "code",
   "execution_count": 17,
   "id": "51ac0a55",
   "metadata": {},
   "outputs": [],
   "source": [
    "import sys\n",
    "if len(sys.argv)!=3:\n",
    "        print(\"Usage: python csv2formatted.py<input_file> <ouput_file>\")\n",
    "        sys.exit(1)\n",
    "\n",
    "input_file=sys.argv[1]\n",
    "output_file=sys.argv[2]"
   ]
  },
  {
   "cell_type": "code",
   "execution_count": 20,
   "id": "6bd5265e",
   "metadata": {},
   "outputs": [],
   "source": [
    "def f(input_file,output_file):\n",
    "    with open(input_file,'r') as f_in, open(output_file, 'w') as f_out:\n",
    "            for line in f_in:\n",
    "                values=[float(x) for x in line.strip().split(',')]\n",
    "                formatted_values=[f'{x:.3f}' for x in values]\n",
    "                formatted_line=' '.join(formatted_values)+'\\n'\n",
    "                f_out.write(formatted_line)"
   ]
  },
  {
   "cell_type": "code",
   "execution_count": 21,
   "id": "9d71da1d",
   "metadata": {},
   "outputs": [],
   "source": [
    "f('homework.csv','formatted2.txt')"
   ]
  },
  {
   "cell_type": "code",
   "execution_count": 24,
   "id": "53523024",
   "metadata": {},
   "outputs": [
    {
     "ename": "SyntaxError",
     "evalue": "invalid syntax (1119058764.py, line 1)",
     "output_type": "error",
     "traceback": [
      "\u001b[1;36m  Cell \u001b[1;32mIn[24], line 1\u001b[1;36m\u001b[0m\n\u001b[1;33m    python csv2formatted.py data.in data.python.out\u001b[0m\n\u001b[1;37m           ^\u001b[0m\n\u001b[1;31mSyntaxError\u001b[0m\u001b[1;31m:\u001b[0m invalid syntax\n"
     ]
    }
   ],
   "source": [
    "python csv2formatted.py data.in data.python.out\n",
    "#not sure why I keep getting an error here"
   ]
  },
  {
   "cell_type": "code",
   "execution_count": null,
   "id": "4e3d457a",
   "metadata": {},
   "outputs": [],
   "source": []
  }
 ],
 "metadata": {
  "kernelspec": {
   "display_name": "Python 3 (ipykernel)",
   "language": "python",
   "name": "python3"
  },
  "language_info": {
   "codemirror_mode": {
    "name": "ipython",
    "version": 3
   },
   "file_extension": ".py",
   "mimetype": "text/x-python",
   "name": "python",
   "nbconvert_exporter": "python",
   "pygments_lexer": "ipython3",
   "version": "3.10.9"
  }
 },
 "nbformat": 4,
 "nbformat_minor": 5
}
