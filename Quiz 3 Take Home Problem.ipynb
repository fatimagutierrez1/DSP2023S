{
 "cells": [
  {
   "cell_type": "markdown",
   "id": "b1e672e3",
   "metadata": {},
   "source": [
    "# <center>Lab 9 &ndash; DATA 3401 (Fall 2022)</center>\n",
    "\n",
    "## Lab Date: 11/11\n",
    "## Due Date 1/18 (before the beginning of lab)\n",
    "\n",
    "## Lab Description\n",
    "The purpose of this lab is for you to become more familiar with reading and writing .txt files"
   ]
  },
  {
   "cell_type": "markdown",
   "id": "266ca2b4",
   "metadata": {},
   "source": [
    "## Exercise 1\n",
    "\n",
    "1. Download the file `Shakespeare.txt` from this folder of the course repo into your Lab9 folder. \n",
    "1. Open the file in read mode, and print the file one line at a time in your notebook (get rid of any extra line breaks if they appear)\n",
    "1. Write a function that takes a single character string input argument that counts the number of times that character appears in the text file (that is, `count_char(char)` should return the number of times `char` appears in the file, where `char` could be `a`, `b`, `c`, ...)\n",
    "1. Using your function from the previous part, count the number of times a, e, ', and '&nbsp;' (the space character) appear in the document. Display the counts nicely with print statements. "
   ]
  },
  {
   "cell_type": "code",
   "execution_count": null,
   "id": "b3cad8fb",
   "metadata": {},
   "outputs": [],
   "source": [
    "# Write your solutions here\n"
   ]
  },
  {
   "cell_type": "markdown",
   "id": "c57e3b5d",
   "metadata": {},
   "source": [
    "## Exercise 2\n",
    "\n",
    "1. Write a function that takes in three arguments `string`, `char`, `replacement`, that replaces every instance of `char` in `string` with `replacement`.  For example, `replace('Hello','l','!')` would return `He!!o`.  Note, you may use your function from the midterm as a starting point.\n",
    "1. Capture the text from `Shakespeare.txt`, and replace all of the character 'a' with '#'\n",
    "1. Write the new text to a new file called `Shakespeare_modified.txt`"
   ]
  },
  {
   "cell_type": "code",
   "execution_count": null,
   "id": "7868f952",
   "metadata": {},
   "outputs": [],
   "source": [
    "# Write your solutions here\n"
   ]
  },
  {
   "cell_type": "markdown",
   "id": "33068a69",
   "metadata": {},
   "source": [
    "## Exercise 3\n",
    "\n",
    "1. Write a function that takes an integer input argument `n`, opens the `Shakespeare.txt` file, and creates a list of all words in the file whose length is less than or equal to `n`.\n",
    "1. Test your function with `n=2, 4, 6`. For each `n`, you should print out the full list."
   ]
  },
  {
   "cell_type": "code",
   "execution_count": 3,
   "id": "ce8f33aa",
   "metadata": {},
   "outputs": [],
   "source": [
    "def Shakespeare_words(n):\n",
    "    with open('Shakespeare.txt', 'r') as file:\n",
    "        words=file.read().split()\n",
    "    return [word for word in words if len(word) <= n]"
   ]
  },
  {
   "cell_type": "code",
   "execution_count": 6,
   "id": "a7a42691",
   "metadata": {},
   "outputs": [
    {
     "name": "stdout",
     "output_type": "stream",
     "text": [
      "Words with length less than or equal to 2:\n",
      "['So', 'is', 'it', 'me', 'as', 'by', 'a', 'to', 'a', 'of', 'in', \"O'\", 'in', 'my', 'is', 'as', 'As', 'so', 'As', 'in', 'of', 'I', 'to']\n",
      "Words with length less than or equal to 4:\n",
      "['So', 'is', 'it', 'not', 'with', 'me', 'as', 'with', 'that', 'Muse', 'by', 'a', 'to', 'his', 'Who', 'for', 'doth', 'use', 'And', 'fair', 'with', 'his', 'fair', 'doth', 'a', 'of', 'With', 'sun', 'and', 'with', 'and', 'rich', 'With', 'and', 'all', 'rare', 'That', 'air', 'in', 'this', 'huge', \"O'\", 'let', 'me,', 'true', 'in', 'but', 'And', 'then', 'me,', 'my', 'love', 'is', 'as', 'fair', 'As', 'any', 'not', 'so', 'As', 'gold', 'in', 'air:', 'Let', 'them', 'say', 'more', 'than', 'like', 'of', 'I', 'will', 'not', 'that', 'not', 'to']\n",
      "Words with length less than or equal to 6:\n",
      "['So', 'is', 'it', 'not', 'with', 'me', 'as', 'with', 'that', 'Muse', 'by', 'a', 'beauty', 'to', 'his', 'verse,', 'Who', 'heaven', 'itself', 'for', 'doth', 'use', 'And', 'every', 'fair', 'with', 'his', 'fair', 'doth', 'Making', 'a', 'of', 'proud', 'With', 'sun', 'and', 'moon,', 'with', 'earth', 'and', \"sea's\", 'rich', 'gems,', 'With', 'and', 'all', 'things', 'rare', 'That', 'air', 'in', 'this', 'huge', 'hems.', \"O'\", 'let', 'me,', 'true', 'in', 'love,', 'but', 'truly', 'write,', 'And', 'then', 'me,', 'my', 'love', 'is', 'as', 'fair', 'As', 'any', 'child,', 'though', 'not', 'so', 'bright', 'As', 'those', 'gold', \"fix'd\", 'in', 'air:', 'Let', 'them', 'say', 'more', 'than', 'like', 'of', 'well;', 'I', 'will', 'not', 'praise', 'that', 'not', 'to', 'sell.']\n"
     ]
    }
   ],
   "source": [
    "n_values = [2, 4, 6]\n",
    "for n in n_values:\n",
    "    words=Shakespeare_words(n)\n",
    "    print(f'Words with length less than or equal to {n}:')\n",
    "    print(words)"
   ]
  },
  {
   "cell_type": "code",
   "execution_count": null,
   "id": "57483dd5",
   "metadata": {},
   "outputs": [],
   "source": []
  }
 ],
 "metadata": {
  "kernelspec": {
   "display_name": "Python 3 (ipykernel)",
   "language": "python",
   "name": "python3"
  },
  "language_info": {
   "codemirror_mode": {
    "name": "ipython",
    "version": 3
   },
   "file_extension": ".py",
   "mimetype": "text/x-python",
   "name": "python",
   "nbconvert_exporter": "python",
   "pygments_lexer": "ipython3",
   "version": "3.10.9"
  }
 },
 "nbformat": 4,
 "nbformat_minor": 5
}
