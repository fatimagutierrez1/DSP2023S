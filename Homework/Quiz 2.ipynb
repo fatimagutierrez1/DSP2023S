{
 "cells": [
  {
   "cell_type": "markdown",
   "id": "0f56d704",
   "metadata": {},
   "source": [
    "Problem 1 (A)"
   ]
  },
  {
   "cell_type": "code",
   "execution_count": null,
   "id": "ac7e00bf",
   "metadata": {},
   "outputs": [],
   "source": [
    "#closest programming language to machine code is assembly"
   ]
  },
  {
   "cell_type": "markdown",
   "id": "358b3529",
   "metadata": {},
   "source": [
    "Problem 1 (B)"
   ]
  },
  {
   "cell_type": "code",
   "execution_count": null,
   "id": "9dad8014",
   "metadata": {},
   "outputs": [],
   "source": [
    "#yes, the assembler interprets the program"
   ]
  },
  {
   "cell_type": "markdown",
   "id": "e53aea35",
   "metadata": {},
   "source": [
    "Problem 2 (A)\n"
   ]
  },
  {
   "cell_type": "code",
   "execution_count": null,
   "id": "43f37680",
   "metadata": {},
   "outputs": [],
   "source": [
    "#fortran"
   ]
  },
  {
   "cell_type": "markdown",
   "id": "1956a8b7",
   "metadata": {},
   "source": [
    "Problem 2 (B)"
   ]
  },
  {
   "cell_type": "code",
   "execution_count": null,
   "id": "fcc4bf3a",
   "metadata": {},
   "outputs": [],
   "source": [
    "#1950s"
   ]
  },
  {
   "cell_type": "markdown",
   "id": "31dab1b9",
   "metadata": {},
   "source": [
    "Problem 3 (A)"
   ]
  },
  {
   "cell_type": "code",
   "execution_count": null,
   "id": "34c2bb50",
   "metadata": {},
   "outputs": [],
   "source": [
    "#the assembly"
   ]
  },
  {
   "cell_type": "markdown",
   "id": "5fc2cb68",
   "metadata": {},
   "source": [
    "Problem 3 (B)"
   ]
  },
  {
   "cell_type": "code",
   "execution_count": null,
   "id": "af84ff1d",
   "metadata": {},
   "outputs": [],
   "source": [
    "#third, third, third, fourth, fourth, fourth"
   ]
  },
  {
   "cell_type": "markdown",
   "id": "0ec15812",
   "metadata": {},
   "source": [
    "Problem 4"
   ]
  },
  {
   "cell_type": "code",
   "execution_count": null,
   "id": "ac1bc663",
   "metadata": {},
   "outputs": [],
   "source": [
    "#1970s,1980s,1980s,1990s"
   ]
  },
  {
   "cell_type": "markdown",
   "id": "1aa377d1",
   "metadata": {},
   "source": [
    "Problem 5"
   ]
  },
  {
   "cell_type": "code",
   "execution_count": null,
   "id": "b00f6bf9",
   "metadata": {},
   "outputs": [],
   "source": [
    "#B"
   ]
  },
  {
   "cell_type": "markdown",
   "id": "c3c6fa97",
   "metadata": {},
   "source": [
    "Problem 6"
   ]
  },
  {
   "cell_type": "code",
   "execution_count": null,
   "id": "4147ad35",
   "metadata": {},
   "outputs": [],
   "source": [
    "#C Simula"
   ]
  },
  {
   "cell_type": "markdown",
   "id": "b4dda850",
   "metadata": {},
   "source": [
    "Poblem 7"
   ]
  },
  {
   "cell_type": "code",
   "execution_count": null,
   "id": "282efd35",
   "metadata": {},
   "outputs": [],
   "source": [
    "#Fortran/C"
   ]
  },
  {
   "cell_type": "markdown",
   "id": "262d8a10",
   "metadata": {},
   "source": [
    "Porblem 8"
   ]
  },
  {
   "cell_type": "code",
   "execution_count": null,
   "id": "c8e1878b",
   "metadata": {},
   "outputs": [],
   "source": [
    "#sintax erros"
   ]
  },
  {
   "cell_type": "code",
   "execution_count": null,
   "id": "ffd1b699",
   "metadata": {},
   "outputs": [],
   "source": [
    "#runtime erros"
   ]
  },
  {
   "cell_type": "code",
   "execution_count": null,
   "id": "4bd6df4a",
   "metadata": {},
   "outputs": [],
   "source": [
    "#semantic errors"
   ]
  },
  {
   "cell_type": "markdown",
   "id": "195fd8cd",
   "metadata": {},
   "source": [
    "Problem 9"
   ]
  },
  {
   "cell_type": "code",
   "execution_count": null,
   "id": "4bd2e59e",
   "metadata": {},
   "outputs": [],
   "source": [
    "#syntax erros because it will only run once problem is solved"
   ]
  },
  {
   "cell_type": "markdown",
   "id": "fda913d8",
   "metadata": {},
   "source": [
    "Problem 10"
   ]
  },
  {
   "cell_type": "code",
   "execution_count": null,
   "id": "807d97a1",
   "metadata": {},
   "outputs": [],
   "source": [
    "#semantic errors because then it will interpret it and it will run like if there is no error"
   ]
  },
  {
   "cell_type": "markdown",
   "id": "20ef0952",
   "metadata": {},
   "source": [
    "Problem 11"
   ]
  },
  {
   "cell_type": "code",
   "execution_count": null,
   "id": "7ba0e266",
   "metadata": {},
   "outputs": [],
   "source": [
    "#runtime error"
   ]
  },
  {
   "cell_type": "markdown",
   "id": "4e37ad0e",
   "metadata": {},
   "source": [
    "Problem 12"
   ]
  },
  {
   "cell_type": "code",
   "execution_count": null,
   "id": "5d659b4f",
   "metadata": {},
   "outputs": [],
   "source": [
    "#2,147,483,647"
   ]
  },
  {
   "cell_type": "markdown",
   "id": "8183622d",
   "metadata": {},
   "source": [
    "Problem 13"
   ]
  },
  {
   "cell_type": "code",
   "execution_count": null,
   "id": "308b536f",
   "metadata": {},
   "outputs": [],
   "source": [
    "#int16 is 16 bits storage and int64 is 64 bits storage"
   ]
  },
  {
   "cell_type": "markdown",
   "id": "865c1829",
   "metadata": {},
   "source": [
    "Problem 14"
   ]
  },
  {
   "cell_type": "code",
   "execution_count": 6,
   "id": "a34bd9f8",
   "metadata": {},
   "outputs": [
    {
     "ename": "AttributeError",
     "evalue": "'str' object has no attribute 'replay'",
     "output_type": "error",
     "traceback": [
      "\u001b[1;31m---------------------------------------------------------------------------\u001b[0m",
      "\u001b[1;31mAttributeError\u001b[0m                            Traceback (most recent call last)",
      "\u001b[1;32m~\\AppData\\Local\\Temp\\ipykernel_40336\\1911832743.py\u001b[0m in \u001b[0;36m<module>\u001b[1;34m\u001b[0m\n\u001b[1;32m----> 1\u001b[1;33m \u001b[0mprint\u001b[0m\u001b[1;33m(\u001b[0m\u001b[1;34m\"Python Is Great For String Manipulation.\"\u001b[0m\u001b[1;33m.\u001b[0m\u001b[0mreplay\u001b[0m \u001b[1;33m[\u001b[0m\u001b[1;33m:\u001b[0m\u001b[1;33m:\u001b[0m\u001b[1;33m-\u001b[0m\u001b[1;36m1\u001b[0m\u001b[1;33m]\u001b[0m\u001b[1;33m)\u001b[0m\u001b[1;33m\u001b[0m\u001b[1;33m\u001b[0m\u001b[0m\n\u001b[0m",
      "\u001b[1;31mAttributeError\u001b[0m: 'str' object has no attribute 'replay'"
     ]
    }
   ],
   "source": [
    "print(\"Python Is Great For String Manipulation.\".replay [::-1])"
   ]
  },
  {
   "cell_type": "code",
   "execution_count": null,
   "id": "0c8bcf87",
   "metadata": {},
   "outputs": [],
   "source": []
  },
  {
   "cell_type": "code",
   "execution_count": null,
   "id": "0cc602dd",
   "metadata": {},
   "outputs": [],
   "source": []
  },
  {
   "cell_type": "markdown",
   "id": "bd39fb9e",
   "metadata": {},
   "source": [
    "Problem 15"
   ]
  },
  {
   "cell_type": "code",
   "execution_count": 3,
   "id": "e72cdf2c",
   "metadata": {},
   "outputs": [
    {
     "name": "stdout",
     "output_type": "stream",
     "text": [
      ".otlpnMgit i ar Inhy\n"
     ]
    }
   ],
   "source": [
    "print(\"Python Is Great Fir String Manipulation.\"[::-2])"
   ]
  },
  {
   "cell_type": "code",
   "execution_count": null,
   "id": "bb199c9d",
   "metadata": {},
   "outputs": [],
   "source": []
  },
  {
   "cell_type": "code",
   "execution_count": null,
   "id": "500b8efa",
   "metadata": {},
   "outputs": [],
   "source": []
  },
  {
   "cell_type": "markdown",
   "id": "be8a9365",
   "metadata": {},
   "source": [
    "Problem 16"
   ]
  },
  {
   "cell_type": "code",
   "execution_count": 7,
   "id": "de68907b",
   "metadata": {},
   "outputs": [
    {
     "data": {
      "text/plain": [
       "{}"
      ]
     },
     "execution_count": 7,
     "metadata": {},
     "output_type": "execute_result"
    }
   ],
   "source": [
    "{}"
   ]
  },
  {
   "cell_type": "markdown",
   "id": "6e3b42a4",
   "metadata": {},
   "source": [
    "Problem 17"
   ]
  },
  {
   "cell_type": "code",
   "execution_count": null,
   "id": "c4dcf9f3",
   "metadata": {},
   "outputs": [],
   "source": [
    "#overflowed variable cycles, then the value starts again from the smallest"
   ]
  },
  {
   "cell_type": "markdown",
   "id": "cc8083bc",
   "metadata": {},
   "source": [
    "Problem 18"
   ]
  },
  {
   "cell_type": "code",
   "execution_count": 8,
   "id": "2cac7486",
   "metadata": {},
   "outputs": [],
   "source": [
    "classes={3313:\"Differential Equations\", 3401:\"Python\", 3307:\"Elementary Number Theory\", 4321:\"Abstract ALgebra\", 4335:\"Analysis\"}"
   ]
  },
  {
   "cell_type": "code",
   "execution_count": 10,
   "id": "1b1371e3",
   "metadata": {},
   "outputs": [
    {
     "data": {
      "text/plain": [
       "{3313: 'Differential Equations',\n",
       " 3401: 'Python',\n",
       " 3307: 'Elementary Number Theory',\n",
       " 4321: 'Abstract ALgebra',\n",
       " 4335: 'Analysis'}"
      ]
     },
     "execution_count": 10,
     "metadata": {},
     "output_type": "execute_result"
    }
   ],
   "source": [
    "classes"
   ]
  },
  {
   "cell_type": "code",
   "execution_count": 19,
   "id": "306ab3d0",
   "metadata": {},
   "outputs": [
    {
     "ename": "SyntaxError",
     "evalue": "cannot delete literal (2366886713.py, line 1)",
     "output_type": "error",
     "traceback": [
      "\u001b[1;36m  File \u001b[1;32m\"C:\\Users\\gfati\\AppData\\Local\\Temp\\ipykernel_40336\\2366886713.py\"\u001b[1;36m, line \u001b[1;32m1\u001b[0m\n\u001b[1;33m    del 3313:\"Differential Equations\"\u001b[0m\n\u001b[1;37m        ^\u001b[0m\n\u001b[1;31mSyntaxError\u001b[0m\u001b[1;31m:\u001b[0m cannot delete literal\n"
     ]
    }
   ],
   "source": [
    "del 3313:\"Differential Equations\""
   ]
  },
  {
   "cell_type": "code",
   "execution_count": null,
   "id": "ebef520d",
   "metadata": {},
   "outputs": [],
   "source": []
  },
  {
   "cell_type": "markdown",
   "id": "1c40ca63",
   "metadata": {},
   "source": [
    "Problem 19"
   ]
  },
  {
   "cell_type": "code",
   "execution_count": 31,
   "id": "84739782",
   "metadata": {},
   "outputs": [],
   "source": [
    "rev = fox = True\n",
    "Persian = ['a human language']\n",
    "true = fox is rev in Persian"
   ]
  },
  {
   "cell_type": "code",
   "execution_count": null,
   "id": "3165513e",
   "metadata": {},
   "outputs": [],
   "source": []
  },
  {
   "cell_type": "markdown",
   "id": "c638fe81",
   "metadata": {},
   "source": [
    "Problem 20"
   ]
  },
  {
   "cell_type": "code",
   "execution_count": null,
   "id": "60b4cfde",
   "metadata": {},
   "outputs": [],
   "source": [
    "#Conversion of one data type to another, can be implicit or explicit\n",
    "#example: using print of non strings converts the non string into a string"
   ]
  },
  {
   "cell_type": "markdown",
   "id": "15eeca6b",
   "metadata": {},
   "source": [
    "Problem 21"
   ]
  },
  {
   "cell_type": "code",
   "execution_count": null,
   "id": "6d474cf8",
   "metadata": {},
   "outputs": [],
   "source": [
    "#Aliasing happens whenever one variable's value is assigned to another variable\n",
    "#Copying used on objects to create copies of them"
   ]
  },
  {
   "cell_type": "markdown",
   "id": "7ea05869",
   "metadata": {},
   "source": [
    "Problem 22"
   ]
  },
  {
   "cell_type": "code",
   "execution_count": 23,
   "id": "7b74f351",
   "metadata": {},
   "outputs": [],
   "source": [
    "#== compares the value of 2 things\n",
    "#is is the identity operator"
   ]
  },
  {
   "cell_type": "markdown",
   "id": "82d11910",
   "metadata": {},
   "source": [
    "Problem 23"
   ]
  },
  {
   "cell_type": "code",
   "execution_count": 32,
   "id": "9e6c481f",
   "metadata": {},
   "outputs": [],
   "source": [
    "a = b = c = [1,2,3] #Set a,b,c equal to each other, so they all are [1,2,3]"
   ]
  },
  {
   "cell_type": "code",
   "execution_count": 33,
   "id": "ad6d89b0",
   "metadata": {},
   "outputs": [
    {
     "data": {
      "text/plain": [
       "True"
      ]
     },
     "execution_count": 33,
     "metadata": {},
     "output_type": "execute_result"
    }
   ],
   "source": [
    "a is b is c"
   ]
  },
  {
   "cell_type": "code",
   "execution_count": 34,
   "id": "0aa095a7",
   "metadata": {},
   "outputs": [],
   "source": [
    "#What the command ^ does: previously, we set a,b,c equal to each other. So now we asked if a is b and if b is c\n",
    "#What the output of the command is: The answer was true because a=b=c\n",
    "#Why: Since we had set all of them equal to each other, then commanded a is b is c we just reasured that this was still the case as before, and got the answwer as true, so yes"
   ]
  },
  {
   "cell_type": "markdown",
   "id": "8ca1274b",
   "metadata": {},
   "source": [
    "Problem 24"
   ]
  },
  {
   "cell_type": "code",
   "execution_count": 35,
   "id": "2d98189c",
   "metadata": {},
   "outputs": [],
   "source": [
    "[a,b] = [c,d] = [4,5] #Set [a,b] and [c,d] equal to each other so they both are [4,5]"
   ]
  },
  {
   "cell_type": "code",
   "execution_count": 36,
   "id": "ad79e03a",
   "metadata": {},
   "outputs": [
    {
     "data": {
      "text/plain": [
       "False"
      ]
     },
     "execution_count": 36,
     "metadata": {},
     "output_type": "execute_result"
    }
   ],
   "source": [
    "[a,b] is [c,d]"
   ]
  },
  {
   "cell_type": "code",
   "execution_count": 37,
   "id": "dcd0719c",
   "metadata": {},
   "outputs": [],
   "source": [
    "#What the command ^ does: Saying [a,b] is the same as [c,d]\n",
    "#What the output of the command is: False\n",
    "#Why:The statement is false"
   ]
  },
  {
   "cell_type": "code",
   "execution_count": null,
   "id": "778150b2",
   "metadata": {},
   "outputs": [],
   "source": []
  }
 ],
 "metadata": {
  "kernelspec": {
   "display_name": "Python 3 (ipykernel)",
   "language": "python",
   "name": "python3"
  },
  "language_info": {
   "codemirror_mode": {
    "name": "ipython",
    "version": 3
   },
   "file_extension": ".py",
   "mimetype": "text/x-python",
   "name": "python",
   "nbconvert_exporter": "python",
   "pygments_lexer": "ipython3",
   "version": "3.9.13"
  }
 },
 "nbformat": 4,
 "nbformat_minor": 5
}
