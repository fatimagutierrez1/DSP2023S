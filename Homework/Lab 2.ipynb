{
 "cells": [
  {
   "cell_type": "markdown",
   "metadata": {},
   "source": [
    "# <center>Lab 2 &ndash; DATA 3401 (Spring 2023)</center>\n",
    "\n",
    "## Lab Date: 2/10\n",
    "## Due Date 2/17 (before the beginning of Lab)\n",
    "\n",
    "## Lab Description\n",
    "The purpose of this lab is for you to\n",
    "- Install Python\n",
    "- Learn to create Jupyter notebooks\n",
    "- Make your first Jupyter notebook with some basic programs"
   ]
  },
  {
   "cell_type": "markdown",
   "metadata": {},
   "source": [
    "## Task 1 &ndash; Installing Python and Anaconda\n",
    "[python](https://www.python.org/downloads/)\n",
    "[anaconda](https://www.anaconda.com/products/distribution)"
   ]
  },
  {
   "cell_type": "markdown",
   "metadata": {},
   "source": [
    "## Task 2 &ndash; Creating your first Jupyter notebook (Ubuntu)\n",
    "1. Open an Ubuntu terminal and navigate to your desired folder (e.g., 'cd /mnt/c/users/username/DATA3401')\n",
    "    - For this course, your folder should most likely be your local GitHub repo\n",
    "1. Once in the folder, type the following command: `jupyter notebook --no-browser`\n",
    "1. You should see a set of two urls. Select one of them using your mouse$^\\ast$; copy the url with `ctrl+shift+c`; paste the url into a web browser (`ctrl+v`)\n",
    "    - $^\\ast$If this does not work for you, right click on the top bar of the terminal and go to Properties. Then make sure your options match these\n",
    "    \n",
    "    <img src=\"TerminalProperties.png\" alt=\"Image Missing\" width=\"300\"/>\n",
    "    \n",
    "1. You should now see a file system open in your browser\n",
    "1. Navigate to folder that is linked to your GitHub repo for this course (if you didn't already do this in step 1)\n",
    "1. Once inside the folder, click \"New\" and select \"Python 3\" under the Notebook heading\n",
    "1. You should now have a jupyter notebook open in a new tab of your browser"
   ]
  },
  {
   "cell_type": "markdown",
   "metadata": {},
   "source": [
    "## Task 2 &ndash; Creating your first Jupyter notebook (Mac)\n",
    "1. Open a commant terminal and navigate to your desired folder (e.g., 'cd /mnt/c/users/username/DATA3401')\n",
    "    - For this course, your folder should most likely be your local GitHub repo\n",
    "1. In your command terminal, type `jupyter notebook`\n",
    "1. This *should* open a browser window with the jupyter file system in it\n",
    "1. You should now see a file system open in your browser\n",
    "1. Navigate to folder that is linked to your GitHub repo for this course (if you didn't already do this in step 1)\n",
    "1. Once inside the folder, click \"New\" and select \"Python 3\" under the Notebook heading\n",
    "1. You should now have a jupyter notebook open in a new tab of your browser"
   ]
  },
  {
   "cell_type": "markdown",
   "metadata": {},
   "source": [
    "## Exercise 1 &ndash; Creating your first simple program\n",
    "1. In the jupyter notebook that you just made, type the simple command `print('Hello World')` and run the cell by pressing `shift+enter`\n",
    "1. Title your notebook \"HelloWorld\", and add it to your GitHub repo in your Lab2 folder.\n",
    "1. Push all changes to your repo"
   ]
  },
  {
   "cell_type": "markdown",
   "metadata": {},
   "source": [
    "## Exercise 2 &ndash; Basic Python programming\n",
    "1. Create a new jupyter notebook in the same manner as before, and title it Lab2\n",
    "1. Copy and paste the cells below into your new notebook and add your solutions to each problem\n",
    "1. Once finished, and before the deadline, push your notebook with the solutions to the folder for Lab 2 in your GitHub repo\n",
    "    - Reminder: the TA and I will look at the last version of your repo committed to GitHub before the deadline"
   ]
  },
  {
   "cell_type": "markdown",
   "metadata": {},
   "source": [
    "### Problem 1: \n",
    "Write a script that defines two strings: your first name and last name, and prints them in reverse order with a space between them."
   ]
  },
  {
   "cell_type": "code",
   "execution_count": 1,
   "metadata": {},
   "outputs": [
    {
     "data": {
      "text/plain": [
       "'zerreituG amitaF'"
      ]
     },
     "execution_count": 1,
     "metadata": {},
     "output_type": "execute_result"
    }
   ],
   "source": [
    "\"Fatima Gutierrez\" [-1::-1]"
   ]
  },
  {
   "cell_type": "markdown",
   "metadata": {},
   "source": [
    "### Problem 2: \n",
    "Write a print command that displays the following (replace all my information with yours)\n",
    "\n",
    "My name is Keaton Hamm\\\n",
    "I am a Math major\\\n",
    "------------------------\\\n",
    "This is my Python string"
   ]
  },
  {
   "cell_type": "code",
   "execution_count": 3,
   "metadata": {},
   "outputs": [
    {
     "name": "stdout",
     "output_type": "stream",
     "text": [
      "My name is Fatima Gutierrez\n",
      "I am a Math major\n",
      "-----------------\n",
      "This is my Python string\n"
     ]
    }
   ],
   "source": [
    "print(\"My name is Fatima Gutierrez\")\n",
    "print(\"I am a Math major\")\n",
    "print(\"-----------------\")\n",
    "print(\"This is my Python string\")"
   ]
  },
  {
   "cell_type": "markdown",
   "metadata": {},
   "source": [
    "### Problem 3:\n",
    "Think about what the results would be for the following expressions, and then type them into the terminal to verify your answers. Briefly explain the results for each one."
   ]
  },
  {
   "cell_type": "code",
   "execution_count": null,
   "metadata": {},
   "outputs": [],
   "source": [
    "1/2 #This will divide 1/2 into a decimal because if it was 1//2 then it would divide into an integer 0.\n",
    "int(1/2) #This will be 0 because you specifically say it should be an integer \n",
    "int(9/10) #This will be 0 because you are specifically saying it should be an integer\n",
    "-5**2 #Returns X because -5 to the power of 2 is -25 since the -5 is not in () you are saying the answer sould be -\n",
    "(-5) ** 2  #Here is it 25 because -5 times -5 is positive 25\n",
    "10-6/2  #Will be 7 because of PEMDAS, first -6/2 is -3 and 10-3 is 7\n",
    "5*4/2*3 #Will be 30 because 5 times 4 is 20 and 20/2 is 10 and 10 times 3 is 30\n",
    "5*4/2**2*3 #Following the PEMDAS rule, the answer will be 15\n",
    "2^10 #The answer will be 8 because of the binary digits of 2 and 10"
   ]
  },
  {
   "cell_type": "markdown",
   "metadata": {},
   "source": [
    "### Problem 4:\n",
    "Write code that will print your name 10 times but without you writing your name out 10 times."
   ]
  },
  {
   "cell_type": "code",
   "execution_count": 4,
   "metadata": {},
   "outputs": [
    {
     "name": "stdout",
     "output_type": "stream",
     "text": [
      "Fatima Gutierrez\n",
      "Fatima Gutierrez\n",
      "Fatima Gutierrez\n",
      "Fatima Gutierrez\n",
      "Fatima Gutierrez\n",
      "Fatima Gutierrez\n",
      "Fatima Gutierrez\n",
      "Fatima Gutierrez\n",
      "Fatima Gutierrez\n",
      "Fatima Gutierrez\n",
      "\n"
     ]
    }
   ],
   "source": [
    "print(\"Fatima Gutierrez\\n\"*10)"
   ]
  },
  {
   "cell_type": "markdown",
   "metadata": {},
   "source": [
    "## Problem 5:\n",
    "Define the list `x = [1,2,3,4,'a','b','c','d']`\n",
    "1. Use list indexing commands to print every other element of the list starting with 2\n",
    "1. Use list indexing commands to print every third element of the list starting at 'd' and going backward\n",
    "1. Use list indexing commands to print elements 4 through 'c'"
   ]
  },
  {
   "cell_type": "code",
   "execution_count": 23,
   "metadata": {},
   "outputs": [
    {
     "data": {
      "text/plain": [
       "[2, 4, 'b', 'd']"
      ]
     },
     "execution_count": 23,
     "metadata": {},
     "output_type": "execute_result"
    }
   ],
   "source": [
    "[1,2,3,4,'a','b','c','d'][1::2]"
   ]
  },
  {
   "cell_type": "code",
   "execution_count": 2,
   "metadata": {},
   "outputs": [
    {
     "data": {
      "text/plain": [
       "['d', 'a', 2]"
      ]
     },
     "execution_count": 2,
     "metadata": {},
     "output_type": "execute_result"
    }
   ],
   "source": [
    "[1,2,3,4,'a','b','c','d'][-1::-3]\n"
   ]
  },
  {
   "cell_type": "code",
   "execution_count": 25,
   "metadata": {},
   "outputs": [
    {
     "data": {
      "text/plain": [
       "[4, 'a', 'b', 'c']"
      ]
     },
     "execution_count": 25,
     "metadata": {},
     "output_type": "execute_result"
    }
   ],
   "source": [
    "[1,2,3,4,'a','b','c','d'][3:7]"
   ]
  },
  {
   "cell_type": "code",
   "execution_count": null,
   "metadata": {},
   "outputs": [],
   "source": []
  }
 ],
 "metadata": {
  "kernelspec": {
   "display_name": "Python 3 (ipykernel)",
   "language": "python",
   "name": "python3"
  },
  "language_info": {
   "codemirror_mode": {
    "name": "ipython",
    "version": 3
   },
   "file_extension": ".py",
   "mimetype": "text/x-python",
   "name": "python",
   "nbconvert_exporter": "python",
   "pygments_lexer": "ipython3",
   "version": "3.9.13"
  }
 },
 "nbformat": 4,
 "nbformat_minor": 2
}
