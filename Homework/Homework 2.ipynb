{
 "cells": [
  {
   "cell_type": "code",
   "execution_count": 16,
   "id": "e403b862",
   "metadata": {},
   "outputs": [
    {
     "ename": "SyntaxError",
     "evalue": "unexpected character after line continuation character (237833712.py, line 1)",
     "output_type": "error",
     "traceback": [
      "\u001b[1;36m  File \u001b[1;32m\"C:\\Users\\gfati\\AppData\\Local\\Temp\\ipykernel_37236\\237833712.py\"\u001b[1;36m, line \u001b[1;32m1\u001b[0m\n\u001b[1;33m    1\\2 #This will give you an error because \\ is not to divide so you don't have outcome\u001b[0m\n\u001b[1;37m      ^\u001b[0m\n\u001b[1;31mSyntaxError\u001b[0m\u001b[1;31m:\u001b[0m unexpected character after line continuation character\n"
     ]
    }
   ],
   "source": [
    "1\\2 #This will give you an error because \\ is not to divide so you don't have outcome"
   ]
  },
  {
   "cell_type": "code",
   "execution_count": 6,
   "id": "36cfb1ca",
   "metadata": {},
   "outputs": [
    {
     "data": {
      "text/plain": [
       "0.5"
      ]
     },
     "execution_count": 6,
     "metadata": {},
     "output_type": "execute_result"
    }
   ],
   "source": [
    "1/2 #This will give you the answer in a decimal form since you are not asking for it to be an integer"
   ]
  },
  {
   "cell_type": "code",
   "execution_count": 20,
   "id": "53238511",
   "metadata": {},
   "outputs": [
    {
     "data": {
      "text/plain": [
       "0"
      ]
     },
     "execution_count": 20,
     "metadata": {},
     "output_type": "execute_result"
    }
   ],
   "source": [
    "import numpy as np\n",
    "np.int8(1/2) #This will give you a 0 because you are specifically asking it to be an integer"
   ]
  },
  {
   "cell_type": "code",
   "execution_count": 21,
   "id": "95741959",
   "metadata": {},
   "outputs": [
    {
     "data": {
      "text/plain": [
       "0"
      ]
     },
     "execution_count": 21,
     "metadata": {},
     "output_type": "execute_result"
    }
   ],
   "source": [
    "import numpy as np\n",
    "np.int8(1/3) #This will give you 0 because you are specifically asking it to be an integer"
   ]
  },
  {
   "cell_type": "code",
   "execution_count": 9,
   "id": "b4db135e",
   "metadata": {},
   "outputs": [
    {
     "data": {
      "text/plain": [
       "-7"
      ]
     },
     "execution_count": 9,
     "metadata": {},
     "output_type": "execute_result"
    }
   ],
   "source": [
    "-5^2 #This will give you -7 because of the binary digits of -5 and 2"
   ]
  },
  {
   "cell_type": "code",
   "execution_count": 10,
   "id": "85ca2ffc",
   "metadata": {},
   "outputs": [
    {
     "data": {
      "text/plain": [
       "-25"
      ]
     },
     "execution_count": 10,
     "metadata": {},
     "output_type": "execute_result"
    }
   ],
   "source": [
    "-5**2 #will be -25 because 5x5 is 25 and because of the - it will be -25. If there were () around the -5 then it would be 25 because a negative times a negative is a positive"
   ]
  },
  {
   "cell_type": "code",
   "execution_count": 11,
   "id": "b102a3cc",
   "metadata": {},
   "outputs": [
    {
     "data": {
      "text/plain": [
       "-7"
      ]
     },
     "execution_count": 11,
     "metadata": {},
     "output_type": "execute_result"
    }
   ],
   "source": [
    "(-5) ^ 2 #This will be -7 because the binary digits of (-5) and 2 are still -7"
   ]
  },
  {
   "cell_type": "code",
   "execution_count": 12,
   "id": "3074b68f",
   "metadata": {},
   "outputs": [
    {
     "data": {
      "text/plain": [
       "25"
      ]
     },
     "execution_count": 12,
     "metadata": {},
     "output_type": "execute_result"
    }
   ],
   "source": [
    "(-5)**2 #This will be 25 because a (-5)x(-5) is 25 hence (-5) squared is 25"
   ]
  },
  {
   "cell_type": "code",
   "execution_count": 13,
   "id": "27560156",
   "metadata": {},
   "outputs": [
    {
     "data": {
      "text/plain": [
       "7.0"
      ]
     },
     "execution_count": 13,
     "metadata": {},
     "output_type": "execute_result"
    }
   ],
   "source": [
    "10-6/2 #This will be 7 because of PEMDAS, 6/2 is 3 and 10-3 is 7"
   ]
  },
  {
   "cell_type": "code",
   "execution_count": 14,
   "id": "4e54bd27",
   "metadata": {},
   "outputs": [
    {
     "data": {
      "text/plain": [
       "30.0"
      ]
     },
     "execution_count": 14,
     "metadata": {},
     "output_type": "execute_result"
    }
   ],
   "source": [
    "5*4/2*3 #This will be 30 because we just calculate as we go hence 5x4 is 20 and 20/2 is 10 and 10x3 is 30"
   ]
  },
  {
   "cell_type": "markdown",
   "id": "cee29546",
   "metadata": {},
   "source": [
    "Problem 2"
   ]
  },
  {
   "cell_type": "code",
   "execution_count": 14,
   "id": "fddb9119",
   "metadata": {},
   "outputs": [
    {
     "ename": "NameError",
     "evalue": "name 'np' is not defined",
     "output_type": "error",
     "traceback": [
      "\u001b[1;31m---------------------------------------------------------------------------\u001b[0m",
      "\u001b[1;31mNameError\u001b[0m                                 Traceback (most recent call last)",
      "\u001b[1;32m~\\AppData\\Local\\Temp\\ipykernel_30080\\2722868950.py\u001b[0m in \u001b[0;36m<module>\u001b[1;34m\u001b[0m\n\u001b[1;32m----> 1\u001b[1;33m \u001b[0mii16\u001b[0m \u001b[1;33m=\u001b[0m \u001b[0mnp\u001b[0m\u001b[1;33m.\u001b[0m\u001b[0miinfo\u001b[0m\u001b[1;33m(\u001b[0m\u001b[0mnp\u001b[0m\u001b[1;33m.\u001b[0m\u001b[0mint16\u001b[0m\u001b[1;33m)\u001b[0m\u001b[1;33m\u001b[0m\u001b[1;33m\u001b[0m\u001b[0m\n\u001b[0m\u001b[0;32m      2\u001b[0m \u001b[0mii16\u001b[0m\u001b[1;33m.\u001b[0m\u001b[0mmin\u001b[0m\u001b[1;33m\u001b[0m\u001b[1;33m\u001b[0m\u001b[0m\n\u001b[0;32m      3\u001b[0m \u001b[0mii16\u001b[0m\u001b[1;33m.\u001b[0m\u001b[0mmax\u001b[0m\u001b[1;33m\u001b[0m\u001b[1;33m\u001b[0m\u001b[0m\n",
      "\u001b[1;31mNameError\u001b[0m: name 'np' is not defined"
     ]
    }
   ],
   "source": [
    "ii16 = np.iinfo(np.int16) #Not sure why this gets an error, but maybe because of the np. That is Numpy\n",
    "ii16.min\n",
    "ii16.max"
   ]
  },
  {
   "cell_type": "code",
   "execution_count": 15,
   "id": "cc952e36",
   "metadata": {},
   "outputs": [
    {
     "ename": "NameError",
     "evalue": "name 'np' is not defined",
     "output_type": "error",
     "traceback": [
      "\u001b[1;31m---------------------------------------------------------------------------\u001b[0m",
      "\u001b[1;31mNameError\u001b[0m                                 Traceback (most recent call last)",
      "\u001b[1;32m~\\AppData\\Local\\Temp\\ipykernel_30080\\2306235400.py\u001b[0m in \u001b[0;36m<module>\u001b[1;34m\u001b[0m\n\u001b[1;32m----> 1\u001b[1;33m \u001b[0mii32\u001b[0m \u001b[1;33m=\u001b[0m \u001b[0mnp\u001b[0m\u001b[1;33m.\u001b[0m\u001b[0miinfo\u001b[0m\u001b[1;33m(\u001b[0m\u001b[0mnp\u001b[0m\u001b[1;33m.\u001b[0m\u001b[0mint32\u001b[0m\u001b[1;33m)\u001b[0m\u001b[1;33m\u001b[0m\u001b[1;33m\u001b[0m\u001b[0m\n\u001b[0m\u001b[0;32m      2\u001b[0m \u001b[0mii32\u001b[0m\u001b[1;33m.\u001b[0m\u001b[0mmax\u001b[0m\u001b[1;33m\u001b[0m\u001b[1;33m\u001b[0m\u001b[0m\n\u001b[0;32m      3\u001b[0m \u001b[0mii32\u001b[0m\u001b[1;33m.\u001b[0m\u001b[0mmin\u001b[0m\u001b[1;33m\u001b[0m\u001b[1;33m\u001b[0m\u001b[0m\n",
      "\u001b[1;31mNameError\u001b[0m: name 'np' is not defined"
     ]
    }
   ],
   "source": [
    "ii32 = np.iinfo(np.int32) #Not sure why this gets an error, maybe because of the np (Numpy)\n",
    "ii32.max\n",
    "ii32.min"
   ]
  },
  {
   "cell_type": "code",
   "execution_count": null,
   "id": "70be9380",
   "metadata": {},
   "outputs": [],
   "source": []
  },
  {
   "cell_type": "markdown",
   "id": "7f962527",
   "metadata": {},
   "source": [
    "Problem 1"
   ]
  },
  {
   "cell_type": "code",
   "execution_count": 9,
   "id": "21b31fab",
   "metadata": {},
   "outputs": [],
   "source": [
    "a=1 #Plugging in variables"
   ]
  },
  {
   "cell_type": "code",
   "execution_count": 2,
   "id": "566e3704",
   "metadata": {},
   "outputs": [],
   "source": [
    "b='x' #Plugging in variables"
   ]
  },
  {
   "cell_type": "code",
   "execution_count": 4,
   "id": "d3911363",
   "metadata": {},
   "outputs": [],
   "source": [
    "c=True #Plugging in variables"
   ]
  },
  {
   "cell_type": "code",
   "execution_count": 10,
   "id": "c8858c12",
   "metadata": {},
   "outputs": [
    {
     "name": "stdout",
     "output_type": "stream",
     "text": [
      "No variables match your requested type.\n"
     ]
    }
   ],
   "source": [
    "whos a b c #Copied from the hw and for some reason is not working"
   ]
  },
  {
   "cell_type": "code",
   "execution_count": 11,
   "id": "04ad632b",
   "metadata": {},
   "outputs": [
    {
     "data": {
      "text/plain": [
       "True"
      ]
     },
     "execution_count": 11,
     "metadata": {},
     "output_type": "execute_result"
    }
   ],
   "source": [
    "a==c #1 and true is true"
   ]
  },
  {
   "cell_type": "code",
   "execution_count": 12,
   "id": "120e57a0",
   "metadata": {},
   "outputs": [
    {
     "data": {
      "text/plain": [
       "2"
      ]
     },
     "execution_count": 12,
     "metadata": {},
     "output_type": "execute_result"
    }
   ],
   "source": [
    "a+c #Two variables"
   ]
  },
  {
   "cell_type": "code",
   "execution_count": 14,
   "id": "f499bbdf",
   "metadata": {},
   "outputs": [],
   "source": [
    "d=[1 2 3 4] #Having d be a list"
   ]
  },
  {
   "cell_type": "code",
   "execution_count": 15,
   "id": "5d844f32",
   "metadata": {},
   "outputs": [],
   "source": [
    "e=['a' 'b' 'c' 'd'] #Having e be a list"
   ]
  },
  {
   "cell_type": "code",
   "execution_count": 17,
   "id": "af98ac3d",
   "metadata": {},
   "outputs": [],
   "source": [
    "f=['a','b','c','d'] #Having f be a list"
   ]
  },
  {
   "cell_type": "code",
   "execution_count": 18,
   "id": "84d78294",
   "metadata": {},
   "outputs": [],
   "source": [
    "g=['abcd'] #Having g be a list"
   ]
  },
  {
   "cell_type": "code",
   "execution_count": 19,
   "id": "eeb28228",
   "metadata": {},
   "outputs": [],
   "source": [
    "h={'a' 'b' 'c' 'd'} #Having h be a dictionary"
   ]
  },
  {
   "cell_type": "code",
   "execution_count": 20,
   "id": "0305cae8",
   "metadata": {},
   "outputs": [
    {
     "ename": "SyntaxError",
     "evalue": "invalid syntax (4001731648.py, line 1)",
     "output_type": "error",
     "traceback": [
      "\u001b[1;36m  File \u001b[1;32m\"C:\\Users\\gfati\\AppData\\Local\\Temp\\ipykernel_27528\\4001731648.py\"\u001b[1;36m, line \u001b[1;32m1\u001b[0m\n\u001b[1;33m    i={a b c d}\u001b[0m\n\u001b[1;37m         ^\u001b[0m\n\u001b[1;31mSyntaxError\u001b[0m\u001b[1;31m:\u001b[0m invalid syntax\n"
     ]
    }
   ],
   "source": [
    "i={a b c d} #Having i be a dictionary"
   ]
  },
  {
   "cell_type": "code",
   "execution_count": 21,
   "id": "bcba8cb7",
   "metadata": {},
   "outputs": [
    {
     "name": "stdout",
     "output_type": "stream",
     "text": [
      "No variables match your requested type.\n"
     ]
    }
   ],
   "source": [
    "whos d e f g h i #Copied from hw and for some reason not working, not sure why"
   ]
  },
  {
   "cell_type": "code",
   "execution_count": 22,
   "id": "162da6c0",
   "metadata": {},
   "outputs": [
    {
     "ename": "SyntaxError",
     "evalue": "invalid syntax (3950847182.py, line 1)",
     "output_type": "error",
     "traceback": [
      "\u001b[1;36m  File \u001b[1;32m\"C:\\Users\\gfati\\AppData\\Local\\Temp\\ipykernel_27528\\3950847182.py\"\u001b[1;36m, line \u001b[1;32m1\u001b[0m\n\u001b[1;33m    class(a)\u001b[0m\n\u001b[1;37m         ^\u001b[0m\n\u001b[1;31mSyntaxError\u001b[0m\u001b[1;31m:\u001b[0m invalid syntax\n"
     ]
    }
   ],
   "source": [
    "class(a) #a is the number one"
   ]
  },
  {
   "cell_type": "code",
   "execution_count": 23,
   "id": "06a4177e",
   "metadata": {},
   "outputs": [
    {
     "data": {
      "text/plain": [
       "int"
      ]
     },
     "execution_count": 23,
     "metadata": {},
     "output_type": "execute_result"
    }
   ],
   "source": [
    "type(a) #a is an integer, not a list or any other type"
   ]
  },
  {
   "cell_type": "code",
   "execution_count": 24,
   "id": "0198b3ab",
   "metadata": {},
   "outputs": [
    {
     "data": {
      "text/plain": [
       "True"
      ]
     },
     "execution_count": 24,
     "metadata": {},
     "output_type": "execute_result"
    }
   ],
   "source": [
    "True #True is a command on here so it must be capitalized"
   ]
  },
  {
   "cell_type": "code",
   "execution_count": 28,
   "id": "4ca3cc0f",
   "metadata": {},
   "outputs": [
    {
     "ename": "NameError",
     "evalue": "name 'true' is not defined",
     "output_type": "error",
     "traceback": [
      "\u001b[1;31m---------------------------------------------------------------------------\u001b[0m",
      "\u001b[1;31mNameError\u001b[0m                                 Traceback (most recent call last)",
      "\u001b[1;32m~\\AppData\\Local\\Temp\\ipykernel_27528\\592217714.py\u001b[0m in \u001b[0;36m<module>\u001b[1;34m\u001b[0m\n\u001b[1;32m----> 1\u001b[1;33m \u001b[0mtrue\u001b[0m\u001b[1;33m\u001b[0m\u001b[1;33m\u001b[0m\u001b[0m\n\u001b[0m",
      "\u001b[1;31mNameError\u001b[0m: name 'true' is not defined"
     ]
    }
   ],
   "source": [
    "true #True is a command, therefore the word true cannot work unless its capitalized"
   ]
  },
  {
   "cell_type": "code",
   "execution_count": 26,
   "id": "03d81063",
   "metadata": {},
   "outputs": [
    {
     "data": {
      "text/plain": [
       "False"
      ]
     },
     "execution_count": 26,
     "metadata": {},
     "output_type": "execute_result"
    }
   ],
   "source": [
    "False #This is a command, the command imput by itself will give you the command output by itself"
   ]
  },
  {
   "cell_type": "code",
   "execution_count": 29,
   "id": "4973f426",
   "metadata": {},
   "outputs": [
    {
     "ename": "NameError",
     "evalue": "name 'false' is not defined",
     "output_type": "error",
     "traceback": [
      "\u001b[1;31m---------------------------------------------------------------------------\u001b[0m",
      "\u001b[1;31mNameError\u001b[0m                                 Traceback (most recent call last)",
      "\u001b[1;32m~\\AppData\\Local\\Temp\\ipykernel_27528\\1273114308.py\u001b[0m in \u001b[0;36m<module>\u001b[1;34m\u001b[0m\n\u001b[1;32m----> 1\u001b[1;33m \u001b[0mfalse\u001b[0m\u001b[1;33m\u001b[0m\u001b[1;33m\u001b[0m\u001b[0m\n\u001b[0m",
      "\u001b[1;31mNameError\u001b[0m: name 'false' is not defined"
     ]
    }
   ],
   "source": [
    "false #This is a command, the word false cannot work unless its capitalized"
   ]
  },
  {
   "cell_type": "markdown",
   "id": "dbe34b83",
   "metadata": {},
   "source": [
    "Problem 2"
   ]
  },
  {
   "cell_type": "code",
   "execution_count": 30,
   "id": "f3831576",
   "metadata": {},
   "outputs": [],
   "source": [
    "a=5 #Plugging in variables"
   ]
  },
  {
   "cell_type": "code",
   "execution_count": 31,
   "id": "85f0d40f",
   "metadata": {},
   "outputs": [],
   "source": [
    "b=a #Plugging in variables"
   ]
  },
  {
   "cell_type": "code",
   "execution_count": 32,
   "id": "ccab8b14",
   "metadata": {},
   "outputs": [
    {
     "name": "stdout",
     "output_type": "stream",
     "text": [
      "1950128892336 1950128892336\n"
     ]
    }
   ],
   "source": [
    "print(id(a),id(b)) #Will give the same id because that is the cell id code for 5. This a is 5 and b is a, which is 5 the outcome is the same"
   ]
  },
  {
   "cell_type": "code",
   "execution_count": 33,
   "id": "5ae8d0c2",
   "metadata": {},
   "outputs": [],
   "source": [
    "c=b #Plugging in variables"
   ]
  },
  {
   "cell_type": "code",
   "execution_count": 34,
   "id": "bb92e239",
   "metadata": {},
   "outputs": [],
   "source": [
    "b=3 #Plugging in variables"
   ]
  },
  {
   "cell_type": "code",
   "execution_count": 35,
   "id": "550d1a1e",
   "metadata": {},
   "outputs": [
    {
     "name": "stdout",
     "output_type": "stream",
     "text": [
      "5 3 5\n"
     ]
    }
   ],
   "source": [
    "print(a,b,c) #We previouly said a=5 b=a which is 5 and then we said c=b so c is 5. Then we changed b=3, but that does not change the c value therefore we get 5 3 5"
   ]
  },
  {
   "cell_type": "code",
   "execution_count": 36,
   "id": "2f1771a0",
   "metadata": {},
   "outputs": [
    {
     "name": "stdout",
     "output_type": "stream",
     "text": [
      "1950128892336 1950128892272 1950128892336\n"
     ]
    }
   ],
   "source": [
    "print(id(a),id(b),id(c)) #We get the cell id code for the numbers above, a is now equal to c"
   ]
  },
  {
   "cell_type": "code",
   "execution_count": 37,
   "id": "dd14ae26",
   "metadata": {},
   "outputs": [],
   "source": [
    "b=a #We are now changing the values to be equal to each other again"
   ]
  },
  {
   "cell_type": "code",
   "execution_count": 38,
   "id": "dde2fd01",
   "metadata": {},
   "outputs": [],
   "source": [
    "b=5 #Stating b is now 5"
   ]
  },
  {
   "cell_type": "code",
   "execution_count": 39,
   "id": "e6cf92fc",
   "metadata": {},
   "outputs": [
    {
     "name": "stdout",
     "output_type": "stream",
     "text": [
      "1950128892336 1950128892336\n"
     ]
    }
   ],
   "source": [
    "print(id(a),id(b)) #Since a=5 and we equalled them the same and stated b=5, their id codes will be the same"
   ]
  },
  {
   "cell_type": "code",
   "execution_count": 40,
   "id": "81d4ca9c",
   "metadata": {},
   "outputs": [],
   "source": [
    "a=[5] #a is 5"
   ]
  },
  {
   "cell_type": "code",
   "execution_count": 41,
   "id": "45391fc9",
   "metadata": {},
   "outputs": [],
   "source": [
    "b=a #b is equal to b now"
   ]
  },
  {
   "cell_type": "code",
   "execution_count": 42,
   "id": "5b628a66",
   "metadata": {},
   "outputs": [
    {
     "name": "stdout",
     "output_type": "stream",
     "text": [
      "1950208766720 1950208766720\n"
     ]
    }
   ],
   "source": [
    "print(id(a),id(b)) #The cell id code for [5] is different than 5 because it is in [] and since we set them equal to each other then they should be the same number"
   ]
  },
  {
   "cell_type": "code",
   "execution_count": 43,
   "id": "9034b718",
   "metadata": {},
   "outputs": [],
   "source": [
    "b.append(1) #Adding the 1 into the variable"
   ]
  },
  {
   "cell_type": "code",
   "execution_count": 44,
   "id": "9a5eed0d",
   "metadata": {},
   "outputs": [
    {
     "name": "stdout",
     "output_type": "stream",
     "text": [
      "[5, 1] [5, 1]\n"
     ]
    }
   ],
   "source": [
    "print(a,b) #Since a=b the 1 will be added to both"
   ]
  },
  {
   "cell_type": "code",
   "execution_count": 45,
   "id": "94b45c1c",
   "metadata": {},
   "outputs": [
    {
     "name": "stdout",
     "output_type": "stream",
     "text": [
      "1950208766720 1950208766720\n"
     ]
    }
   ],
   "source": [
    "print(id(a),id(b)) #The cell id code will now be different than before because of the 1, but still equal to each other "
   ]
  },
  {
   "cell_type": "code",
   "execution_count": 46,
   "id": "dd7b7526",
   "metadata": {},
   "outputs": [],
   "source": [
    "a=[5] #Setting up the variable a to be [5]"
   ]
  },
  {
   "cell_type": "code",
   "execution_count": 47,
   "id": "36676e8d",
   "metadata": {},
   "outputs": [],
   "source": [
    "b=list(a) #Having b be the list of a, since a is already in the form of a list, it will also be [5]"
   ]
  },
  {
   "cell_type": "code",
   "execution_count": 48,
   "id": "930bfc21",
   "metadata": {},
   "outputs": [
    {
     "name": "stdout",
     "output_type": "stream",
     "text": [
      "[5] [5]\n"
     ]
    }
   ],
   "source": [
    "print(a,b) #They will be the same number for both , so [5] [5]"
   ]
  },
  {
   "cell_type": "code",
   "execution_count": 49,
   "id": "f5d86305",
   "metadata": {},
   "outputs": [
    {
     "name": "stdout",
     "output_type": "stream",
     "text": [
      "1950209586368 1950209602432\n"
     ]
    }
   ],
   "source": [
    "print(id(a),id(b)) #The cell id codes will be the same"
   ]
  },
  {
   "cell_type": "code",
   "execution_count": 50,
   "id": "3ebd0fda",
   "metadata": {},
   "outputs": [],
   "source": [
    "b=a[:] #Having b be a and the list of a from start to end so will still be [5]"
   ]
  },
  {
   "cell_type": "code",
   "execution_count": 51,
   "id": "89d10072",
   "metadata": {},
   "outputs": [
    {
     "name": "stdout",
     "output_type": "stream",
     "text": [
      "[5] [5]\n"
     ]
    }
   ],
   "source": [
    "print(a,b) #Will still be [5] [5] because they still equal each other"
   ]
  },
  {
   "cell_type": "code",
   "execution_count": 52,
   "id": "31f2c94b",
   "metadata": {},
   "outputs": [
    {
     "name": "stdout",
     "output_type": "stream",
     "text": [
      "1950209586368 1950208502208\n"
     ]
    }
   ],
   "source": [
    "print(id(a),id(b)) #The cell code id will be the same as before because they are sill [5] [5]"
   ]
  },
  {
   "cell_type": "code",
   "execution_count": 53,
   "id": "a7fa1743",
   "metadata": {},
   "outputs": [],
   "source": [
    "a=(5,) #Setting up the variable a"
   ]
  },
  {
   "cell_type": "code",
   "execution_count": 54,
   "id": "47fd700e",
   "metadata": {},
   "outputs": [],
   "source": [
    "b=tuple(a) #Setting up the variable b to be the tuple of a"
   ]
  },
  {
   "cell_type": "code",
   "execution_count": 55,
   "id": "a711c1f0",
   "metadata": {},
   "outputs": [
    {
     "name": "stdout",
     "output_type": "stream",
     "text": [
      "1950203627312 1950203627312\n"
     ]
    }
   ],
   "source": [
    "print(id(a),id(b)) #Their cell code id will equal each other because they are the same"
   ]
  },
  {
   "cell_type": "markdown",
   "id": "50662ce0",
   "metadata": {},
   "source": [
    "Problem 4"
   ]
  },
  {
   "cell_type": "code",
   "execution_count": 58,
   "id": "714c899f",
   "metadata": {},
   "outputs": [],
   "source": [
    "a=2"
   ]
  },
  {
   "cell_type": "code",
   "execution_count": 59,
   "id": "014485d3",
   "metadata": {},
   "outputs": [],
   "source": [
    "a1=b"
   ]
  },
  {
   "cell_type": "code",
   "execution_count": 60,
   "id": "7077762c",
   "metadata": {},
   "outputs": [],
   "source": [
    "x=2"
   ]
  },
  {
   "cell_type": "code",
   "execution_count": 64,
   "id": "2a58467e",
   "metadata": {},
   "outputs": [],
   "source": [
    "y=x+4"
   ]
  },
  {
   "cell_type": "code",
   "execution_count": 16,
   "id": "cda7733a",
   "metadata": {},
   "outputs": [],
   "source": [
    "from math import tan"
   ]
  },
  {
   "cell_type": "code",
   "execution_count": 22,
   "id": "ad4ada1f",
   "metadata": {},
   "outputs": [
    {
     "ename": "TypeError",
     "evalue": "must be real number, not str",
     "output_type": "error",
     "traceback": [
      "\u001b[1;31m---------------------------------------------------------------------------\u001b[0m",
      "\u001b[1;31mTypeError\u001b[0m                                 Traceback (most recent call last)",
      "\u001b[1;32m~\\AppData\\Local\\Temp\\ipykernel_30080\\1794108146.py\u001b[0m in \u001b[0;36m<module>\u001b[1;34m\u001b[0m\n\u001b[1;32m----> 1\u001b[1;33m \u001b[0mprint\u001b[0m \u001b[1;33m(\u001b[0m\u001b[0mtan\u001b[0m\u001b[1;33m(\u001b[0m\u001b[1;34m\"pi\"\u001b[0m\u001b[1;33m)\u001b[0m\u001b[1;33m)\u001b[0m\u001b[1;33m\u001b[0m\u001b[1;33m\u001b[0m\u001b[0m\n\u001b[0m",
      "\u001b[1;31mTypeError\u001b[0m: must be real number, not str"
     ]
    }
   ],
   "source": [
    "print (tan(\"pi\"))"
   ]
  },
  {
   "cell_type": "code",
   "execution_count": 70,
   "id": "70f6fc3f",
   "metadata": {},
   "outputs": [],
   "source": [
    "pi=\"3.14159\""
   ]
  },
  {
   "cell_type": "code",
   "execution_count": 23,
   "id": "7350caae",
   "metadata": {},
   "outputs": [
    {
     "ename": "TypeError",
     "evalue": "must be real number, not str",
     "output_type": "error",
     "traceback": [
      "\u001b[1;31m---------------------------------------------------------------------------\u001b[0m",
      "\u001b[1;31mTypeError\u001b[0m                                 Traceback (most recent call last)",
      "\u001b[1;32m~\\AppData\\Local\\Temp\\ipykernel_30080\\3775618758.py\u001b[0m in \u001b[0;36m<module>\u001b[1;34m\u001b[0m\n\u001b[1;32m----> 1\u001b[1;33m \u001b[0mprint\u001b[0m \u001b[1;33m(\u001b[0m\u001b[0mtan\u001b[0m\u001b[1;33m(\u001b[0m\u001b[1;34m'pi'\u001b[0m\u001b[1;33m)\u001b[0m\u001b[1;33m)\u001b[0m\u001b[1;33m\u001b[0m\u001b[1;33m\u001b[0m\u001b[0m\n\u001b[0m",
      "\u001b[1;31mTypeError\u001b[0m: must be real number, not str"
     ]
    }
   ],
   "source": [
    "print (tan('pi'))"
   ]
  },
  {
   "cell_type": "code",
   "execution_count": 27,
   "id": "1ada1a68",
   "metadata": {},
   "outputs": [],
   "source": [
    "c=4**3**2**3"
   ]
  },
  {
   "cell_type": "code",
   "execution_count": 28,
   "id": "aa125cec",
   "metadata": {},
   "outputs": [],
   "source": [
    "_=((c-78564)/c+32)"
   ]
  },
  {
   "cell_type": "code",
   "execution_count": 32,
   "id": "884b146e",
   "metadata": {},
   "outputs": [],
   "source": [
    "discount=12"
   ]
  },
  {
   "cell_type": "code",
   "execution_count": 35,
   "id": "9ce821f4",
   "metadata": {},
   "outputs": [],
   "source": [
    "AMOUNT=120.-1"
   ]
  },
  {
   "cell_type": "code",
   "execution_count": 36,
   "id": "039f80dd",
   "metadata": {},
   "outputs": [],
   "source": [
    "amount=120"
   ]
  },
  {
   "cell_type": "code",
   "execution_count": 38,
   "id": "6200330d",
   "metadata": {},
   "outputs": [],
   "source": [
    "address=\"hpl@simula.cno\""
   ]
  },
  {
   "cell_type": "code",
   "execution_count": 41,
   "id": "3318b5e7",
   "metadata": {},
   "outputs": [],
   "source": [
    "a=\"duck\""
   ]
  },
  {
   "cell_type": "code",
   "execution_count": 54,
   "id": "8f617cf0",
   "metadata": {},
   "outputs": [
    {
     "ename": "SyntaxError",
     "evalue": "invalid syntax (1677167685.py, line 1)",
     "output_type": "error",
     "traceback": [
      "\u001b[1;36m  File \u001b[1;32m\"C:\\Users\\gfati\\AppData\\Local\\Temp\\ipykernel_30080\\1677167685.py\"\u001b[1;36m, line \u001b[1;32m1\u001b[0m\n\u001b[1;33m    class=(\"INF1100\", \"gr 2\")\u001b[0m\n\u001b[1;37m         ^\u001b[0m\n\u001b[1;31mSyntaxError\u001b[0m\u001b[1;31m:\u001b[0m invalid syntax\n"
     ]
    }
   ],
   "source": [
    "class = 'INF1100, gr 2'"
   ]
  },
  {
   "cell_type": "code",
   "execution_count": 56,
   "id": "59f64a00",
   "metadata": {},
   "outputs": [],
   "source": [
    "x=1\n",
    "continue_ = x > 0"
   ]
  },
  {
   "cell_type": "code",
   "execution_count": 89,
   "id": "4d1d1cdd",
   "metadata": {},
   "outputs": [],
   "source": [
    "rev = fox = True"
   ]
  },
  {
   "cell_type": "code",
   "execution_count": 90,
   "id": "3db56d28",
   "metadata": {},
   "outputs": [],
   "source": [
    "Persian = ['a human language']"
   ]
  },
  {
   "cell_type": "code",
   "execution_count": 91,
   "id": "a8ae31bb",
   "metadata": {},
   "outputs": [],
   "source": [
    "true = fox is rev in Persian"
   ]
  },
  {
   "cell_type": "markdown",
   "id": "67900563",
   "metadata": {},
   "source": [
    "Problem 5"
   ]
  },
  {
   "cell_type": "code",
   "execution_count": null,
   "id": "11aca69a",
   "metadata": {},
   "outputs": [],
   "source": [
    "#change cmath to math because we are working with real numbers"
   ]
  },
  {
   "cell_type": "code",
   "execution_count": null,
   "id": "0c16d1fe",
   "metadata": {},
   "outputs": [],
   "source": [
    "#change math to cmath to return complex numbers"
   ]
  },
  {
   "cell_type": "code",
   "execution_count": null,
   "id": "d02e88cb",
   "metadata": {},
   "outputs": [],
   "source": [
    "#change % to .format"
   ]
  },
  {
   "cell_type": "code",
   "execution_count": null,
   "id": "7a63a3dd",
   "metadata": {},
   "outputs": [],
   "source": [
    "#change second to first, then first to second"
   ]
  },
  {
   "cell_type": "markdown",
   "id": "b5247290",
   "metadata": {},
   "source": [
    "Problem 6"
   ]
  },
  {
   "cell_type": "code",
   "execution_count": 58,
   "id": "20ed8c01",
   "metadata": {},
   "outputs": [],
   "source": [
    "Tw=100"
   ]
  },
  {
   "cell_type": "code",
   "execution_count": 59,
   "id": "7b677a1d",
   "metadata": {},
   "outputs": [],
   "source": [
    "Ty=70"
   ]
  },
  {
   "cell_type": "code",
   "execution_count": 60,
   "id": "ae2af719",
   "metadata": {},
   "outputs": [],
   "source": [
    "M=67"
   ]
  },
  {
   "cell_type": "code",
   "execution_count": 61,
   "id": "7e39d96e",
   "metadata": {},
   "outputs": [],
   "source": [
    "c=3.7"
   ]
  },
  {
   "cell_type": "code",
   "execution_count": 62,
   "id": "313d71bc",
   "metadata": {},
   "outputs": [],
   "source": [
    "p=1.038"
   ]
  },
  {
   "cell_type": "code",
   "execution_count": 63,
   "id": "1641e5f3",
   "metadata": {},
   "outputs": [],
   "source": [
    "K=.0054"
   ]
  },
  {
   "cell_type": "code",
   "execution_count": 64,
   "id": "fc0aa4c2",
   "metadata": {},
   "outputs": [],
   "source": [
    "T0=4"
   ]
  },
  {
   "cell_type": "code",
   "execution_count": 71,
   "id": "726ead57",
   "metadata": {},
   "outputs": [],
   "source": [
    "a=M**(2/3)"
   ]
  },
  {
   "cell_type": "markdown",
   "id": "da486ad8",
   "metadata": {},
   "source": [
    "a"
   ]
  },
  {
   "cell_type": "code",
   "execution_count": 72,
   "id": "8180b03f",
   "metadata": {},
   "outputs": [
    {
     "data": {
      "text/plain": [
       "16.496172972233907"
      ]
     },
     "execution_count": 72,
     "metadata": {},
     "output_type": "execute_result"
    }
   ],
   "source": [
    "a"
   ]
  },
  {
   "cell_type": "code",
   "execution_count": 73,
   "id": "616a8b86",
   "metadata": {},
   "outputs": [],
   "source": [
    "b=p**(1/3)"
   ]
  },
  {
   "cell_type": "code",
   "execution_count": 74,
   "id": "17735e03",
   "metadata": {},
   "outputs": [
    {
     "data": {
      "text/plain": [
       "1.0125095258972696"
      ]
     },
     "execution_count": 74,
     "metadata": {},
     "output_type": "execute_result"
    }
   ],
   "source": [
    "b"
   ]
  },
  {
   "cell_type": "code",
   "execution_count": 75,
   "id": "0f1016ba",
   "metadata": {},
   "outputs": [
    {
     "data": {
      "text/plain": [
       "61.79936941837286"
      ]
     },
     "execution_count": 75,
     "metadata": {},
     "output_type": "execute_result"
    }
   ],
   "source": [
    "a*c*b"
   ]
  },
  {
   "cell_type": "code",
   "execution_count": 77,
   "id": "194791c2",
   "metadata": {},
   "outputs": [],
   "source": [
    "l=K*(3.14**2)"
   ]
  },
  {
   "cell_type": "code",
   "execution_count": 78,
   "id": "53cc80fb",
   "metadata": {},
   "outputs": [],
   "source": [
    "n=(4*3.14/3)**(2/3)"
   ]
  },
  {
   "cell_type": "code",
   "execution_count": 79,
   "id": "c86f9ba9",
   "metadata": {},
   "outputs": [
    {
     "data": {
      "text/plain": [
       "0.053241840000000006"
      ]
     },
     "execution_count": 79,
     "metadata": {},
     "output_type": "execute_result"
    }
   ],
   "source": [
    "l"
   ]
  },
  {
   "cell_type": "code",
   "execution_count": 80,
   "id": "cb6c6e32",
   "metadata": {},
   "outputs": [
    {
     "data": {
      "text/plain": [
       "2.5976397603166372"
      ]
     },
     "execution_count": 80,
     "metadata": {},
     "output_type": "execute_result"
    }
   ],
   "source": [
    "n"
   ]
  },
  {
   "cell_type": "code",
   "execution_count": 81,
   "id": "834d04b7",
   "metadata": {},
   "outputs": [
    {
     "data": {
      "text/plain": [
       "0.13830312049641677"
      ]
     },
     "execution_count": 81,
     "metadata": {},
     "output_type": "execute_result"
    }
   ],
   "source": [
    "l*n"
   ]
  },
  {
   "cell_type": "code",
   "execution_count": 85,
   "id": "6196e939",
   "metadata": {},
   "outputs": [
    {
     "name": "stderr",
     "output_type": "stream",
     "text": [
      "<>:1: SyntaxWarning: 'float' object is not callable; perhaps you missed a comma?\n",
      "<>:1: SyntaxWarning: 'float' object is not callable; perhaps you missed a comma?\n",
      "C:\\Users\\gfati\\AppData\\Local\\Temp\\ipykernel_30080\\837172296.py:1: SyntaxWarning: 'float' object is not callable; perhaps you missed a comma?\n",
      "  log(.96(T0-Tw)/(Ty-Tw))\n"
     ]
    },
    {
     "ename": "NameError",
     "evalue": "name 'log' is not defined",
     "output_type": "error",
     "traceback": [
      "\u001b[1;31m---------------------------------------------------------------------------\u001b[0m",
      "\u001b[1;31mNameError\u001b[0m                                 Traceback (most recent call last)",
      "\u001b[1;32m~\\AppData\\Local\\Temp\\ipykernel_30080\\837172296.py\u001b[0m in \u001b[0;36m<module>\u001b[1;34m\u001b[0m\n\u001b[1;32m----> 1\u001b[1;33m \u001b[0mlog\u001b[0m\u001b[1;33m(\u001b[0m\u001b[1;36m.96\u001b[0m\u001b[1;33m(\u001b[0m\u001b[0mT0\u001b[0m\u001b[1;33m-\u001b[0m\u001b[0mTw\u001b[0m\u001b[1;33m)\u001b[0m\u001b[1;33m/\u001b[0m\u001b[1;33m(\u001b[0m\u001b[0mTy\u001b[0m\u001b[1;33m-\u001b[0m\u001b[0mTw\u001b[0m\u001b[1;33m)\u001b[0m\u001b[1;33m)\u001b[0m\u001b[1;33m\u001b[0m\u001b[1;33m\u001b[0m\u001b[0m\n\u001b[0m",
      "\u001b[1;31mNameError\u001b[0m: name 'log' is not defined"
     ]
    }
   ],
   "source": [
    "log(.96(T0-Tw)/(Ty-Tw))"
   ]
  },
  {
   "cell_type": "code",
   "execution_count": 86,
   "id": "a64dbc45",
   "metadata": {},
   "outputs": [],
   "source": [
    "from math import log"
   ]
  },
  {
   "cell_type": "code",
   "execution_count": 89,
   "id": "cdf9ddf9",
   "metadata": {},
   "outputs": [
    {
     "name": "stderr",
     "output_type": "stream",
     "text": [
      "<>:1: SyntaxWarning: 'float' object is not callable; perhaps you missed a comma?\n",
      "<>:1: SyntaxWarning: 'float' object is not callable; perhaps you missed a comma?\n",
      "C:\\Users\\gfati\\AppData\\Local\\Temp\\ipykernel_30080\\4109836355.py:1: SyntaxWarning: 'float' object is not callable; perhaps you missed a comma?\n",
      "  log(.76(T0-Tw)/e*(Ty-Tw))\n"
     ]
    },
    {
     "ename": "TypeError",
     "evalue": "'float' object is not callable",
     "output_type": "error",
     "traceback": [
      "\u001b[1;31m---------------------------------------------------------------------------\u001b[0m",
      "\u001b[1;31mTypeError\u001b[0m                                 Traceback (most recent call last)",
      "\u001b[1;32m~\\AppData\\Local\\Temp\\ipykernel_30080\\4109836355.py\u001b[0m in \u001b[0;36m<module>\u001b[1;34m\u001b[0m\n\u001b[1;32m----> 1\u001b[1;33m \u001b[0mlog\u001b[0m\u001b[1;33m(\u001b[0m\u001b[1;36m.76\u001b[0m\u001b[1;33m(\u001b[0m\u001b[0mT0\u001b[0m\u001b[1;33m-\u001b[0m\u001b[0mTw\u001b[0m\u001b[1;33m)\u001b[0m\u001b[1;33m/\u001b[0m\u001b[0me\u001b[0m\u001b[1;33m*\u001b[0m\u001b[1;33m(\u001b[0m\u001b[0mTy\u001b[0m\u001b[1;33m-\u001b[0m\u001b[0mTw\u001b[0m\u001b[1;33m)\u001b[0m\u001b[1;33m)\u001b[0m\u001b[1;33m\u001b[0m\u001b[1;33m\u001b[0m\u001b[0m\n\u001b[0m",
      "\u001b[1;31mTypeError\u001b[0m: 'float' object is not callable"
     ]
    }
   ],
   "source": [
    "log(.76(T0-Tw)/(Ty-Tw))"
   ]
  },
  {
   "cell_type": "code",
   "execution_count": null,
   "id": "abd9203e",
   "metadata": {},
   "outputs": [],
   "source": []
  },
  {
   "cell_type": "code",
   "execution_count": null,
   "id": "3db6aac7",
   "metadata": {},
   "outputs": [],
   "source": []
  },
  {
   "cell_type": "code",
   "execution_count": null,
   "id": "9d006485",
   "metadata": {},
   "outputs": [],
   "source": []
  },
  {
   "cell_type": "code",
   "execution_count": null,
   "id": "414ba428",
   "metadata": {},
   "outputs": [],
   "source": []
  },
  {
   "cell_type": "code",
   "execution_count": null,
   "id": "cccde312",
   "metadata": {},
   "outputs": [],
   "source": []
  },
  {
   "cell_type": "code",
   "execution_count": null,
   "id": "42a56c20",
   "metadata": {},
   "outputs": [],
   "source": []
  },
  {
   "cell_type": "code",
   "execution_count": null,
   "id": "a6658e20",
   "metadata": {},
   "outputs": [],
   "source": []
  },
  {
   "cell_type": "code",
   "execution_count": null,
   "id": "49859e5c",
   "metadata": {},
   "outputs": [],
   "source": []
  },
  {
   "cell_type": "code",
   "execution_count": null,
   "id": "a01951af",
   "metadata": {},
   "outputs": [],
   "source": []
  },
  {
   "cell_type": "code",
   "execution_count": null,
   "id": "4429bf8d",
   "metadata": {},
   "outputs": [],
   "source": []
  },
  {
   "cell_type": "code",
   "execution_count": null,
   "id": "d71bdd75",
   "metadata": {},
   "outputs": [],
   "source": []
  },
  {
   "cell_type": "raw",
   "id": "ecf90e6f",
   "metadata": {},
   "source": [
    "Problem 7"
   ]
  },
  {
   "cell_type": "code",
   "execution_count": 92,
   "id": "4ccc81f2",
   "metadata": {},
   "outputs": [
    {
     "ename": "NameError",
     "evalue": "name 'student' is not defined",
     "output_type": "error",
     "traceback": [
      "\u001b[1;31m---------------------------------------------------------------------------\u001b[0m",
      "\u001b[1;31mNameError\u001b[0m                                 Traceback (most recent call last)",
      "\u001b[1;32m~\\AppData\\Local\\Temp\\ipykernel_30080\\3756619921.py\u001b[0m in \u001b[0;36m<module>\u001b[1;34m\u001b[0m\n\u001b[1;32m----> 1\u001b[1;33m classroom={\"Christian-Andrew Bagby-wright\":student, \n\u001b[0m\u001b[0;32m      2\u001b[0m \u001b[1;34m\"Matthew Chrysler\"\u001b[0m\u001b[1;33m:\u001b[0m\u001b[0mstudent\u001b[0m\u001b[1;33m,\u001b[0m\u001b[1;33m\u001b[0m\u001b[1;33m\u001b[0m\u001b[0m\n\u001b[0;32m      3\u001b[0m \u001b[1;34m\"Niyousha Davachi\"\u001b[0m\u001b[1;33m:\u001b[0m\u001b[0mstudent\u001b[0m\u001b[1;33m,\u001b[0m\u001b[1;33m\u001b[0m\u001b[1;33m\u001b[0m\u001b[0m\n\u001b[0;32m      4\u001b[0m \u001b[1;34m\"Pauline Dredger\"\u001b[0m\u001b[1;33m:\u001b[0m\u001b[0mstudent\u001b[0m\u001b[1;33m,\u001b[0m\u001b[1;33m\u001b[0m\u001b[1;33m\u001b[0m\u001b[0m\n\u001b[0;32m      5\u001b[0m \u001b[1;34m\"Marcos Guillen\"\u001b[0m\u001b[1;33m:\u001b[0m\u001b[0mstudent\u001b[0m\u001b[1;33m,\u001b[0m\u001b[1;33m\u001b[0m\u001b[1;33m\u001b[0m\u001b[0m\n",
      "\u001b[1;31mNameError\u001b[0m: name 'student' is not defined"
     ]
    }
   ],
   "source": [
    "classroom={\"Christian-Andrew Bagby-wright\":student, \n",
    "\"Matthew Chrysler\":student, \n",
    "\"Niyousha Davachi\":student, \n",
    "\"Pauline Dredger\":student, \n",
    "\"Marcos Guillen\":student, \n",
    "\"Lauren Kuffel\":student, \n",
    "\"Shashank Kumbhare\":student, \n",
    "\"Hany Mahdy\":student, \n",
    "\"Sarah Moorman\":student, \n",
    "\"Andrew Myers\":student, \n",
    "\"Joshua Osborne\":student, \n",
    "\"Rebecca Proni\":student, \n",
    "\"Amir Shahmoradi\":instructor, \n",
    "\"Carolina Vedovato\":student}"
   ]
  },
  {
   "cell_type": "code",
   "execution_count": null,
   "id": "bffb9b75",
   "metadata": {},
   "outputs": [],
   "source": []
  },
  {
   "cell_type": "code",
   "execution_count": null,
   "id": "be1eef1e",
   "metadata": {},
   "outputs": [],
   "source": []
  },
  {
   "cell_type": "code",
   "execution_count": null,
   "id": "13f51193",
   "metadata": {},
   "outputs": [],
   "source": []
  }
 ],
 "metadata": {
  "kernelspec": {
   "display_name": "Python 3 (ipykernel)",
   "language": "python",
   "name": "python3"
  },
  "language_info": {
   "codemirror_mode": {
    "name": "ipython",
    "version": 3
   },
   "file_extension": ".py",
   "mimetype": "text/x-python",
   "name": "python",
   "nbconvert_exporter": "python",
   "pygments_lexer": "ipython3",
   "version": "3.9.13"
  }
 },
 "nbformat": 4,
 "nbformat_minor": 5
}
