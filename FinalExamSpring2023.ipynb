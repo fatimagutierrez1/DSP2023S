{
 "cells": [
  {
   "cell_type": "markdown",
   "id": "6b15cca1",
   "metadata": {},
   "source": [
    " # <center>Final Exam &ndash; DATA 3401 (Spring 2023)</center>\n",
    "\n",
    "## Start Date: 5/5\n",
    "## Due Date: 5/8 (at 11:59pm) &ndash; this is a hard deadline so don't miss it!\n",
    "\n",
    "## Final Rules\n",
    "This final exam is simliar to the midterm exam. Please work the exercises below **on your own**.  When you have completed the exam, you should push your completed jupyter notebook to your GitHub repo for this class in the **Exams->Final** folder.\n",
    "\n",
    "You may not discuss the problems with **anyone else**, including persons on an online internet forum. Consulting an outside source like this will be considered an academic integrity violation. **Any questions should be referred to me.**\n",
    "\n",
    "You may use all class resources including previous labs and lectures, and anything posted on the course website or Teams.\n",
    "\n",
    "You may not use any function that trivializes a problem. For example, if I ask you to write a `max` function that computes the maximum entry in a list, you are not allowed to use the pre-defined Python function `max`; you must write your own.\n",
    "\n"
   ]
  },
  {
   "cell_type": "markdown",
   "id": "6a8e04e0",
   "metadata": {},
   "source": [
    "## Exercise 1 (25 points)\n",
    "In this exercise you will be working with the files abalone.names and abalone.data in the Final Exam folder.\n",
    "\n",
    "1. Open the abalone.names file in your notebook. Using the information there, in a new cell briefly describe the data set and relevant features.\n",
    "1. Load the abalone.data file into a dataframe using pandas. Print the .head() of the dataframe\n",
    "1. Using the .names file, **add** a header line to your dataframe describing each column of data\n",
    "1. Take the last column and make a new dataframe called `labels`\n",
    "    1. Print out the value counts of each label.\n",
    "    1. What do you notice about the distribution of the labels?\n",
    "    1. Based on your observations, propose a way to modify the labels to consolidate some of the classes, and do this modification (you should describe in comments in your code what change you are making)\n",
    "    1. After making your modification, show the value counts of the new labels again\n",
    "1. Make a scatterplot of each feature against the others (it should be a single plot)\n",
    "    1. Describe any trends or correlations that you see.\n"
   ]
  },
  {
   "cell_type": "code",
   "execution_count": 39,
   "id": "93582ab2",
   "metadata": {},
   "outputs": [],
   "source": [
    "import numpy as np\n",
    "import matplotlib\n",
    "from matplotlib import pyplot as plt\n",
    "import pandas as pd"
   ]
  },
  {
   "cell_type": "markdown",
   "id": "e932f79d",
   "metadata": {},
   "source": [
    "Problem 1"
   ]
  },
  {
   "cell_type": "code",
   "execution_count": 40,
   "id": "c467e67a",
   "metadata": {},
   "outputs": [
    {
     "name": "stdout",
     "output_type": "stream",
     "text": [
      "1. Title of Database: Abalone data\n",
      "\n",
      "2. Sources:\n",
      "\n",
      "   (a) Original owners of database:\n",
      "\tMarine Resources Division\n",
      "\tMarine Research Laboratories - Taroona\n",
      "\tDepartment of Primary Industry and Fisheries, Tasmania\n",
      "\tGPO Box 619F, Hobart, Tasmania 7001, Australia\n",
      "\t(contact: Warwick Nash +61 02 277277, wnash@dpi.tas.gov.au)\n",
      "\n",
      "   (b) Donor of database:\n",
      "\tSam Waugh (Sam.Waugh@cs.utas.edu.au)\n",
      "\tDepartment of Computer Science, University of Tasmania\n",
      "\tGPO Box 252C, Hobart, Tasmania 7001, Australia\n",
      "\n",
      "   (c) Date received: December 1995\n",
      "\n",
      "\n",
      "3. Past Usage:\n",
      "\n",
      "   Sam Waugh (1995) \"Extending and benchmarking Cascade-Correlation\", PhD\n",
      "   thesis, Computer Science Department, University of Tasmania.\n",
      "\n",
      "   -- Test set performance (final 1044 examples, first 3133 used for training):\n",
      "\t24.86% Cascade-Correlation (no hidden nodes)\n",
      "\t26.25% Cascade-Correlation (5 hidden nodes)\n",
      "\t21.5%  C4.5\n",
      "\t 0.0%  Linear Discriminate Analysis\n",
      "\t 3.57% k=5 Nearest Neighbour\n",
      "      (Problem encoded as a classification task)\n",
      "\n",
      "   -- Data set samples are highly overlapped.  Further information is required\n",
      "\tto separate completely using affine combinations.  Other restrictions\n",
      "\tto data set examined.\n",
      "\n",
      "   David Clark, Zoltan Schreter, Anthony Adams \"A Quantitative Comparison of\n",
      "   Dystal and Backpropagation\", submitted to the Australian Conference on\n",
      "   Neural Networks (ACNN'96). Data set treated as a 3-category classification\n",
      "   problem (grouping ring classes 1-8, 9 and 10, and 11 on).\n",
      "\n",
      "   -- Test set performance (3133 training, 1044 testing as above):\n",
      "\t64%    Backprop\n",
      "\t55%    Dystal\n",
      "   -- Previous work (Waugh, 1995) on same data set:\n",
      "\t61.40% Cascade-Correlation (no hidden nodes)\n",
      "\t65.61% Cascade-Correlation (5 hidden nodes)\n",
      "\t59.2%  C4.5\n",
      "\t32.57% Linear Discriminate Analysis\n",
      "\t62.46% k=5 Nearest Neighbour\n",
      "\n",
      "\n",
      "4. Relevant Information Paragraph:\n",
      "\n",
      "   Predicting the age of abalone from physical measurements.  The age of\n",
      "   abalone is determined by cutting the shell through the cone, staining it,\n",
      "   and counting the number of rings through a microscope -- a boring and\n",
      "   time-consuming task.  Other measurements, which are easier to obtain, are\n",
      "   used to predict the age.  Further information, such as weather patterns\n",
      "   and location (hence food availability) may be required to solve the problem.\n",
      "\n",
      "   From the original data examples with missing values were removed (the\n",
      "   majority having the predicted value missing), and the ranges of the\n",
      "   continuous values have been scaled for use with an ANN (by dividing by 200).\n",
      "\n",
      "   Data comes from an original (non-machine-learning) study:\n",
      "\n",
      "\tWarwick J Nash, Tracy L Sellers, Simon R Talbot, Andrew J Cawthorn and\n",
      "\tWes B Ford (1994) \"The Population Biology of Abalone (_Haliotis_\n",
      "\tspecies) in Tasmania. I. Blacklip Abalone (_H. rubra_) from the North\n",
      "\tCoast and Islands of Bass Strait\", Sea Fisheries Division, Technical\n",
      "\tReport No. 48 (ISSN 1034-3288)\n",
      "\n",
      "\n",
      "5. Number of Instances: 4177\n",
      "\n",
      "\n",
      "6. Number of Attributes: 8\n",
      "\n",
      "\n",
      "7. Attribute information:\n",
      "\n",
      "   Given is the attribute name, attribute type, the measurement unit and a\n",
      "   brief description.  The number of rings is the value to predict: either\n",
      "   as a continuous value or as a classification problem.\n",
      "\n",
      "\tName\t\tData Type\tMeas.\tDescription\n",
      "\t----\t\t---------\t-----\t-----------\n",
      "\tSex\t\tnominal\t\t\tM, F, and I (infant)\n",
      "\tLength\t\tcontinuous\tmm\tLongest shell measurement\n",
      "\tDiameter\tcontinuous\tmm\tperpendicular to length\n",
      "\tHeight\t\tcontinuous\tmm\twith meat in shell\n",
      "\tWhole weight\tcontinuous\tgrams\twhole abalone\n",
      "\tShucked weight\tcontinuous\tgrams\tweight of meat\n",
      "\tViscera weight\tcontinuous\tgrams\tgut weight (after bleeding)\n",
      "\tShell weight\tcontinuous\tgrams\tafter being dried\n",
      "\tRings\t\tinteger\t\t\t+1.5 gives the age in years\n",
      "\n",
      "   Statistics for numeric domains:\n",
      "\n",
      "\t\tLength\tDiam\tHeight\tWhole\tShucked\tViscera\tShell\tRings\n",
      "\tMin\t0.075\t0.055\t0.000\t0.002\t0.001\t0.001\t0.002\t    1\n",
      "\tMax\t0.815\t0.650\t1.130\t2.826\t1.488\t0.760\t1.005\t   29\n",
      "\tMean\t0.524\t0.408\t0.140\t0.829\t0.359\t0.181\t0.239\t9.934\n",
      "\tSD\t0.120\t0.099\t0.042\t0.490\t0.222\t0.110\t0.139\t3.224\n",
      "\tCorrel\t0.557\t0.575\t0.557\t0.540\t0.421\t0.504\t0.628\t  1.0\n",
      "\n",
      "\n",
      "8. Missing Attribute Values: None\n",
      "\n",
      "\n",
      "9. Class Distribution:\n",
      "\n",
      "\tClass\tExamples\n",
      "\t-----\t--------\n",
      "\t1\t1\n",
      "\t2\t1\n",
      "\t3\t15\n",
      "\t4\t57\n",
      "\t5\t115\n",
      "\t6\t259\n",
      "\t7\t391\n",
      "\t8\t568\n",
      "\t9\t689\n",
      "\t10\t634\n",
      "\t11\t487\n",
      "\t12\t267\n",
      "\t13\t203\n",
      "\t14\t126\n",
      "\t15\t103\n",
      "\t16\t67\n",
      "\t17\t58\n",
      "\t18\t42\n",
      "\t19\t32\n",
      "\t20\t26\n",
      "\t21\t14\n",
      "\t22\t6\n",
      "\t23\t9\n",
      "\t24\t2\n",
      "\t25\t1\n",
      "\t26\t1\n",
      "\t27\t2\n",
      "\t29\t1\n",
      "\t-----\t----\n",
      "\tTotal\t4177\n",
      "\n"
     ]
    }
   ],
   "source": [
    "print(open('abalone.names', 'r').read())"
   ]
  },
  {
   "cell_type": "code",
   "execution_count": 75,
   "id": "f71eab74",
   "metadata": {},
   "outputs": [],
   "source": [
    "#This contains information over the sources from the life, when it was used and by who, and says it is over predicting the age of abalone from physical measurements. It also mentiones the number of instances and attribustes as well as its information. "
   ]
  },
  {
   "cell_type": "markdown",
   "id": "f57dea32",
   "metadata": {},
   "source": [
    "Problem 2"
   ]
  },
  {
   "cell_type": "code",
   "execution_count": 41,
   "id": "0c680ca6",
   "metadata": {},
   "outputs": [
    {
     "data": {
      "text/html": [
       "<div>\n",
       "<style scoped>\n",
       "    .dataframe tbody tr th:only-of-type {\n",
       "        vertical-align: middle;\n",
       "    }\n",
       "\n",
       "    .dataframe tbody tr th {\n",
       "        vertical-align: top;\n",
       "    }\n",
       "\n",
       "    .dataframe thead th {\n",
       "        text-align: right;\n",
       "    }\n",
       "</style>\n",
       "<table border=\"1\" class=\"dataframe\">\n",
       "  <thead>\n",
       "    <tr style=\"text-align: right;\">\n",
       "      <th></th>\n",
       "      <th>M</th>\n",
       "      <th>0.455</th>\n",
       "      <th>0.365</th>\n",
       "      <th>0.095</th>\n",
       "      <th>0.514</th>\n",
       "      <th>0.2245</th>\n",
       "      <th>0.101</th>\n",
       "      <th>0.15</th>\n",
       "      <th>15</th>\n",
       "    </tr>\n",
       "  </thead>\n",
       "  <tbody>\n",
       "    <tr>\n",
       "      <th>0</th>\n",
       "      <td>M</td>\n",
       "      <td>0.350</td>\n",
       "      <td>0.265</td>\n",
       "      <td>0.090</td>\n",
       "      <td>0.2255</td>\n",
       "      <td>0.0995</td>\n",
       "      <td>0.0485</td>\n",
       "      <td>0.070</td>\n",
       "      <td>7</td>\n",
       "    </tr>\n",
       "    <tr>\n",
       "      <th>1</th>\n",
       "      <td>F</td>\n",
       "      <td>0.530</td>\n",
       "      <td>0.420</td>\n",
       "      <td>0.135</td>\n",
       "      <td>0.6770</td>\n",
       "      <td>0.2565</td>\n",
       "      <td>0.1415</td>\n",
       "      <td>0.210</td>\n",
       "      <td>9</td>\n",
       "    </tr>\n",
       "    <tr>\n",
       "      <th>2</th>\n",
       "      <td>M</td>\n",
       "      <td>0.440</td>\n",
       "      <td>0.365</td>\n",
       "      <td>0.125</td>\n",
       "      <td>0.5160</td>\n",
       "      <td>0.2155</td>\n",
       "      <td>0.1140</td>\n",
       "      <td>0.155</td>\n",
       "      <td>10</td>\n",
       "    </tr>\n",
       "    <tr>\n",
       "      <th>3</th>\n",
       "      <td>I</td>\n",
       "      <td>0.330</td>\n",
       "      <td>0.255</td>\n",
       "      <td>0.080</td>\n",
       "      <td>0.2050</td>\n",
       "      <td>0.0895</td>\n",
       "      <td>0.0395</td>\n",
       "      <td>0.055</td>\n",
       "      <td>7</td>\n",
       "    </tr>\n",
       "    <tr>\n",
       "      <th>4</th>\n",
       "      <td>I</td>\n",
       "      <td>0.425</td>\n",
       "      <td>0.300</td>\n",
       "      <td>0.095</td>\n",
       "      <td>0.3515</td>\n",
       "      <td>0.1410</td>\n",
       "      <td>0.0775</td>\n",
       "      <td>0.120</td>\n",
       "      <td>8</td>\n",
       "    </tr>\n",
       "  </tbody>\n",
       "</table>\n",
       "</div>"
      ],
      "text/plain": [
       "   M  0.455  0.365  0.095   0.514  0.2245   0.101   0.15  15\n",
       "0  M  0.350  0.265  0.090  0.2255  0.0995  0.0485  0.070   7\n",
       "1  F  0.530  0.420  0.135  0.6770  0.2565  0.1415  0.210   9\n",
       "2  M  0.440  0.365  0.125  0.5160  0.2155  0.1140  0.155  10\n",
       "3  I  0.330  0.255  0.080  0.2050  0.0895  0.0395  0.055   7\n",
       "4  I  0.425  0.300  0.095  0.3515  0.1410  0.0775  0.120   8"
      ]
     },
     "execution_count": 41,
     "metadata": {},
     "output_type": "execute_result"
    }
   ],
   "source": [
    "df = pd.read_csv('abalone.data')\n",
    "df.head()"
   ]
  },
  {
   "cell_type": "markdown",
   "id": "f970f303",
   "metadata": {},
   "source": [
    "Problem 3"
   ]
  },
  {
   "cell_type": "code",
   "execution_count": 42,
   "id": "37de57c6",
   "metadata": {},
   "outputs": [
    {
     "name": "stdout",
     "output_type": "stream",
     "text": [
      "Original Data frame\n",
      "      M  0.455  0.365  0.095   0.514  0.2245   0.101    0.15  15\n",
      "0     M  0.350  0.265  0.090  0.2255  0.0995  0.0485  0.0700   7\n",
      "1     F  0.530  0.420  0.135  0.6770  0.2565  0.1415  0.2100   9\n",
      "2     M  0.440  0.365  0.125  0.5160  0.2155  0.1140  0.1550  10\n",
      "3     I  0.330  0.255  0.080  0.2050  0.0895  0.0395  0.0550   7\n",
      "4     I  0.425  0.300  0.095  0.3515  0.1410  0.0775  0.1200   8\n",
      "...  ..    ...    ...    ...     ...     ...     ...     ...  ..\n",
      "4171  F  0.565  0.450  0.165  0.8870  0.3700  0.2390  0.2490  11\n",
      "4172  M  0.590  0.440  0.135  0.9660  0.4390  0.2145  0.2605  10\n",
      "4173  M  0.600  0.475  0.205  1.1760  0.5255  0.2875  0.3080   9\n",
      "4174  F  0.625  0.485  0.150  1.0945  0.5310  0.2610  0.2960  10\n",
      "4175  M  0.710  0.555  0.195  1.9485  0.9455  0.3765  0.4950  12\n",
      "\n",
      "[4176 rows x 9 columns]\n",
      "New Data frame\n",
      "     Sex  Length  Diameter  Height  Whole Weight  Shucked Weight  \\\n",
      "0      M   0.455     0.365   0.095        0.5140          0.2245   \n",
      "1      M   0.350     0.265   0.090        0.2255          0.0995   \n",
      "2      F   0.530     0.420   0.135        0.6770          0.2565   \n",
      "3      M   0.440     0.365   0.125        0.5160          0.2155   \n",
      "4      I   0.330     0.255   0.080        0.2050          0.0895   \n",
      "...   ..     ...       ...     ...           ...             ...   \n",
      "4172   F   0.565     0.450   0.165        0.8870          0.3700   \n",
      "4173   M   0.590     0.440   0.135        0.9660          0.4390   \n",
      "4174   M   0.600     0.475   0.205        1.1760          0.5255   \n",
      "4175   F   0.625     0.485   0.150        1.0945          0.5310   \n",
      "4176   M   0.710     0.555   0.195        1.9485          0.9455   \n",
      "\n",
      "      Viscera Weight  Shell Weight  Rings  \n",
      "0             0.1010        0.1500     15  \n",
      "1             0.0485        0.0700      7  \n",
      "2             0.1415        0.2100      9  \n",
      "3             0.1140        0.1550     10  \n",
      "4             0.0395        0.0550      7  \n",
      "...              ...           ...    ...  \n",
      "4172          0.2390        0.2490     11  \n",
      "4173          0.2145        0.2605     10  \n",
      "4174          0.2875        0.3080      9  \n",
      "4175          0.2610        0.2960     10  \n",
      "4176          0.3765        0.4950     12  \n",
      "\n",
      "[4177 rows x 9 columns]\n"
     ]
    }
   ],
   "source": [
    "df = pd.read_csv('abalone.data')\n",
    "print(\"Original Data frame\")\n",
    "print(df)\n",
    "\n",
    "data_frame_new = pd.read_csv(\"abalone.data\", names=['Sex', 'Length', 'Diameter', 'Height', 'Whole Weight', 'Shucked Weight', 'Viscera Weight', 'Shell Weight', 'Rings'])\n",
    "print(\"New Data frame\")\n",
    "print(data_frame_new)"
   ]
  },
  {
   "cell_type": "code",
   "execution_count": 50,
   "id": "e36965a8",
   "metadata": {},
   "outputs": [
    {
     "name": "stdout",
     "output_type": "stream",
     "text": [
      "     Sex  Length  Diameter  Height  Whole Weight  Shucked Weight  \\\n",
      "0      M   0.455     0.365   0.095        0.5140          0.2245   \n",
      "1      M   0.350     0.265   0.090        0.2255          0.0995   \n",
      "2      F   0.530     0.420   0.135        0.6770          0.2565   \n",
      "3      M   0.440     0.365   0.125        0.5160          0.2155   \n",
      "4      I   0.330     0.255   0.080        0.2050          0.0895   \n",
      "...   ..     ...       ...     ...           ...             ...   \n",
      "4172   F   0.565     0.450   0.165        0.8870          0.3700   \n",
      "4173   M   0.590     0.440   0.135        0.9660          0.4390   \n",
      "4174   M   0.600     0.475   0.205        1.1760          0.5255   \n",
      "4175   F   0.625     0.485   0.150        1.0945          0.5310   \n",
      "4176   M   0.710     0.555   0.195        1.9485          0.9455   \n",
      "\n",
      "      Viscera Weight  Shell Weight  Rings  \n",
      "0             0.1010        0.1500     15  \n",
      "1             0.0485        0.0700      7  \n",
      "2             0.1415        0.2100      9  \n",
      "3             0.1140        0.1550     10  \n",
      "4             0.0395        0.0550      7  \n",
      "...              ...           ...    ...  \n",
      "4172          0.2390        0.2490     11  \n",
      "4173          0.2145        0.2605     10  \n",
      "4174          0.2875        0.3080      9  \n",
      "4175          0.2610        0.2960     10  \n",
      "4176          0.3765        0.4950     12  \n",
      "\n",
      "[4177 rows x 9 columns]\n"
     ]
    }
   ],
   "source": [
    "print(data_frame_new)"
   ]
  },
  {
   "cell_type": "markdown",
   "id": "12446bfa",
   "metadata": {},
   "source": [
    "Problem 4"
   ]
  },
  {
   "cell_type": "code",
   "execution_count": 51,
   "id": "db9c318b",
   "metadata": {},
   "outputs": [],
   "source": [
    "labels = data_frame_new[['Rings']].copy()"
   ]
  },
  {
   "cell_type": "code",
   "execution_count": 52,
   "id": "9f132e41",
   "metadata": {},
   "outputs": [
    {
     "name": "stdout",
     "output_type": "stream",
     "text": [
      "      Rings\n",
      "0        15\n",
      "1         7\n",
      "2         9\n",
      "3        10\n",
      "4         7\n",
      "...     ...\n",
      "4172     11\n",
      "4173     10\n",
      "4174      9\n",
      "4175     10\n",
      "4176     12\n",
      "\n",
      "[4177 rows x 1 columns]\n"
     ]
    }
   ],
   "source": [
    "print(labels)"
   ]
  },
  {
   "cell_type": "code",
   "execution_count": 68,
   "id": "b72557f7",
   "metadata": {},
   "outputs": [
    {
     "name": "stdout",
     "output_type": "stream",
     "text": [
      "Rings\n",
      "9        689\n",
      "10       634\n",
      "8        568\n",
      "11       487\n",
      "7        391\n",
      "12       267\n",
      "6        259\n",
      "13       203\n",
      "14       126\n",
      "5        115\n",
      "15       103\n",
      "16        67\n",
      "17        58\n",
      "4         57\n",
      "18        42\n",
      "19        32\n",
      "20        26\n",
      "3         15\n",
      "21        14\n",
      "23         9\n",
      "22         6\n",
      "27         2\n",
      "24         2\n",
      "26         1\n",
      "1          1\n",
      "25         1\n",
      "2          1\n",
      "29         1\n",
      "dtype: int64\n"
     ]
    }
   ],
   "source": [
    "labelss=labels.value_counts()\n",
    "print(labelss)"
   ]
  },
  {
   "cell_type": "code",
   "execution_count": 55,
   "id": "1767d3f5",
   "metadata": {},
   "outputs": [],
   "source": [
    "#The numbers on the right are from largest to smallest, the last few numbers have 1. The numbers on the left are in no specific order"
   ]
  },
  {
   "cell_type": "code",
   "execution_count": 69,
   "id": "e690758a",
   "metadata": {},
   "outputs": [],
   "source": [
    "labelss['age']= 'data'"
   ]
  },
  {
   "cell_type": "code",
   "execution_count": 70,
   "id": "f93dd4b8",
   "metadata": {},
   "outputs": [
    {
     "data": {
      "text/plain": [
       "Rings\n",
       "9         689\n",
       "10        634\n",
       "8         568\n",
       "11        487\n",
       "7         391\n",
       "12        267\n",
       "6         259\n",
       "13        203\n",
       "14        126\n",
       "5         115\n",
       "15        103\n",
       "16         67\n",
       "17         58\n",
       "4          57\n",
       "18         42\n",
       "19         32\n",
       "20         26\n",
       "3          15\n",
       "21         14\n",
       "23          9\n",
       "22          6\n",
       "27          2\n",
       "24          2\n",
       "26          1\n",
       "1           1\n",
       "25          1\n",
       "2           1\n",
       "29          1\n",
       "age      data\n",
       "dtype: object"
      ]
     },
     "execution_count": 70,
     "metadata": {},
     "output_type": "execute_result"
    }
   ],
   "source": [
    "labelss"
   ]
  },
  {
   "cell_type": "code",
   "execution_count": 71,
   "id": "0b6ea0f7",
   "metadata": {},
   "outputs": [],
   "source": [
    "#Here now we see what the information is rather than not understanding what it was telling us. The info on the left is the age(bottom left) and the info on the right is its data that was from abalone.data(bottom right)"
   ]
  },
  {
   "cell_type": "code",
   "execution_count": null,
   "id": "70498a62",
   "metadata": {},
   "outputs": [],
   "source": []
  },
  {
   "cell_type": "markdown",
   "id": "b1532366",
   "metadata": {},
   "source": [
    "## Exercise 2: (20 points)\n",
    "\n",
    "\n",
    "Consider that a person is standing on the real line at a given point $x_0$. The person then goes on a \"random walk\", meaning that they first take a step of size 1 in a random direction (so after this step they are either standing at $x_0+1$ or $x_0-1$), then they take another step of size 1 in a random direction (after the second step they are standing at one of $x_0-2,  x_0, $ or  $x_0+2$), and they continue this process for $n$ steps. At each stage, the person flips a fair coin to decide which direction to go in.\n",
    "1. Write a function `RandomWalk(num_steps,start_position)`, that takes the number of steps `num_steps` for a random walk and the `start_position` of the random walk on the real line (so a float), and returns the location of the final step of the random walker.\n",
    "2. Write another function `SimulateRandomWalk(num_sims,num_steps,start_position)` that simulates num_sims number of random walks, each of which contains `num_steps` steps and starts at `start_position`. Then, this function calls `RandomWalk()` repeatedly for `num_sims` times and finally returns a vector of size `num_sim` containing the final locations of all of the `num_sims` simulated random-walks.\n",
    "3. Now write a script that plots the output of `SimulateRandomWalk(num_sims = 10000, num_steps = 100, start_position = 0)` in a histogram\n",
    "4. Repeat step 3 for `num_steps` = 1000, 5000\n"
   ]
  },
  {
   "cell_type": "markdown",
   "id": "40d4dd43",
   "metadata": {},
   "source": [
    "Problem 1"
   ]
  },
  {
   "cell_type": "code",
   "execution_count": 16,
   "id": "668f8f67",
   "metadata": {},
   "outputs": [],
   "source": [
    "import random\n",
    "\n",
    "def RandomWalk(num_steps, start_position):\n",
    "    current_position=start_position\n",
    "    for i in range(num_steps):\n",
    "        direction=random.choice([-1, 1])\n",
    "        current_position += direction\n",
    "    return current_position"
   ]
  },
  {
   "cell_type": "markdown",
   "id": "da7be186",
   "metadata": {},
   "source": [
    "Problem 2"
   ]
  },
  {
   "cell_type": "code",
   "execution_count": 17,
   "id": "59d11a19",
   "metadata": {},
   "outputs": [],
   "source": [
    "def SimulateRandomWalk(num_sims, num_steps, start_position):\n",
    "    final_positions = []\n",
    "    for i in range(num_sims):\n",
    "        final_positions.append(RandomWalk(num_steps, start_position))\n",
    "    return final_positions"
   ]
  },
  {
   "cell_type": "markdown",
   "id": "9fad10ad",
   "metadata": {},
   "source": [
    "Problem 3"
   ]
  },
  {
   "cell_type": "code",
   "execution_count": 7,
   "id": "70bcfe42",
   "metadata": {},
   "outputs": [
    {
     "data": {
      "image/png": "[encoded data removed]",
      "text/plain": [
       "<Figure size 640x480 with 1 Axes>"
      ]
     },
     "metadata": {},
     "output_type": "display_data"
    }
   ],
   "source": [
    "final_positions = SimulateRandomWalk(16900, 100, 0)\n",
    "plt.hist(final_positions, bins=range(min(final_positions), max(final_positions)+2), align='left', color='red')\n",
    "plt.title('Histogram')\n",
    "plt.xlabel('Final Position')\n",
    "plt.ylabel('Frequency')\n",
    "plt.show()"
   ]
  },
  {
   "cell_type": "markdown",
   "id": "93d49f6b",
   "metadata": {},
   "source": [
    "Problem 4"
   ]
  },
  {
   "cell_type": "code",
   "execution_count": 9,
   "id": "0f9c733d",
   "metadata": {},
   "outputs": [
    {
     "data": {
      "image/png": "[encoded data removed]",
      "text/plain": [
       "<Figure size 640x480 with 1 Axes>"
      ]
     },
     "metadata": {},
     "output_type": "display_data"
    }
   ],
   "source": [
    "final_positions = SimulateRandomWalk(16900, 1000, 0)\n",
    "plt.hist(final_positions, bins=range(min(final_positions), max(final_positions)+2), align='left', color='green')\n",
    "plt.title('Histogram of Final Positions for Random Walks (num_steps=1000)')\n",
    "plt.xlabel('Final Position')\n",
    "plt.ylabel('Frequency')\n",
    "plt.show()"
   ]
  },
  {
   "cell_type": "code",
   "execution_count": 12,
   "id": "821d25d3",
   "metadata": {},
   "outputs": [
    {
     "data": {
      "image/png": "[encoded data removed]",
      "text/plain": [
       "<Figure size 640x480 with 1 Axes>"
      ]
     },
     "metadata": {},
     "output_type": "display_data"
    }
   ],
   "source": [
    "final_positions = SimulateRandomWalk(16900, 5000, 0)\n",
    "plt.hist(final_positions, bins=range(min(final_positions), max(final_positions)+2), align='left', color='blue')\n",
    "plt.title('Histogram of Final Positions for Random Walks (num_steps=5000)')\n",
    "plt.xlabel('Final Position')\n",
    "plt.ylabel('Frequency')\n",
    "plt.show()"
   ]
  },
  {
   "cell_type": "markdown",
   "id": "9ad7c04c",
   "metadata": {},
   "source": [
    "## Exercise 4: (15 Points)\n",
    "\n",
    "Consider the problem of projectile motion that we solved in class and we calculated the **height** of the motion (or in the Y-direction). Here is the class we defined for the projectile, (**Note** I renamed the **getHieght** method (function) to **getLocY**, which is a *method* (a function) to calculate the Y-component of the location):"
   ]
  },
  {
   "cell_type": "code",
   "execution_count": 31,
   "id": "52ee81a8",
   "metadata": {},
   "outputs": [],
   "source": [
    "class ProjLocY():  \n",
    "    def __init__(self, velInitY, g = 9.8):  \n",
    "        self.velInitY = velInitY # initial velocity along the y direction.  \n",
    "        self.gravityConstant = g # gravityConstant, 9.81 on earth.  \n",
    "    def getLocY(self, time):  \n",
    "        \"\"\"  \n",
    "        Return the location of the projectile at the specific given `time` and initial velocity.  \n",
    "        Input  \n",
    "            time    :   An input real (float) representing the time  \n",
    "                        past since the start of the projectile motion.  \n",
    "        \"\"\"  \n",
    "        return self.velInitY * time - 0.5 * self.gravityConstant * time**2  \n",
    "    \n",
    "    def evaluate(self, time): \n",
    "        return self.getLocY(time)  "
   ]
  },
  {
   "cell_type": "markdown",
   "id": "5673ca7a",
   "metadata": {},
   "source": [
    "1. Now, define a similar class for projectile motion in the x direction.\n",
    "(Note: Recall the projectile motion along the x direction does not involve acceleration.)\n",
    "\n",
    "1. Define a subclass that inherits the properties of the projectiles in x and y directions from the corresponding super (parent) classes (```ProjLocX``` and ```ProjLocY```).\n",
    "\n",
    "1. In addition to the inherited methods (functions), this new subclass must contain a ```evaluate(self, time)``` method which computes and returns the location (x,y) of the projectile by calling and aggregating information from the corresponding methods of the parent classes ```getLocX(time)``` and ```getLocY(time)```.\n",
    "\n",
    "1. Compute and return the location of the projectile in X-Y plane for initial velocities (10, 10) meters / sec at time 1 sec since the start of the projectile.\n"
   ]
  },
  {
   "cell_type": "code",
   "execution_count": 34,
   "id": "33135bac",
   "metadata": {},
   "outputs": [],
   "source": [
    "class ProjLocX:\n",
    "    def __init__(self, initial_velocity, initial_position):\n",
    "        self.velocity=initial_velocity\n",
    "        self.position=initial_position\n",
    "    def getlocx(self, time):\n",
    "        return self.velocity*time+self.position"
   ]
  },
  {
   "cell_type": "code",
   "execution_count": 35,
   "id": "f3d3e6d8",
   "metadata": {},
   "outputs": [],
   "source": [
    "class ProjLocY:\n",
    "    def __init__(self, initial_velocity, initial_position):\n",
    "        self.velocity=initial_velocity\n",
    "        self.position=initial_position\n",
    "        self.gravity=9.81\n",
    "    def getlocy(self, time):\n",
    "        return self.velocity*time-0.5*self.gravity*time**2+self.position"
   ]
  },
  {
   "cell_type": "code",
   "execution_count": 36,
   "id": "0280a3c8",
   "metadata": {},
   "outputs": [],
   "source": [
    "class Projectile(ProjLocX, ProjLocY):\n",
    "    def __init__(self, initial_velocity, initial_position):\n",
    "        ProjLocX.__init__(self, initial_velocity[0], initial_position[0])\n",
    "        ProjLocY.__init__(self, initial_velocity[1], initial_position[1])\n",
    "    def evaluate(self, time):\n",
    "        return self.getlocx(time), self.getlocy(time)"
   ]
  },
  {
   "cell_type": "code",
   "execution_count": 37,
   "id": "32a5e043",
   "metadata": {},
   "outputs": [
    {
     "name": "stdout",
     "output_type": "stream",
     "text": [
      "Location at t=1s: (10.00, 5.09) m\n"
     ]
    }
   ],
   "source": [
    "projectile = Projectile((10, 10), (0, 0))\n",
    "x, y = projectile.evaluate(1)\n",
    "print(f\"Location at t=1s: ({x:.2f}, {y:.2f}) m\")"
   ]
  },
  {
   "cell_type": "markdown",
   "id": "ad0e2e8e",
   "metadata": {},
   "source": [
    "## Bonus Exercise: (30 points)\n",
    "If you invest a principal value of $P$ at time 0, and interest is continuously compounded at a rate $r$ (between 0 and 1), then the amount of money you would have after $t$ years is\n",
    "$$M(t) = Pe^{rt}.$$\n",
    "Fry has \\\\$0.01 in his bank account, but is accidentally transported 1,000 years into the future. He returns to his bank (which luckily still exists) to see how much money he now has. Assume Fry's account earns continuously compounded interest at a rate of 5\\% (or $r=0.05$).\n",
    "1. Create a numpy array of time from 0 to 1,000 years increasing by 1 year\n",
    "1. Create a new numpy array that calculates how much money Fry's account has at each year\n",
    "1. Plot Fry's money over the given timeframe\n",
    "\n",
    "\n",
    "Now if Fry only earned simple interest, the amount of money he would have after $t$ years would be\n",
    "$$ S(t) = P(1+rt).$$\n",
    "\n",
    "1. Perform the same procedure as steps 1-3 above assuming Fry earns 5\\% simple interest.\n",
    "1. To illustrate the difference, also plot $M(t)-S(t)$ over the timeframe.\n",
    "1. What do you conclude?\n",
    "\n",
    "*Aside:* This problem, while silly, should teach you an important lesson: invest your money as early as you possibly can!"
   ]
  },
  {
   "cell_type": "code",
   "execution_count": 18,
   "id": "68ef8f09",
   "metadata": {},
   "outputs": [],
   "source": [
    "import numpy as np\n",
    "import matplotlib.pyplot as plt"
   ]
  },
  {
   "cell_type": "markdown",
   "id": "6ae97ca8",
   "metadata": {},
   "source": [
    "First 1-3 Problems"
   ]
  },
  {
   "cell_type": "code",
   "execution_count": 20,
   "id": "9ef57b29",
   "metadata": {},
   "outputs": [],
   "source": [
    "P=0.01\n",
    "r=0.05\n",
    "time=np.arange(0, 1001)\n",
    "M=P*np.exp(r * time)"
   ]
  },
  {
   "cell_type": "code",
   "execution_count": 21,
   "id": "7902748e",
   "metadata": {},
   "outputs": [
    {
     "data": {
      "image/png": "[encoded data removed]",
      "text/plain": [
       "<Figure size 640x480 with 1 Axes>"
      ]
     },
     "metadata": {},
     "output_type": "display_data"
    }
   ],
   "source": [
    "plt.plot(time, M)\n",
    "plt.xlabel('Time (years)')\n",
    "plt.ylabel('Amount of Money')\n",
    "plt.title(\"Continuous Compounding Interest\")\n",
    "plt.show()"
   ]
  },
  {
   "cell_type": "markdown",
   "id": "00cb5b97",
   "metadata": {},
   "source": [
    "Second 1-3 Problems"
   ]
  },
  {
   "cell_type": "code",
   "execution_count": 22,
   "id": "ccf7aa88",
   "metadata": {},
   "outputs": [],
   "source": [
    "S=P*(1+r*time)"
   ]
  },
  {
   "cell_type": "code",
   "execution_count": 29,
   "id": "d13e8ab8",
   "metadata": {},
   "outputs": [
    {
     "data": {
      "image/png": "[encoded data removed]",
      "text/plain": [
       "<Figure size 640x480 with 1 Axes>"
      ]
     },
     "metadata": {},
     "output_type": "display_data"
    }
   ],
   "source": [
    "diff=M-S\n",
    "plt.plot(time, diff)\n",
    "plt.xlabel('Time (years)')\n",
    "plt.ylabel('Difference in Amount of Money')\n",
    "plt.title(\"Difference between cintinuous compounding and Simple Interest \")\n",
    "plt.show()"
   ]
  },
  {
   "cell_type": "code",
   "execution_count": 30,
   "id": "55f63013",
   "metadata": {},
   "outputs": [],
   "source": [
    "#Fry's money grows exponentially in continuous compounding\n",
    "#Fry's money grows linearly in SImple Interest."
   ]
  },
  {
   "cell_type": "code",
   "execution_count": null,
   "id": "22494fd3",
   "metadata": {},
   "outputs": [],
   "source": []
  }
 ],
 "metadata": {
  "kernelspec": {
   "display_name": "Python 3 (ipykernel)",
   "language": "python",
   "name": "python3"
  },
  "language_info": {
   "codemirror_mode": {
    "name": "ipython",
    "version": 3
   },
   "file_extension": ".py",
   "mimetype": "text/x-python",
   "name": "python",
   "nbconvert_exporter": "python",
   "pygments_lexer": "ipython3",
   "version": "3.10.9"
  }
 },
 "nbformat": 4,
 "nbformat_minor": 5
}
