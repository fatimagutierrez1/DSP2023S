{
 "cells": [
  {
   "cell_type": "markdown",
   "id": "b1e672e3",
   "metadata": {},
   "source": [
    "# <center>Lab 9 &ndash; DATA 3401 (Fall 2022)</center>\n",
    "\n",
    "## Lab Date: 11/11\n",
    "## Due Date 1/18 (before the beginning of lab)\n",
    "\n",
    "## Lab Description\n",
    "The purpose of this lab is for you to become more familiar with reading and writing .txt files"
   ]
  },
  {
   "cell_type": "markdown",
   "id": "266ca2b4",
   "metadata": {},
   "source": [
    "## Exercise 1\n",
    "\n",
    "1. Download the file `Shakespeare.txt` from this folder of the course repo into your Lab9 folder. \n",
    "1. Open the file in read mode, and print the file one line at a time in your notebook (get rid of any extra line breaks if they appear)\n",
    "1. Write a function that takes a single character string input argument that counts the number of times that character appears in the text file (that is, `count_char(char)` should return the number of times `char` appears in the file, where `char` could be `a`, `b`, `c`, ...)\n",
    "1. Using your function from the previous part, count the number of times a, e, ', and '&nbsp;' (the space character) appear in the document. Display the counts nicely with print statements. "
   ]
  },
  {
   "cell_type": "code",
   "execution_count": 1,
   "id": "123973fe",
   "metadata": {},
   "outputs": [],
   "source": [
    "file1=open('Shakespeare.txt','r')\n",
    "file1.close()"
   ]
  },
  {
   "cell_type": "code",
   "execution_count": 2,
   "id": "6c645c0f",
   "metadata": {},
   "outputs": [
    {
     "name": "stdout",
     "output_type": "stream",
     "text": [
      "So is it not with me as with that Muse\n",
      "Stirr'd by a painted beauty to his verse,\n",
      "Who heaven itself for ornament doth use\n",
      "And every fair with his fair doth rehearse\n",
      "Making a couplement of proud compare,\n",
      "With sun and moon, with earth and sea's rich gems,\n",
      "With April's first-born flowers, and all things rare\n",
      "That heaven's air in this huge rondure hems.\n",
      "O' let me, true in love, but truly write,\n",
      "And then believe me, my love is as fair\n",
      "As any mother's child, though not so bright\n",
      "As those gold candles fix'd in heaven's air:\n",
      "Let them say more than like of hearsay well;\n",
      "I will not praise that purpose not to sell.\n"
     ]
    }
   ],
   "source": [
    "!type Shakespeare.txt"
   ]
  },
  {
   "cell_type": "code",
   "execution_count": 5,
   "id": "aa7c40bc",
   "metadata": {},
   "outputs": [],
   "source": [
    "def characters(n):\n",
    "    file1=open('Shakespeare.txt','r')\n",
    "    a=file1.readlines()\n",
    "    countchar=0\n",
    "    for el in a:\n",
    "        for letter in el:\n",
    "            if letter==n:\n",
    "                countchar+=1\n",
    "    print(\"The number of '{}'is {}\".format(n,countchar))\n",
    "    file1.close()"
   ]
  },
  {
   "cell_type": "code",
   "execution_count": 6,
   "id": "c38bed63",
   "metadata": {},
   "outputs": [
    {
     "name": "stdout",
     "output_type": "stream",
     "text": [
      "The number of 'a'is 35\n"
     ]
    }
   ],
   "source": [
    "characters('a')"
   ]
  },
  {
   "cell_type": "code",
   "execution_count": 7,
   "id": "5492e582",
   "metadata": {},
   "outputs": [
    {
     "name": "stdout",
     "output_type": "stream",
     "text": [
      "The number of 'e'is 54\n"
     ]
    }
   ],
   "source": [
    "characters('e')"
   ]
  },
  {
   "cell_type": "code",
   "execution_count": 9,
   "id": "811f59e2",
   "metadata": {},
   "outputs": [
    {
     "name": "stdout",
     "output_type": "stream",
     "text": [
      "The number of ' 'is 103\n"
     ]
    }
   ],
   "source": [
    "characters(' ')"
   ]
  },
  {
   "cell_type": "markdown",
   "id": "c57e3b5d",
   "metadata": {},
   "source": [
    "## Exercise 2\n",
    "\n",
    "1. Write a function that takes in three arguments `string`, `char`, `replacement`, that replaces every instance of `char` in `string` with `replacement`.  For example, `replace('Hello','l','!')` would return `He!!o`.  Note, you may use your function from the midterm as a starting point.\n",
    "1. Capture the text from `Shakespeare.txt`, and replace all of the character 'a' with '#'\n",
    "1. Write the new text to a new file called `Shakespeare_modified.txt`"
   ]
  },
  {
   "cell_type": "code",
   "execution_count": 10,
   "id": "7868f952",
   "metadata": {},
   "outputs": [],
   "source": [
    "def replace(string, char, replacement):\n",
    "    a1=str(string)\n",
    "    a=a1.split(' ')\n",
    "    b=[]\n",
    "    for el in a:\n",
    "        for letter in el:\n",
    "            if letter==char:\n",
    "                letter=replacement\n",
    "            b.append(letter)\n",
    "    print(str(' '.join(b)))"
   ]
  },
  {
   "cell_type": "code",
   "execution_count": 11,
   "id": "3cb97e62",
   "metadata": {},
   "outputs": [
    {
     "name": "stdout",
     "output_type": "stream",
     "text": [
      "[ ' S o i s i t n o t w i t h m e # s w i t h t h # t M u s e \\ n ' , \" S t i r r ' d b y # p # i n t e d b e # u t y t o h i s v e r s e , \\ n \" , ' W h o h e # v e n i t s e l f f o r o r n # m e n t d o t h u s e \\ n ' , ' A n d e v e r y f # i r w i t h h i s f # i r d o t h r e h e # r s e \\ n ' , ' M # k i n g # c o u p l e m e n t o f p r o u d c o m p # r e , \\ n ' , \" W i t h s u n # n d m o o n , w i t h e # r t h # n d s e # ' s r i c h g e m s , \\ n \" , \" W i t h A p r i l ' s f i r s t - b o r n f l o w e r s , # n d # l l t h i n g s r # r e \\ n \" , \" T h # t h e # v e n ' s # i r i n t h i s h u g e r o n d u r e h e m s . \\ n \" , \" O ' l e t m e , t r u e i n l o v e , b u t t r u l y w r i t e , \\ n \" , ' A n d t h e n b e l i e v e m e , m y l o v e i s # s f # i r \\ n ' , \" A s # n y m o t h e r ' s c h i l d , t h o u g h n o t s o b r i g h t \\ n \" , \" A s t h o s e g o l d c # n d l e s f i x ' d i n h e # v e n ' s # i r : \\ n \" , ' L e t t h e m s # y m o r e t h # n l i k e o f h e # r s # y w e l l ; \\ n ' , ' I w i l l n o t p r # i s e t h # t p u r p o s e n o t t o s e l l . ' ]\n"
     ]
    }
   ],
   "source": [
    "file1=open('Shakespeare.txt','r')\n",
    "a=file1.readlines()\n",
    "replace(a,'a','#')\n",
    "file1.close()"
   ]
  },
  {
   "cell_type": "code",
   "execution_count": 12,
   "id": "db580795",
   "metadata": {},
   "outputs": [
    {
     "name": "stdout",
     "output_type": "stream",
     "text": [
      "So is it not with me #s with th#t Muse\n",
      "Stirr'd by # p#inted be#uty to his verse,\n",
      "Who he#ven itself for orn#ment doth use\n",
      "And every f#ir with his f#ir doth rehe#rse\n",
      "M#king # couplement of proud comp#re,\n",
      "With sun #nd moon, with e#rth #nd se#'s rich gems,\n",
      "With April's first-born flowers, #nd #ll things r#re\n",
      "Th#t he#ven's #ir in this huge rondure hems.\n",
      "O' let me, true in love, but truly write,\n",
      "And then believe me, my love is #s f#ir\n",
      "As #ny mother's child, though not so bright\n",
      "As those gold c#ndles fix'd in he#ven's #ir:\n",
      "Let them s#y more th#n like of he#rs#y well;\n",
      "I will not pr#ise th#t purpose not to sell.\n"
     ]
    }
   ],
   "source": [
    "f=open('Shakespeare.txt','r')\n",
    "a=f.read()\n",
    "f=open('Shakespeare_modified.txt','w')\n",
    "f.write(a.replace('a','#'))\n",
    "f.close()\n",
    "f=open('Shakespeare_modified.txt','r')\n",
    "print(f.read())"
   ]
  },
  {
   "cell_type": "markdown",
   "id": "33068a69",
   "metadata": {},
   "source": [
    "## Exercise 3\n",
    "\n",
    "1. Write a function that takes an integer input argument `n`, opens the `Shakespeare.txt` file, and creates a list of all words in the file whose length is less than or equal to `n`.\n",
    "1. Test your function with `n=2, 4, 6`. For each `n`, you should print out the full list."
   ]
  },
  {
   "cell_type": "code",
   "execution_count": null,
   "id": "ce8f33aa",
   "metadata": {},
   "outputs": [],
   "source": []
  }
 ],
 "metadata": {
  "kernelspec": {
   "display_name": "Python 3 (ipykernel)",
   "language": "python",
   "name": "python3"
  },
  "language_info": {
   "codemirror_mode": {
    "name": "ipython",
    "version": 3
   },
   "file_extension": ".py",
   "mimetype": "text/x-python",
   "name": "python",
   "nbconvert_exporter": "python",
   "pygments_lexer": "ipython3",
   "version": "3.10.9"
  }
 },
 "nbformat": 4,
 "nbformat_minor": 5
}
