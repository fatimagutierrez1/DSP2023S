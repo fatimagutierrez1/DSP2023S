{
 "cells": [
  {
   "cell_type": "code",
   "execution_count": null,
   "id": "2b425ba1",
   "metadata": {},
   "outputs": [],
   "source": [
    "0.75, 0.29619813, -0.29619813, -0.75\n",
    " 0.29619813, 0.11697778, -0.11697778, -0.29619813\n",
    "-0.29619813, -0.11697778, 0.11697778, 0.29619813\n",
    "-0.75, -0.29619813, 0.29619813, 0.75"
   ]
  }
 ],
 "metadata": {
  "kernelspec": {
   "display_name": "Python 3 (ipykernel)",
   "language": "python",
   "name": "python3"
  },
  "language_info": {
   "codemirror_mode": {
    "name": "ipython",
    "version": 3
   },
   "file_extension": ".py",
   "mimetype": "text/x-python",
   "name": "python",
   "nbconvert_exporter": "python",
   "pygments_lexer": "ipython3",
   "version": "3.10.9"
  }
 },
 "nbformat": 4,
 "nbformat_minor": 5
}
