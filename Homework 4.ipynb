{
 "cells": [
  {
   "cell_type": "markdown",
   "id": "748c3de9",
   "metadata": {},
   "source": [
    "Implementing the Bell-shaped (Gaussian) function"
   ]
  },
  {
   "cell_type": "code",
   "execution_count": 40,
   "id": "0f1f2e9a",
   "metadata": {},
   "outputs": [],
   "source": [
    "import math"
   ]
  },
  {
   "cell_type": "code",
   "execution_count": 56,
   "id": "d7438231",
   "metadata": {},
   "outputs": [
    {
     "name": "stdout",
     "output_type": "stream",
     "text": [
      "<built-in function sqrt>\n"
     ]
    }
   ],
   "source": [
    "print(math.sqrt)"
   ]
  },
  {
   "cell_type": "code",
   "execution_count": 58,
   "id": "715c61f8",
   "metadata": {},
   "outputs": [
    {
     "name": "stdout",
     "output_type": "stream",
     "text": [
      "3.141592653589793\n"
     ]
    }
   ],
   "source": [
    "print(math.pi)"
   ]
  },
  {
   "cell_type": "code",
   "execution_count": 59,
   "id": "b67cb4e7",
   "metadata": {},
   "outputs": [
    {
     "name": "stdout",
     "output_type": "stream",
     "text": [
      "<built-in function exp>\n"
     ]
    }
   ],
   "source": [
    "print(math.exp)"
   ]
  },
  {
   "cell_type": "code",
   "execution_count": null,
   "id": "1abc3305",
   "metadata": {},
   "outputs": [],
   "source": [
    "m=0\n",
    "sig=2\n",
    "x=2"
   ]
  },
  {
   "cell_type": "code",
   "execution_count": null,
   "id": "a10e74cb",
   "metadata": {},
   "outputs": [],
   "source": [
    "f=1/(sig*sqrt(2*pi))*exp(-((x-m)^2/(2*(sig)^2)))"
   ]
  },
  {
   "cell_type": "markdown",
   "id": "5fb3d36c",
   "metadata": {},
   "source": [
    "Check if number is even in one line function definition"
   ]
  },
  {
   "cell_type": "code",
   "execution_count": null,
   "id": "226c0bf0",
   "metadata": {},
   "outputs": [],
   "source": [
    "def is_even(n):\n",
    "    return True if n%2==0 else False\n",
    "while True:\n",
    "    number =int(input(\"Enter a number:\"))\n",
    "    if number ==0:\n",
    "        break\n",
    "    else:\n",
    "        if is_even(number):\n",
    "            print(\"Even\")\n",
    "        else:\n",
    "            print(\"Odd\")"
   ]
  },
  {
   "cell_type": "code",
   "execution_count": null,
   "id": "157fb737",
   "metadata": {},
   "outputs": [],
   "source": [
    "is_even(3)"
   ]
  },
  {
   "cell_type": "markdown",
   "id": "81d4ff49",
   "metadata": {},
   "source": [
    "Getting the largest prime number smaller than the input value"
   ]
  },
  {
   "cell_type": "code",
   "execution_count": null,
   "id": "6ad3c1ed",
   "metadata": {},
   "outputs": [],
   "source": [
    "def isPrime_for(n):\n",
    "    \n",
    "    isPrime_for = True\n",
    "    \n",
    "    def is_divisible(n,divisor):\n",
    "        if n<(divisor-1)*divisor: return False\n",
    "        if n%divisor==0: return True\n",
    "        else:\n",
    "            divisor += 1\n",
    "            return is_divisible(n,divisor)\n",
    "\n",
    "    if n==2:\n",
    "        isPrime_for = True\n",
    "    elif is_divisible(n,divisor=2):\n",
    "        isPrime_for = False\n",
    "    return isPrime\n",
    "\n",
    "def get_prime_for(n):\n",
    "    if n <= 2:\n",
    "        return 0\n",
    "    else:\n",
    "        return isPrime_for(n-1) + get_prime_for(n-1)"
   ]
  },
  {
   "cell_type": "code",
   "execution_count": null,
   "id": "e2010d77",
   "metadata": {},
   "outputs": [],
   "source": [
    "get_prime_for(500)"
   ]
  },
  {
   "cell_type": "code",
   "execution_count": null,
   "id": "a5053d6c",
   "metadata": {},
   "outputs": [],
   "source": [
    "def isPrime(n):\n",
    "    \n",
    "    isPrime = True\n",
    "    \n",
    "    def is_divisible(n,divisor):\n",
    "        if n<(divisor-1)*divisor: return False\n",
    "        if n%divisor==0: return True\n",
    "        else:\n",
    "            divisor += 1\n",
    "            return is_divisible(n,divisor)\n",
    "\n",
    "    if n==2:\n",
    "        isPrime = True\n",
    "    elif is_divisible(n,divisor=2):\n",
    "        isPrime = False\n",
    "    return isPrime\n",
    "\n",
    "def getNumPrimes(n):\n",
    "    if n <= 2:\n",
    "        return 0\n",
    "    else:\n",
    "        return isPrime(n-1) + getNumPrimes(n-1)"
   ]
  },
  {
   "cell_type": "code",
   "execution_count": null,
   "id": "9366488e",
   "metadata": {},
   "outputs": [],
   "source": [
    "getNumPrimes(500)"
   ]
  },
  {
   "cell_type": "code",
   "execution_count": null,
   "id": "2e145065",
   "metadata": {},
   "outputs": [],
   "source": [
    "%timeit getNumPrimes(500) #733 μs +- 35.1 μs per loop (mean +- std. dev. of 7 runs, 1000 loops each)"
   ]
  },
  {
   "cell_type": "code",
   "execution_count": null,
   "id": "8e6f681f",
   "metadata": {},
   "outputs": [],
   "source": [
    "%timeit getNumPrimes_For(500) #644 μs +- μs per loop (mean +- std. dev. of 7 runs, 1000 loops each)"
   ]
  },
  {
   "cell_type": "code",
   "execution_count": null,
   "id": "ba19e5be",
   "metadata": {},
   "outputs": [],
   "source": [
    "#getNumPrimes is faster than getNumPrimes_For"
   ]
  },
  {
   "cell_type": "code",
   "execution_count": null,
   "id": "ac597856",
   "metadata": {},
   "outputs": [],
   "source": []
  }
 ],
 "metadata": {
  "kernelspec": {
   "display_name": "Python 3 (ipykernel)",
   "language": "python",
   "name": "python3"
  },
  "language_info": {
   "codemirror_mode": {
    "name": "ipython",
    "version": 3
   },
   "file_extension": ".py",
   "mimetype": "text/x-python",
   "name": "python",
   "nbconvert_exporter": "python",
   "pygments_lexer": "ipython3",
   "version": "3.9.13"
  }
 },
 "nbformat": 4,
 "nbformat_minor": 5
}
