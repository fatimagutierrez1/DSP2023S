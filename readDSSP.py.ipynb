{
 "cells": [
  {
   "cell_type": "code",
   "execution_count": 3,
   "id": "a10bdc65",
   "metadata": {},
   "outputs": [],
   "source": [
    "import os\n",
    "import sys\n",
    "\n",
    "#Max surface area of each amino acid\n",
    "max_surface_area = {'A': 129.0, 'R': 274.0, 'N': 195.0, 'D': 193.0, 'C': 167.0, 'Q': 225.0, 'E': 223.0, 'G': 104.0, 'H': 224.0, 'I': 197.0, 'L': 201.0, 'K': 236.0, 'M': 224.0, 'F': 240.0, 'P': 159.0, 'S': 155.0, 'T': 172.0, 'W': 285.0, 'Y': 263.0, 'V': 159.0}\n",
    "\n",
    "input_filename=sys.argv[1]\n",
    "output_filename=sys.argv[2]\n",
    "\n",
    "def csv_format(input_file, output_file):\n",
    "    protein_name=os.path.splitext(os.path.basename(input_file))[0]\n",
    "\n",
    "if os.path.isfile(output_filename):\n",
    "    output_file_mode='a'\n",
    "else:\n",
    "    output_file_mode='w'"
   ]
  },
  {
   "cell_type": "code",
   "execution_count": null,
   "id": "982e1008",
   "metadata": {},
   "outputs": [],
   "source": [
    "with open('input_filename', 'r') as input_file, open(output_filename, output_file_mode) as output_file:\n",
    "    output_file.write('Protein: {}\\n\\n'.format(protein_name))\n",
    "    for line in input_file:\n",
    "        if line.startswith('  #  RESIDUE'):\n",
    "            columns=line.strip().split()\n",
    "            aa_column_index=columns.index('AA')\n",
    "            for line in input_file:\n",
    "                if line.startswith('  #'):\n",
    "                    break\n",
    "                \n",
    "                columns=line.strip().split()\n",
    "                aa_name=columns[aa_column_index]\n",
    "                aa_surface_area=float(columns[3])\n",
    "                \n",
    "                rsa=aa_surface_area / max_surface_area[aa_name]\n",
    "                \n",
    "                output_file.write('{:<3} {:>6.1f}{:>6.3f}\\n'.format(aa_name, aa_surface_area, rsa))\n",
    "    output_file.write('\\n')"
   ]
  },
  {
   "cell_type": "code",
   "execution_count": 2,
   "id": "808ef6eb",
   "metadata": {},
   "outputs": [
    {
     "ename": "SyntaxError",
     "evalue": "invalid decimal literal (1192597296.py, line 1)",
     "output_type": "error",
     "traceback": [
      "\u001b[1;36m  Cell \u001b[1;32mIn[2], line 1\u001b[1;36m\u001b[0m\n\u001b[1;33m    python calculate_RSA.py 1A2T_A.dssp output.txt\u001b[0m\n\u001b[1;37m                            ^\u001b[0m\n\u001b[1;31mSyntaxError\u001b[0m\u001b[1;31m:\u001b[0m invalid decimal literal\n"
     ]
    }
   ],
   "source": [
    "python readDSSP.py 1A2T_A.dssp output.txt"
   ]
  },
  {
   "cell_type": "code",
   "execution_count": null,
   "id": "11721aac",
   "metadata": {},
   "outputs": [],
   "source": []
  }
 ],
 "metadata": {
  "kernelspec": {
   "display_name": "Python 3 (ipykernel)",
   "language": "python",
   "name": "python3"
  },
  "language_info": {
   "codemirror_mode": {
    "name": "ipython",
    "version": 3
   },
   "file_extension": ".py",
   "mimetype": "text/x-python",
   "name": "python",
   "nbconvert_exporter": "python",
   "pygments_lexer": "ipython3",
   "version": "3.10.9"
  }
 },
 "nbformat": 4,
 "nbformat_minor": 5
}
