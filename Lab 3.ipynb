{
 "cells": [
  {
   "cell_type": "markdown",
   "metadata": {},
   "source": [
    "# <center>Lab 3 &ndash; DATA 3401 (Spring 2023)</center>\n",
    "\n",
    "## Lab Date: 3/3\n",
    "## Due Date 3/10 (before the beginning of lab)\n",
    "\n",
    "## Lab Description\n",
    "The purpose of this lab is for you to gain practice with conditionals and loops as we have discussed in lecture\n",
    "\n",
    "In all exercises below, if you are able, please try to write a function, but I will accept you writing a script instead without penalty.  "
   ]
  },
  {
   "cell_type": "markdown",
   "metadata": {},
   "source": [
    "## Exercise\n",
    "- As in the previous lab, copy and paste the cells below into a jupyter notebook titled Lab 3\n",
    "- Solve the problems and push them to a new Lab 3 folder in your GitHub repo prior to the deadline"
   ]
  },
  {
   "cell_type": "markdown",
   "metadata": {},
   "source": [
    "## Problem 1:\n",
    "Write a function/script that reads takes a string and returns True if the string is a palindrome. (A palindrome is a string that reads the same forwards and backwards, like 'racecar' or 'tacocat'.) "
   ]
  },
  {
   "cell_type": "code",
   "execution_count": 1,
   "metadata": {},
   "outputs": [],
   "source": [
    "def palindrome(string):\n",
    "    if string.upper()[::-1]==string.upper():\n",
    "        return True\n",
    "    else:\n",
    "        return False"
   ]
  },
  {
   "cell_type": "code",
   "execution_count": 4,
   "metadata": {},
   "outputs": [
    {
     "name": "stdout",
     "output_type": "stream",
     "text": [
      "True\n",
      "False\n",
      "True\n"
     ]
    }
   ],
   "source": [
    "print(palindrome(\"tacocat\"))\n",
    "print(palindrome(\"Hello\"))\n",
    "print(palindrome(\"Denya was I ere I saw Ayned\"))"
   ]
  },
  {
   "cell_type": "markdown",
   "metadata": {},
   "source": [
    "## Problem 2:\n",
    "Write a function/script that takes an integer input between 1 and 10.  If the input is 4, 5, or 6, then display a message 'Congratulations, you win the prize!'.  If the input is less than 4 or greater than 6, then display a mesage 'Sorry, try again.'  If the input is less than 1, greater than 10, or not an integer, display a message 'Invalid input, please input an integer between 1 and 10'."
   ]
  },
  {
   "cell_type": "code",
   "execution_count": 26,
   "metadata": {},
   "outputs": [],
   "source": [
    "def game(guess):\n",
    "    if not isinstance(guess,int) or guess<1 or guess>10:\n",
    "        print(\"Invalid input, please input an integer between 1 and 10.\")\n",
    "    elif guess >=4 and guess <= 6:\n",
    "        print(\"Congratulations, you win the prize\")\n",
    "    else:\n",
    "        print(\"Sorry, try again\")"
   ]
  },
  {
   "cell_type": "code",
   "execution_count": 28,
   "metadata": {},
   "outputs": [
    {
     "name": "stdout",
     "output_type": "stream",
     "text": [
      "input an integer betweek 1 and 10: 5\n",
      "Congratulations, you win the prize\n"
     ]
    }
   ],
   "source": [
    "a=int(input('input an integer betweek 1 and 10: '))\n",
    "if a==4 or a==5 or a==6:\n",
    "    print(\"Congratulations, you win the prize\")\n",
    "elif a<4 or a>6:\n",
    "    print(\"Sorry, try again\")\n",
    "elif a<1 or a>10 or a.type() !=int:\n",
    "    print(\"Invalid input, please input an integer betweek 1 and 1\")"
   ]
  },
  {
   "cell_type": "code",
   "execution_count": 30,
   "metadata": {},
   "outputs": [
    {
     "name": "stdout",
     "output_type": "stream",
     "text": [
      "Invalid input, please input an integer between 1 and 10.\n",
      "Invalid input, please input an integer between 1 and 10.\n",
      "Sorry, try again\n",
      "Congratulations, you win the prize\n",
      "Congratulations, you win the prize\n",
      "Sorry, try again\n"
     ]
    }
   ],
   "source": [
    "game('a')\n",
    "game(3.5)\n",
    "game(1)\n",
    "game(4)\n",
    "game(5)\n",
    "game(7)"
   ]
  },
  {
   "cell_type": "markdown",
   "metadata": {},
   "source": [
    "### Problem 3:\n",
    "Write two functions `even(x)` and `odd(x)` (or scripts; these do not need to be named) that test if an integer x is even (or odd), and returns `True` if x is even (or odd) and `False` otherwise. Test both of your functions for correctness in the second and third cells below"
   ]
  },
  {
   "cell_type": "code",
   "execution_count": 5,
   "metadata": {},
   "outputs": [
    {
     "name": "stdout",
     "output_type": "stream",
     "text": [
      "Enter an integer10\n",
      "True\n"
     ]
    }
   ],
   "source": [
    "x=int(input(\"Enter an integer\"))\n",
    "def even(x):\n",
    "    if x%2==0:\n",
    "        print(True)\n",
    "    else:\n",
    "        print(False)\n",
    "even(x)"
   ]
  },
  {
   "cell_type": "code",
   "execution_count": null,
   "metadata": {},
   "outputs": [],
   "source": [
    "# Test your even function here\n"
   ]
  },
  {
   "cell_type": "code",
   "execution_count": null,
   "metadata": {},
   "outputs": [],
   "source": [
    "# Test your odd function here\n"
   ]
  },
  {
   "cell_type": "markdown",
   "metadata": {},
   "source": [
    "### Problem 4:\n",
    "Write a function/script that takes in a list of numbers, and outputs the maximum number in the list."
   ]
  },
  {
   "cell_type": "code",
   "execution_count": 34,
   "metadata": {},
   "outputs": [],
   "source": [
    "def maximum(lst):\n",
    "    out=lst[0]\n",
    "    for i in lst:\n",
    "        if i>out:\n",
    "            out=i\n",
    "    return out"
   ]
  },
  {
   "cell_type": "code",
   "execution_count": 35,
   "metadata": {},
   "outputs": [
    {
     "name": "stdout",
     "output_type": "stream",
     "text": [
      "1\n",
      "2\n",
      "2\n",
      "4\n",
      "4\n",
      "10\n",
      "10\n",
      "8\n",
      "10\n"
     ]
    }
   ],
   "source": [
    "lst=[1,2,4,10,8]\n",
    "max_value=lst[0]\n",
    "for element in lst:\n",
    "    print(element)\n",
    "    if element>max_value:\n",
    "        max_value=element\n",
    "        print(max_value)\n",
    "print(max_value)"
   ]
  },
  {
   "cell_type": "code",
   "execution_count": 36,
   "metadata": {},
   "outputs": [
    {
     "name": "stdout",
     "output_type": "stream",
     "text": [
      "32\n"
     ]
    }
   ],
   "source": [
    "my_lst= [-2,4,32,0,8,25]\n",
    "print(maximum(my_lst))"
   ]
  },
  {
   "cell_type": "markdown",
   "metadata": {},
   "source": [
    "### Problem 5:\n",
    "Write a function/script that takes a list of numbers as input and returns a list of the subset of elements that are less that 10. Test your solution."
   ]
  },
  {
   "cell_type": "code",
   "execution_count": 12,
   "metadata": {},
   "outputs": [],
   "source": [
    "def less_than_10(lst):\n",
    "    out=[]\n",
    "    for i in lst:\n",
    "        if i< 10:\n",
    "            out.append(i)\n",
    "        return out"
   ]
  },
  {
   "cell_type": "code",
   "execution_count": 27,
   "metadata": {},
   "outputs": [
    {
     "name": "stdout",
     "output_type": "stream",
     "text": [
      "[1, 5, 3]\n"
     ]
    }
   ],
   "source": [
    "my_lst=[1,5,3,10,24,50]\n",
    "output_lst=[]\n",
    "for elements in my_lst:\n",
    "    if elements<10:\n",
    "        output_lst.append(elements)\n",
    "print(output_lst)"
   ]
  },
  {
   "cell_type": "markdown",
   "metadata": {},
   "source": [
    "### Problem 6: \n",
    "Write a function/script that takes a number `x_max` as input and returns a function that performs the same task as Problem 5, but for `x_max` instead of 10."
   ]
  },
  {
   "cell_type": "code",
   "execution_count": null,
   "metadata": {},
   "outputs": [],
   "source": []
  },
  {
   "cell_type": "code",
   "execution_count": 14,
   "metadata": {},
   "outputs": [
    {
     "name": "stdout",
     "output_type": "stream",
     "text": [
      "give me a number:99\n",
      "[3, 88, 2, 18, 4, 9, 28]\n"
     ]
    }
   ],
   "source": [
    "x_max=int(input('give me a number:'))\n",
    "my_lst=[3,88,2,434,18,4,9,28]\n",
    "output_lst=[]\n",
    "for i in my_lst:\n",
    "    if i < x_max:\n",
    "        output_lst.append(i)\n",
    "print(output_lst)"
   ]
  },
  {
   "cell_type": "markdown",
   "metadata": {},
   "source": [
    "### Problem 7:\n",
    "Write a function/script that takes an integer and returns all its divisors (for example, the divisors of 18 are 1, 2, 3, 6, 9, and 18)"
   ]
  },
  {
   "cell_type": "code",
   "execution_count": 18,
   "metadata": {},
   "outputs": [],
   "source": [
    "def divisors(num):\n",
    "    if not isinstance(num,int):\n",
    "        print(\"Please input an integer.\")\n",
    "        \n",
    "    divs=[1]\n",
    "    for i in range(2,num+1):\n",
    "        if num%i==0:\n",
    "            divs.append(i)\n",
    "    return divs"
   ]
  },
  {
   "cell_type": "code",
   "execution_count": 19,
   "metadata": {},
   "outputs": [
    {
     "name": "stdout",
     "output_type": "stream",
     "text": [
      "[1]\n",
      "[1, 2]\n",
      "[1, 2, 3, 6, 7, 14, 21, 42]\n",
      "[1, 79]\n"
     ]
    }
   ],
   "source": [
    "print(divisors(1))\n",
    "print(divisors(2))\n",
    "print(divisors(42))\n",
    "print(divisors(79))"
   ]
  },
  {
   "cell_type": "markdown",
   "metadata": {},
   "source": [
    "### Problem 8:\n",
    "A recursive sequence is obtained as follows. $a_0 = 1$, $a_1 = 2$, and for a given integer n, $a_n = 2a_{n-1}-a_{n-2}$. Write a function or script that computes $a_n$ for a given integer n. Note that $a_2 = 4-1 = 3$, for example. Test your function with $n = 5$, $n= 10$, and $n = 12$."
   ]
  },
  {
   "cell_type": "code",
   "execution_count": 31,
   "metadata": {},
   "outputs": [],
   "source": [
    "def recursive(n):\n",
    "    if not isinstance(n,int):\n",
    "        print(\"Error, please give me an integer\")\n",
    "    sequence=[1,2]\n",
    "    for k in range(2,n+1):\n",
    "        sequence.append(2*sequence[-1]-sequence[-2])\n",
    "    return sequence"
   ]
  },
  {
   "cell_type": "code",
   "execution_count": 33,
   "metadata": {},
   "outputs": [
    {
     "name": "stdout",
     "output_type": "stream",
     "text": [
      "[1, 2, 3, 4, 5, 6]\n",
      "[1, 2, 3, 4, 5, 6, 7, 8, 9, 10, 11]\n",
      "[1, 2, 3, 4, 5, 6, 7, 8, 9, 10, 11, 12, 13]\n"
     ]
    }
   ],
   "source": [
    "print(recursive(5))\n",
    "print(recursive(10))\n",
    "print(recursive(12))"
   ]
  },
  {
   "cell_type": "markdown",
   "metadata": {},
   "source": [
    "## Problem 9:\n",
    "Write a Rock-Paper-Scissors game function/script, that takes 2 strings, the inputs of player 1 and player 2, and output 1 or 2 corresponding to which player wins, or 0 if draw. (You may find the `input` command useful: `a = input(\"Player 1 move\")`) \n",
    "\n",
    "Implement a Rock-Paper-Scissors game by soliciting input from 2 players, testing with this function.\n",
    "\n",
    "Remember the rules:\n",
    "\n",
    "- Rock beats scissors\n",
    "- Scissors beats paper\n",
    "- Paper beats rock"
   ]
  },
  {
   "cell_type": "code",
   "execution_count": null,
   "metadata": {},
   "outputs": [],
   "source": [
    "def rps(player_1,player_2):\n",
    "    if player_1==player_2:\n",
    "        return 0\n",
    "    elif (player_1 == 'rock' and player_2=='scissors')\\\n",
    "    or (player_1=='scissors' and player_2=='paper')\\\n",
    "    or (player_1=='paper' and player_2=='rock'):\n",
    "        return 1\n",
    "    else:return 2"
   ]
  },
  {
   "cell_type": "code",
   "execution_count": null,
   "metadata": {},
   "outputs": [],
   "source": [
    "player_1=input(\"Player 1 chooses Rock, Paper, or Scissors\").lower()\n",
    "player_2=input(\"Player 1 chooses Rock, Paper, or Scissors\").lower()\n",
    "print(rps(player_1,player_2))"
   ]
  },
  {
   "cell_type": "code",
   "execution_count": null,
   "metadata": {},
   "outputs": [],
   "source": [
    "player_1=input(\"Player 1 chooses Rock, Paper, or Scissors\").lower()\n",
    "player_2=input(\"Player 1 chooses Rock, Paper, or Scissors\").lower()\n",
    "print(rps(player_1,player_2))"
   ]
  },
  {
   "cell_type": "code",
   "execution_count": null,
   "metadata": {},
   "outputs": [],
   "source": [
    "player_1=input(\"Player 1 chooses Rock, Paper, or Scissors\").lower()\n",
    "player_2=input(\"Player 1 chooses Rock, Paper, or Scissors\").lower()\n",
    "print(rps(player_1,player_2))"
   ]
  },
  {
   "cell_type": "code",
   "execution_count": null,
   "metadata": {},
   "outputs": [],
   "source": [
    "player_1=input(\"Player 1 chooses Rock, Paper, or Scissors\").lower()\n",
    "player_2=input(\"Player 1 chooses Rock, Paper, or Scissors\").lower()\n",
    "print(rps(player_1, player_2))"
   ]
  },
  {
   "cell_type": "code",
   "execution_count": null,
   "metadata": {},
   "outputs": [],
   "source": []
  },
  {
   "cell_type": "code",
   "execution_count": null,
   "metadata": {},
   "outputs": [],
   "source": []
  }
 ],
 "metadata": {
  "kernelspec": {
   "display_name": "Python 3 (ipykernel)",
   "language": "python",
   "name": "python3"
  },
  "language_info": {
   "codemirror_mode": {
    "name": "ipython",
    "version": 3
   },
   "file_extension": ".py",
   "mimetype": "text/x-python",
   "name": "python",
   "nbconvert_exporter": "python",
   "pygments_lexer": "ipython3",
   "version": "3.9.13"
  }
 },
 "nbformat": 4,
 "nbformat_minor": 2
}
