{
 "cells": [
  {
   "cell_type": "markdown",
   "id": "9913d12b",
   "metadata": {},
   "source": [
    " # <center>Midterm Exam &ndash; DATA 3401 (Spring 2023)</center>\n",
    "\n",
    "## Start Date: 3/27\n",
    "## Due Date for Exercises 1 and 2:    3/27 (at 2:15pm))\n",
    "## Due Date: for Exercises 3, 4 and 5:     23/29 (at 12:59pm))\n",
    "\n",
    "## Midterm Rules\n",
    "\n",
    "This midterm exam is essentially like a short-term lab. Please work the exercises below **on your own**.   \n",
    "\n",
    "**You should push your answer for Exercises 1 and 2 by the end of Monday's class, 3/27, at 2:15 pm in your GitHub repo for this class as **Midterm-part1** in the **Exam** folder. The rest of the exam is a take-home exam, and you have time up to Wednesday, 3/29, at 12:59. When you have completed the take-home exam, you should again push your completed jupyter notebook to your GitHub repo for this class as **Midterm-part2** in the **Exam** folder.\n",
    "\n",
    "\n",
    "You may not discuss the problems with **anyone else**, including persons on an online internet forum. Consulting an outside source like this will be considered an academic integrity violation.\n",
    "\n",
    "You may use all class resources including previous labs and lectures, and anything posted on the course webpage.\n",
    "\n",
    "You may not use any function that trivializes a problem. For example, if I ask you to write a `max` function that computes the maximum entry in a list, you are not allowed to use the pre-defined Python function `max`; you must write your own."
   ]
  },
  {
   "cell_type": "markdown",
   "id": "dbe7db65",
   "metadata": {},
   "source": [
    "## Exercise 1\n",
    "1. Write a script or function that asks the user to input 3 numbers (floats or ints), and output the product of the 3 numbers.\n",
    "    1. You may use the `input()` function to take user input, or you may write a function with 3 input arguments without using `input()`\n",
    "1. Your code should display an error message if one of the inputs is not a number.\n",
    "1. Test your code on the following inputs:  \n",
    "    1. (5, -10, 20.0)\n",
    "    1. (1, \"blah\", 5)"
   ]
  },
  {
   "cell_type": "markdown",
   "id": "1b9325ba",
   "metadata": {},
   "source": [
    "Exercise 1 Part 1"
   ]
  },
  {
   "cell_type": "code",
   "execution_count": null,
   "id": "ab4de5e5",
   "metadata": {},
   "outputs": [],
   "source": [
    "P=list()\n",
    "for i in range(3):\n",
    "    number=float(input(\"Enter a number\"))\n",
    "    P.append(number)\n",
    "M=0\n",
    "product=1\n",
    "while (M<len(P)):\n",
    "    product*=P[M]\n",
    "    M+=1\n",
    "    print(\"The product of the three numbers=\",product)"
   ]
  },
  {
   "cell_type": "markdown",
   "id": "198e4fba",
   "metadata": {},
   "source": [
    "Exercise 1 Part 2"
   ]
  },
  {
   "cell_type": "code",
   "execution_count": 1,
   "id": "52bc748d",
   "metadata": {},
   "outputs": [
    {
     "name": "stdout",
     "output_type": "stream",
     "text": [
      "Enter a number1\n",
      "Enter a number2\n",
      "Enter a numberp\n"
     ]
    },
    {
     "ename": "ValueError",
     "evalue": "could not convert string to float: 'p'",
     "output_type": "error",
     "traceback": [
      "\u001b[1;31m---------------------------------------------------------------------------\u001b[0m",
      "\u001b[1;31mValueError\u001b[0m                                Traceback (most recent call last)",
      "\u001b[1;32m~\\AppData\\Local\\Temp\\ipykernel_9576\\3374328827.py\u001b[0m in \u001b[0;36m<module>\u001b[1;34m\u001b[0m\n\u001b[0;32m      1\u001b[0m \u001b[0mP\u001b[0m\u001b[1;33m=\u001b[0m\u001b[0mlist\u001b[0m\u001b[1;33m(\u001b[0m\u001b[1;33m)\u001b[0m\u001b[1;33m\u001b[0m\u001b[1;33m\u001b[0m\u001b[0m\n\u001b[0;32m      2\u001b[0m \u001b[1;32mfor\u001b[0m \u001b[0mi\u001b[0m \u001b[1;32min\u001b[0m \u001b[0mrange\u001b[0m\u001b[1;33m(\u001b[0m\u001b[1;36m3\u001b[0m\u001b[1;33m)\u001b[0m\u001b[1;33m:\u001b[0m\u001b[1;33m\u001b[0m\u001b[1;33m\u001b[0m\u001b[0m\n\u001b[1;32m----> 3\u001b[1;33m     \u001b[0mnumber\u001b[0m\u001b[1;33m=\u001b[0m\u001b[0mfloat\u001b[0m\u001b[1;33m(\u001b[0m\u001b[0minput\u001b[0m\u001b[1;33m(\u001b[0m\u001b[1;34m\"Enter a number\"\u001b[0m\u001b[1;33m)\u001b[0m\u001b[1;33m)\u001b[0m\u001b[1;33m\u001b[0m\u001b[1;33m\u001b[0m\u001b[0m\n\u001b[0m\u001b[0;32m      4\u001b[0m     \u001b[0mP\u001b[0m\u001b[1;33m.\u001b[0m\u001b[0mappend\u001b[0m\u001b[1;33m(\u001b[0m\u001b[0mnumber\u001b[0m\u001b[1;33m)\u001b[0m\u001b[1;33m\u001b[0m\u001b[1;33m\u001b[0m\u001b[0m\n\u001b[0;32m      5\u001b[0m \u001b[0mM\u001b[0m\u001b[1;33m=\u001b[0m\u001b[1;36m0\u001b[0m\u001b[1;33m\u001b[0m\u001b[1;33m\u001b[0m\u001b[0m\n",
      "\u001b[1;31mValueError\u001b[0m: could not convert string to float: 'p'"
     ]
    }
   ],
   "source": [
    "P=list()\n",
    "for i in range(3):\n",
    "    number=float(input(\"Enter a number\"))\n",
    "    P.append(number)\n",
    "M=0\n",
    "product=1\n",
    "while (M<len(P)):\n",
    "    product*=P[M]\n",
    "    M+=1\n",
    "    print(\"The product of the three numbers=\",product)\n",
    "#This gave us an error becauses one of the inputs (p) is not a number"
   ]
  },
  {
   "cell_type": "markdown",
   "id": "6312c69c",
   "metadata": {},
   "source": [
    "Exercise 1 Part 3A"
   ]
  },
  {
   "cell_type": "code",
   "execution_count": 3,
   "id": "9c7e73ec",
   "metadata": {
    "scrolled": true
   },
   "outputs": [
    {
     "name": "stdout",
     "output_type": "stream",
     "text": [
      "Enter a number5\n",
      "Enter a number-10\n",
      "Enter a number20.0\n",
      "The product of the three numbers= 5.0\n",
      "The product of the three numbers= -50.0\n",
      "The product of the three numbers= -1000.0\n"
     ]
    }
   ],
   "source": [
    "P=list()\n",
    "for i in range(3):\n",
    "    number=float(input(\"Enter a number\"))\n",
    "    P.append(number)\n",
    "M=0\n",
    "product=1\n",
    "while (M<len(P)):\n",
    "    product*=P[M]\n",
    "    M+=1\n",
    "    print(\"The product of the three numbers=\",product)"
   ]
  },
  {
   "cell_type": "markdown",
   "id": "92f5d536",
   "metadata": {},
   "source": [
    "Exercise 1 Part 3B"
   ]
  },
  {
   "cell_type": "code",
   "execution_count": 4,
   "id": "b4f84f57",
   "metadata": {},
   "outputs": [
    {
     "name": "stdout",
     "output_type": "stream",
     "text": [
      "Enter a number1\n",
      "Enter a numberblah\n"
     ]
    },
    {
     "ename": "ValueError",
     "evalue": "could not convert string to float: 'blah'",
     "output_type": "error",
     "traceback": [
      "\u001b[1;31m---------------------------------------------------------------------------\u001b[0m",
      "\u001b[1;31mValueError\u001b[0m                                Traceback (most recent call last)",
      "\u001b[1;32m~\\AppData\\Local\\Temp\\ipykernel_9576\\3374328827.py\u001b[0m in \u001b[0;36m<module>\u001b[1;34m\u001b[0m\n\u001b[0;32m      1\u001b[0m \u001b[0mP\u001b[0m\u001b[1;33m=\u001b[0m\u001b[0mlist\u001b[0m\u001b[1;33m(\u001b[0m\u001b[1;33m)\u001b[0m\u001b[1;33m\u001b[0m\u001b[1;33m\u001b[0m\u001b[0m\n\u001b[0;32m      2\u001b[0m \u001b[1;32mfor\u001b[0m \u001b[0mi\u001b[0m \u001b[1;32min\u001b[0m \u001b[0mrange\u001b[0m\u001b[1;33m(\u001b[0m\u001b[1;36m3\u001b[0m\u001b[1;33m)\u001b[0m\u001b[1;33m:\u001b[0m\u001b[1;33m\u001b[0m\u001b[1;33m\u001b[0m\u001b[0m\n\u001b[1;32m----> 3\u001b[1;33m     \u001b[0mnumber\u001b[0m\u001b[1;33m=\u001b[0m\u001b[0mfloat\u001b[0m\u001b[1;33m(\u001b[0m\u001b[0minput\u001b[0m\u001b[1;33m(\u001b[0m\u001b[1;34m\"Enter a number\"\u001b[0m\u001b[1;33m)\u001b[0m\u001b[1;33m)\u001b[0m\u001b[1;33m\u001b[0m\u001b[1;33m\u001b[0m\u001b[0m\n\u001b[0m\u001b[0;32m      4\u001b[0m     \u001b[0mP\u001b[0m\u001b[1;33m.\u001b[0m\u001b[0mappend\u001b[0m\u001b[1;33m(\u001b[0m\u001b[0mnumber\u001b[0m\u001b[1;33m)\u001b[0m\u001b[1;33m\u001b[0m\u001b[1;33m\u001b[0m\u001b[0m\n\u001b[0;32m      5\u001b[0m \u001b[0mM\u001b[0m\u001b[1;33m=\u001b[0m\u001b[1;36m0\u001b[0m\u001b[1;33m\u001b[0m\u001b[1;33m\u001b[0m\u001b[0m\n",
      "\u001b[1;31mValueError\u001b[0m: could not convert string to float: 'blah'"
     ]
    }
   ],
   "source": [
    "P=list()\n",
    "for i in range(3):\n",
    "    number=float(input(\"Enter a number\"))\n",
    "    P.append(number)\n",
    "M=0\n",
    "product=1\n",
    "while (M<len(P)):\n",
    "    product*=P[M]\n",
    "    M+=1\n",
    "    print(\"The product of the three numbers=\",product)\n",
    "#This gave us an error because the word \"blah\" is not a number and we have all numbers except for that, therefore it does not work and we get an error"
   ]
  },
  {
   "cell_type": "markdown",
   "id": "82b8368e",
   "metadata": {},
   "source": [
    "## Exercise 2\n",
    "1. Write a function which takes a list as input and outputs the largest **integer** entry. If there is none, return `None`.\n",
    "1. Test your function on the following lists\n",
    "    1. \\[ 1, 9, 10.2, 6, -2\\]\n",
    "    1. \\[1.2, 3/4, \"Hello World\"\\]"
   ]
  },
  {
   "cell_type": "markdown",
   "id": "f1a64115",
   "metadata": {},
   "source": [
    "Exercise 2 Part 1"
   ]
  },
  {
   "cell_type": "code",
   "execution_count": 27,
   "id": "c01d73b0",
   "metadata": {},
   "outputs": [
    {
     "name": "stdout",
     "output_type": "stream",
     "text": [
      "Enter number of elements in list here:5\n",
      "Enter elements:1\n",
      "Enter elements:2\n",
      "Enter elements:3\n",
      "Enter elements:4\n",
      "Enter elements:5\n",
      "Largest integer is: 5\n"
     ]
    }
   ],
   "source": [
    "lst=[]\n",
    "largest=int(input(\"Enter number of elements in list here:\"))\n",
    "for i in range(1, largest + 1):\n",
    "    ele=int(input(\"Enter elements:\"))\n",
    "    lst.append(ele)\n",
    "print(\"Largest integer is:\",max(lst))\n",
    "#Here the function is asking to first say how many numbers will be on the list, then its asking to enter each number, after it enters the largest integer in the list"
   ]
  },
  {
   "cell_type": "markdown",
   "id": "19c7ec18",
   "metadata": {},
   "source": [
    "Exercise 2 Part 2A"
   ]
  },
  {
   "cell_type": "code",
   "execution_count": 28,
   "id": "8348e2a0",
   "metadata": {},
   "outputs": [
    {
     "name": "stdout",
     "output_type": "stream",
     "text": [
      "Enter number of elements in list here:5\n",
      "Enter elements:1\n",
      "Enter elements:9\n",
      "Enter elements:10.2\n"
     ]
    },
    {
     "ename": "ValueError",
     "evalue": "invalid literal for int() with base 10: '10.2'",
     "output_type": "error",
     "traceback": [
      "\u001b[1;31m---------------------------------------------------------------------------\u001b[0m",
      "\u001b[1;31mValueError\u001b[0m                                Traceback (most recent call last)",
      "\u001b[1;32m~\\AppData\\Local\\Temp\\ipykernel_9576\\2778464530.py\u001b[0m in \u001b[0;36m<module>\u001b[1;34m\u001b[0m\n\u001b[0;32m      2\u001b[0m \u001b[0mlargest\u001b[0m\u001b[1;33m=\u001b[0m\u001b[0mint\u001b[0m\u001b[1;33m(\u001b[0m\u001b[0minput\u001b[0m\u001b[1;33m(\u001b[0m\u001b[1;34m\"Enter number of elements in list here:\"\u001b[0m\u001b[1;33m)\u001b[0m\u001b[1;33m)\u001b[0m\u001b[1;33m\u001b[0m\u001b[1;33m\u001b[0m\u001b[0m\n\u001b[0;32m      3\u001b[0m \u001b[1;32mfor\u001b[0m \u001b[0mi\u001b[0m \u001b[1;32min\u001b[0m \u001b[0mrange\u001b[0m\u001b[1;33m(\u001b[0m\u001b[1;36m1\u001b[0m\u001b[1;33m,\u001b[0m\u001b[0mlargest\u001b[0m \u001b[1;33m+\u001b[0m\u001b[1;36m1\u001b[0m\u001b[1;33m)\u001b[0m\u001b[1;33m:\u001b[0m\u001b[1;33m\u001b[0m\u001b[1;33m\u001b[0m\u001b[0m\n\u001b[1;32m----> 4\u001b[1;33m     \u001b[0mele\u001b[0m\u001b[1;33m=\u001b[0m\u001b[0mint\u001b[0m\u001b[1;33m(\u001b[0m\u001b[0minput\u001b[0m\u001b[1;33m(\u001b[0m\u001b[1;34m\"Enter elements:\"\u001b[0m\u001b[1;33m)\u001b[0m\u001b[1;33m)\u001b[0m\u001b[1;33m\u001b[0m\u001b[1;33m\u001b[0m\u001b[0m\n\u001b[0m\u001b[0;32m      5\u001b[0m     \u001b[0mlst\u001b[0m\u001b[1;33m.\u001b[0m\u001b[0mappend\u001b[0m\u001b[1;33m(\u001b[0m\u001b[0mele\u001b[0m\u001b[1;33m)\u001b[0m\u001b[1;33m\u001b[0m\u001b[1;33m\u001b[0m\u001b[0m\n\u001b[0;32m      6\u001b[0m \u001b[0mprint\u001b[0m\u001b[1;33m(\u001b[0m\u001b[1;34m\"Largest integer is:\"\u001b[0m\u001b[1;33m,\u001b[0m \u001b[0mmax\u001b[0m\u001b[1;33m(\u001b[0m\u001b[0mlst\u001b[0m\u001b[1;33m)\u001b[0m\u001b[1;33m)\u001b[0m\u001b[1;33m\u001b[0m\u001b[1;33m\u001b[0m\u001b[0m\n",
      "\u001b[1;31mValueError\u001b[0m: invalid literal for int() with base 10: '10.2'"
     ]
    }
   ],
   "source": [
    "lst=[]\n",
    "largest=int(input(\"Enter number of elements in list here:\"))\n",
    "for i in range(1,largest +1):\n",
    "    ele=int(input(\"Enter elements:\"))\n",
    "    lst.append(ele)\n",
    "print(\"Largest integer is:\", max(lst))\n",
    "#Because 10.2 is not an integer, it is a rational number because of the comma, this function will not work because we specifically said to work wih integers in the second line"
   ]
  },
  {
   "cell_type": "markdown",
   "id": "d5cd1d09",
   "metadata": {},
   "source": [
    "Exercise 2 Part 2B"
   ]
  },
  {
   "cell_type": "code",
   "execution_count": 29,
   "id": "a72ce5a9",
   "metadata": {},
   "outputs": [
    {
     "name": "stdout",
     "output_type": "stream",
     "text": [
      "Enter number of elements in list here:3\n",
      "Enter elements:1.2\n"
     ]
    },
    {
     "ename": "ValueError",
     "evalue": "invalid literal for int() with base 10: '1.2'",
     "output_type": "error",
     "traceback": [
      "\u001b[1;31m---------------------------------------------------------------------------\u001b[0m",
      "\u001b[1;31mValueError\u001b[0m                                Traceback (most recent call last)",
      "\u001b[1;32m~\\AppData\\Local\\Temp\\ipykernel_9576\\343372557.py\u001b[0m in \u001b[0;36m<module>\u001b[1;34m\u001b[0m\n\u001b[0;32m      2\u001b[0m \u001b[0mlargest\u001b[0m\u001b[1;33m=\u001b[0m\u001b[0mint\u001b[0m\u001b[1;33m(\u001b[0m\u001b[0minput\u001b[0m\u001b[1;33m(\u001b[0m\u001b[1;34m\"Enter number of elements in list here:\"\u001b[0m\u001b[1;33m)\u001b[0m\u001b[1;33m)\u001b[0m\u001b[1;33m\u001b[0m\u001b[1;33m\u001b[0m\u001b[0m\n\u001b[0;32m      3\u001b[0m \u001b[1;32mfor\u001b[0m \u001b[0mi\u001b[0m \u001b[1;32min\u001b[0m \u001b[0mrange\u001b[0m\u001b[1;33m(\u001b[0m\u001b[1;36m1\u001b[0m\u001b[1;33m,\u001b[0m\u001b[0mlargest\u001b[0m \u001b[1;33m+\u001b[0m\u001b[1;36m1\u001b[0m\u001b[1;33m)\u001b[0m\u001b[1;33m:\u001b[0m\u001b[1;33m\u001b[0m\u001b[1;33m\u001b[0m\u001b[0m\n\u001b[1;32m----> 4\u001b[1;33m     \u001b[0mele\u001b[0m\u001b[1;33m=\u001b[0m\u001b[0mint\u001b[0m\u001b[1;33m(\u001b[0m\u001b[0minput\u001b[0m\u001b[1;33m(\u001b[0m\u001b[1;34m\"Enter elements:\"\u001b[0m\u001b[1;33m)\u001b[0m\u001b[1;33m)\u001b[0m\u001b[1;33m\u001b[0m\u001b[1;33m\u001b[0m\u001b[0m\n\u001b[0m\u001b[0;32m      5\u001b[0m     \u001b[0mlst\u001b[0m\u001b[1;33m.\u001b[0m\u001b[0mappend\u001b[0m\u001b[1;33m(\u001b[0m\u001b[0mele\u001b[0m\u001b[1;33m)\u001b[0m\u001b[1;33m\u001b[0m\u001b[1;33m\u001b[0m\u001b[0m\n\u001b[0;32m      6\u001b[0m \u001b[0mprint\u001b[0m\u001b[1;33m(\u001b[0m\u001b[1;34m\"Largest integer is:\"\u001b[0m\u001b[1;33m,\u001b[0m \u001b[0mmax\u001b[0m\u001b[1;33m(\u001b[0m\u001b[0mlst\u001b[0m\u001b[1;33m)\u001b[0m\u001b[1;33m)\u001b[0m\u001b[1;33m\u001b[0m\u001b[1;33m\u001b[0m\u001b[0m\n",
      "\u001b[1;31mValueError\u001b[0m: invalid literal for int() with base 10: '1.2'"
     ]
    }
   ],
   "source": [
    "lst=[]\n",
    "largest=int(input(\"Enter number of elements in list here:\"))\n",
    "for i in range(1,largest +1):\n",
    "    ele=int(input(\"Enter elements:\"))\n",
    "    lst.append(ele)\n",
    "print(\"Largest integer is:\", max(lst))\n",
    "#Because none of the numbers here are integers, they are rational numbers, fractions, and words this will not work because we said to only work with integers in the second line"
   ]
  },
  {
   "cell_type": "markdown",
   "id": "78622bb6",
   "metadata": {},
   "source": [
    "## Exercise 3\n",
    "Suppose the first element of a sequence is $a_0 = 1$, the second element is $a_1 = 3$, and for every $i>1$, the $i$--th element of the sequence is defined by the recursive relation $a_i = \\frac{(a_{i-1}-a_{i-2})^2}{3}$. (So $a_2 = 4/3$)\n",
    "1. Write a function which outputs the $n$--th element of this sequence for a given positive integer $n$\n",
    "2. Test your function for $n = 1, 5, 10, 15,$ and $20$"
   ]
  },
  {
   "cell_type": "code",
   "execution_count": null,
   "id": "ceed43f2",
   "metadata": {},
   "outputs": [],
   "source": [
    "# Write your function here"
   ]
  },
  {
   "cell_type": "code",
   "execution_count": null,
   "id": "734307f2",
   "metadata": {},
   "outputs": [],
   "source": [
    "# Test your function here"
   ]
  },
  {
   "cell_type": "markdown",
   "id": "5a9a5bdf",
   "metadata": {},
   "source": [
    "## Exercise 4\n",
    "1. Write a function that takes in a list of tuples, each of which contains three parts: `name, month, day` corresponding to a person's birthday, for example `('Tony Stark', 'March', 14)`. Your function should output `True` if any two people have the same birthday, and `False` if no two people have the same birthday.\n",
    "1. Test your function on the set of people `[('Thor', 'August',10), ('Phil Coulson','July',8),('T\\'Challa','November',29),('Peter Parker','August',10), ('Tony Stark', 'March', 14)]`\n",
    "1. Create your own list of people with all distinct birthdays and test your function on your list."
   ]
  },
  {
   "cell_type": "code",
   "execution_count": null,
   "id": "1387950a",
   "metadata": {},
   "outputs": [],
   "source": [
    "# Write your functions here"
   ]
  },
  {
   "cell_type": "code",
   "execution_count": null,
   "id": "e6036378",
   "metadata": {},
   "outputs": [],
   "source": [
    "# Test your functions here"
   ]
  },
  {
   "cell_type": "markdown",
   "id": "a3e7a45b",
   "metadata": {},
   "source": [
    "## Exercise 5\n",
    "For this exercise, you are *not* allowed to use the `.replace()` function or a similar single string command to complete the exercise. For example, you could make a list of the input string and then use list manipulations to complete the task.\n",
    "\n",
    "1. Write a function or script that takes in two strings, and returns the first string minus all instances of the second string. You may assume the second string is a single character.  For example, an input of \"Hello World\" where \"l\" is removed should result in \"Heo Word\".\n",
    "1. Test your function by specifying \"i\" to be removed from \"Supercalifragilisticexpialidocious\"\n",
    "\n",
    "Bonus: Modify your function to allow the second string to be more than one characer. Test your new function by specifying \"data\" to be removed from \"data 3401 introduction to python for data science\". (This should result in ' 3401 introduction to python for  science'\n",
    "\n",
    "**Example:** if your function is called `replace_string(str1,str2)`, then for part 2 you should print `replace_string('Supercalifragilisticexpialidocious','i')` and for the bonus you should print `replace_string('data 3401 introduction to python for data science','data')`"
   ]
  },
  {
   "cell_type": "code",
   "execution_count": null,
   "id": "6bbb5673",
   "metadata": {},
   "outputs": [],
   "source": [
    "# Write your function here"
   ]
  },
  {
   "cell_type": "code",
   "execution_count": null,
   "id": "fbe320cb",
   "metadata": {},
   "outputs": [],
   "source": [
    "# Test your function here"
   ]
  }
 ],
 "metadata": {
  "kernelspec": {
   "display_name": "Python 3 (ipykernel)",
   "language": "python",
   "name": "python3"
  },
  "language_info": {
   "codemirror_mode": {
    "name": "ipython",
    "version": 3
   },
   "file_extension": ".py",
   "mimetype": "text/x-python",
   "name": "python",
   "nbconvert_exporter": "python",
   "pygments_lexer": "ipython3",
   "version": "3.9.13"
  }
 },
 "nbformat": 4,
 "nbformat_minor": 5
}
