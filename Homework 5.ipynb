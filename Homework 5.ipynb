{
 "cells": [
  {
   "cell_type": "markdown",
   "id": "2301db60",
   "metadata": {},
   "source": [
    "Data transfer: Parsing Amino Acid data file"
   ]
  },
  {
   "cell_type": "code",
   "execution_count": 6,
   "id": "4d21e5bd",
   "metadata": {},
   "outputs": [
    {
     "name": "stdout",
     "output_type": "stream",
     "text": [
      "['L', 'H', 'K', 'E', 'P', 'A', 'T', 'L', 'I', 'K', 'A', 'I', 'D', 'G', 'D', 'T', 'K', 'L', 'M', 'Y', 'K', 'G', 'Q', 'P', 'M', 'T', 'F', 'R', 'L', 'L', 'L', 'V', 'D', 'T', 'P', 'E', 'T', 'K', 'H', 'P', 'K', 'K', 'G', 'V', 'E', 'K', 'Y', 'G', 'P', 'E', 'A', 'S', 'A', 'F', 'T', 'K', 'K', 'M', 'V', 'E', 'N', 'A', 'K', 'K', 'I', 'E', 'V', 'E', 'F', 'D', 'K', 'G', 'Q', 'R', 'T', 'D', 'K', 'Y', 'G', 'R', 'G', 'L', 'A', 'Y', 'I', 'Y', 'A', 'D', 'G', 'K', 'M', 'V', 'N', 'E', 'A', 'L', 'V', 'R', 'Q', 'G', 'L', 'A', 'K', 'V', 'A', 'Y', 'V', 'Y', 'K', 'P', 'N', 'N', 'T', 'H', 'E', 'Q', 'H', 'L', 'R', 'K', 'S', 'E', 'A', 'Q', 'A', 'K', 'K', 'E', 'K', 'L', 'N', 'I', 'W', 'S']\n"
     ]
    }
   ],
   "source": [
    "with open('1A2T_A.dssp','r') as f_in:\n",
    "    lines=f_in.readlines()\n",
    "    AA=[]\n",
    "    for i in range(25,len(lines)):\n",
    "        if not lines[i][13] == '!': \n",
    "            AA.append(lines[i][13])\n",
    "    \n",
    "    print(AA)"
   ]
  },
  {
   "cell_type": "code",
   "execution_count": 14,
   "id": "3753658c",
   "metadata": {},
   "outputs": [
    {
     "name": "stdout",
     "output_type": "stream",
     "text": [
      "['1', '0', '0', ' ', '1', '4', '9', ' ', ' ', '7', '0', ' ', ' ', '4', '7', ' ', ' ', '9', '7', ' ', ' ', '1', '3', ' ', ' ', '9', '5', ' ', ' ', '4', '5', ' ', ' ', '7', '2', ' ', '1', '1', '2', ' ', ' ', '1', '2', ' ', ' ', '7', '1', ' ', ' ', '1', '5', ' ', ' ', ' ', '0', ' ', ' ', '1', '0', ' ', ' ', '3', '0', ' ', ' ', ' ', '0', ' ', ' ', '8', '9', ' ', ' ', ' ', '9', ' ', ' ', '7', '0', ' ', ' ', '2', '1', ' ', '1', '5', '3', ' ', ' ', '7', '1', ' ', '1', '0', '6', ' ', ' ', '4', '6', ' ', ' ', '5', '2', ' ', ' ', '4', '5', ' ', ' ', ' ', '6', ' ', ' ', '1', '7', ' ', ' ', ' ', '9', ' ', ' ', '1', '0', ' ', ' ', ' ', '4', ' ', ' ', ' ', '0', ' ', ' ', '3', '6', ' ', ' ', ' ', '2', ' ', ' ', ' ', '8', ' ', ' ', '4', '2', ' ', ' ', '5', '2', ' ', '1', '6', '5', ' ', ' ', '7', '6', ' ', '1', '1', '7', ' ', '1', '6', '8', ' ', '1', '0', '2', ' ', ' ', '2', '8', ' ', ' ', '9', '7', ' ', ' ', '5', '5', ' ', '1', '6', '2', ' ', ' ', '3', '8', ' ', ' ', ' ', '0', ' ', ' ', '5', '7', ' ', ' ', '9', '6', ' ', ' ', ' ', '0', ' ', ' ', '1', '0', ' ', ' ', '3', '4', ' ', ' ', '6', '8', ' ', ' ', '1', '0', ' ', ' ', '6', '4', ' ', '1', '1', '3', ' ', ' ', '3', '7', ' ', ' ', '1', '5', ' ', '1', '2', '3', ' ', '1', '0', '6', ' ', ' ', '2', '2', ' ', '1', '5', '1', ' ', '1', '4', '0', ' ', ' ', '1', '3', ' ', ' ', '5', '8', ' ', ' ', ' ', '0', ' ', ' ', '1', '2', ' ', ' ', '1', '5', ' ', ' ', '1', '2', ' ', '1', '3', '3', ' ', ' ', '2', '1', ' ', ' ', '8', '4', ' ', '1', '3', '3', ' ', ' ', '6', '5', ' ', ' ', '3', '1', ' ', '1', '7', '9', ' ', '1', '5', '4', ' ', ' ', '5', '3', ' ', ' ', '6', '7', ' ', ' ', ' ', '6', ' ', ' ', '2', '5', ' ', ' ', ' ', '0', ' ', ' ', ' ', '0', ' ', ' ', '1', '4', ' ', ' ', '1', '9', ' ', ' ', ' ', '2', ' ', ' ', '6', '2', ' ', ' ', '5', '1', ' ', '1', '1', '2', ' ', ' ', '2', '0', ' ', ' ', ' ', '2', ' ', ' ', ' ', '0', ' ', ' ', '2', '1', ' ', ' ', ' ', '8', ' ', ' ', ' ', '0', ' ', ' ', ' ', '0', ' ', '1', '2', '5', ' ', ' ', '7', '7', ' ', ' ', ' ', '0', ' ', ' ', ' ', '6', ' ', ' ', ' ', '0', ' ', ' ', '9', '9', ' ', ' ', '1', '8', ' ', ' ', '2', '6', ' ', '1', '5', '5', ' ', ' ', '4', '9', ' ', '1', '4', '2', ' ', '1', '3', '5', ' ', ' ', '5', '5', ' ', ' ', ' ', '3', ' ', ' ', '2', '1', ' ', ' ', '5', '4', ' ', ' ', '3', '5', ' ', ' ', '3', '9', ' ', '1', '2', '4', ' ', ' ', '9', '2', ' ', ' ', ' ', '0', ' ', ' ', '9', '6', ' ', '1', '3', '1', ' ', ' ', '1', '4', ' ', ' ', '1', '3', ' ', ' ', '2', '6', ' ', ' ', '9', '0', ' ', ' ', ' ', '0', ' ', ' ', '8', '0', ' ', '1', '3', '1', ' ', '1', '2', '1', ' ', '1', '3', '1', ' ', ' ', '5', '3', ' ', ' ', '4', '2', ' ', ' ', '3', '0', ' ', ' ', '6', '1', ' ', '1', '1', '6', ' ']\n"
     ]
    }
   ],
   "source": [
    "with open('1A2T_A.dssp','r') as f_in:\n",
    "    lines=f_in.readlines()\n",
    "    ACC=[]\n",
    "    for i in range(25,len(lines)):\n",
    "        ACC.append(lines[i][35])\n",
    "        ACC.append(lines[i][36])\n",
    "        ACC.append(lines[i][37])\n",
    "        ACC.append(lines[i][38])\n",
    "    print(ACC)"
   ]
  },
  {
   "cell_type": "code",
   "execution_count": 28,
   "id": "ff1e5312",
   "metadata": {},
   "outputs": [
    {
     "ename": "TypeError",
     "evalue": "expected str, bytes or os.PathLike object, not TextIOWrapper",
     "output_type": "error",
     "traceback": [
      "\u001b[1;31m---------------------------------------------------------------------------\u001b[0m",
      "\u001b[1;31mTypeError\u001b[0m                                 Traceback (most recent call last)",
      "Cell \u001b[1;32mIn[28], line 10\u001b[0m\n\u001b[0;32m      7\u001b[0m input_filename\u001b[38;5;241m=\u001b[39msys\u001b[38;5;241m.\u001b[39margv[\u001b[38;5;241m1\u001b[39m]\n\u001b[0;32m      8\u001b[0m output_filename\u001b[38;5;241m=\u001b[39msys\u001b[38;5;241m.\u001b[39margv[\u001b[38;5;241m2\u001b[39m]\n\u001b[1;32m---> 10\u001b[0m protein_name\u001b[38;5;241m=\u001b[39mos\u001b[38;5;241m.\u001b[39mpath\u001b[38;5;241m.\u001b[39msplitext(\u001b[43mos\u001b[49m\u001b[38;5;241;43m.\u001b[39;49m\u001b[43mpath\u001b[49m\u001b[38;5;241;43m.\u001b[39;49m\u001b[43mbasename\u001b[49m\u001b[43m(\u001b[49m\u001b[43minput_file\u001b[49m\u001b[43m)\u001b[49m)[\u001b[38;5;241m0\u001b[39m]\n\u001b[0;32m     12\u001b[0m \u001b[38;5;28;01mif\u001b[39;00m os\u001b[38;5;241m.\u001b[39mpath\u001b[38;5;241m.\u001b[39misfile(output_filename):\n\u001b[0;32m     13\u001b[0m     output_file_mode\u001b[38;5;241m=\u001b[39m\u001b[38;5;124m'\u001b[39m\u001b[38;5;124ma\u001b[39m\u001b[38;5;124m'\u001b[39m\n",
      "File \u001b[1;32m~\\anaconda3\\lib\\ntpath.py:242\u001b[0m, in \u001b[0;36mbasename\u001b[1;34m(p)\u001b[0m\n\u001b[0;32m    240\u001b[0m \u001b[38;5;28;01mdef\u001b[39;00m \u001b[38;5;21mbasename\u001b[39m(p):\n\u001b[0;32m    241\u001b[0m     \u001b[38;5;124;03m\"\"\"Returns the final component of a pathname\"\"\"\u001b[39;00m\n\u001b[1;32m--> 242\u001b[0m     \u001b[38;5;28;01mreturn\u001b[39;00m \u001b[43msplit\u001b[49m\u001b[43m(\u001b[49m\u001b[43mp\u001b[49m\u001b[43m)\u001b[49m[\u001b[38;5;241m1\u001b[39m]\n",
      "File \u001b[1;32m~\\anaconda3\\lib\\ntpath.py:211\u001b[0m, in \u001b[0;36msplit\u001b[1;34m(p)\u001b[0m\n\u001b[0;32m    206\u001b[0m \u001b[38;5;28;01mdef\u001b[39;00m \u001b[38;5;21msplit\u001b[39m(p):\n\u001b[0;32m    207\u001b[0m     \u001b[38;5;124;03m\"\"\"Split a pathname.\u001b[39;00m\n\u001b[0;32m    208\u001b[0m \n\u001b[0;32m    209\u001b[0m \u001b[38;5;124;03m    Return tuple (head, tail) where tail is everything after the final slash.\u001b[39;00m\n\u001b[0;32m    210\u001b[0m \u001b[38;5;124;03m    Either part may be empty.\"\"\"\u001b[39;00m\n\u001b[1;32m--> 211\u001b[0m     p \u001b[38;5;241m=\u001b[39m \u001b[43mos\u001b[49m\u001b[38;5;241;43m.\u001b[39;49m\u001b[43mfspath\u001b[49m\u001b[43m(\u001b[49m\u001b[43mp\u001b[49m\u001b[43m)\u001b[49m\n\u001b[0;32m    212\u001b[0m     seps \u001b[38;5;241m=\u001b[39m _get_bothseps(p)\n\u001b[0;32m    213\u001b[0m     d, p \u001b[38;5;241m=\u001b[39m splitdrive(p)\n",
      "\u001b[1;31mTypeError\u001b[0m: expected str, bytes or os.PathLike object, not TextIOWrapper"
     ]
    }
   ],
   "source": [
    "import os\n",
    "import sys\n",
    "\n",
    "#Max surface area of each amino acid\n",
    "max_surface_area = {'A': 129.0, 'R': 274.0, 'N': 195.0, 'D': 193.0, 'C': 167.0, 'Q': 225.0, 'E': 223.0, 'G': 104.0, 'H': 224.0, 'I': 197.0, 'L': 201.0, 'K': 236.0, 'M': 224.0, 'F': 240.0, 'P': 159.0, 'S': 155.0, 'T': 172.0, 'W': 285.0, 'Y': 263.0, 'V': 159.0}\n",
    "\n",
    "input_filename=sys.argv[1]\n",
    "output_filename=sys.argv[2]\n",
    "\n",
    "protein_name=os.path.splitext(os.path.basename(input_file))[0]\n",
    "\n",
    "if os.path.isfile(output_filename):\n",
    "    output_file_mode='a'\n",
    "else:\n",
    "    output_file_mode='w'\n",
    "\n",
    "with open('1A2T_A.dssp', 'r') as input_file, open(output_filename, output_file_mode) as output_file:\n",
    "    output_file.write('Protein: {}\\n\\n'.format(protein_name))\n",
    "    for line in input_file:\n",
    "        if line.startswith('  #  RESIDUE'):\n",
    "            columns=line.strip().split()\n",
    "            aa_column_index=columns.index('AA')\n",
    "            for line in input_file:\n",
    "                if line.startswith('  #'):\n",
    "                    break\n",
    "                \n",
    "                columns=line.strip().split()\n",
    "                aa_name=columns[aa_column_index]\n",
    "                aa_surface_area=float(columns[3])\n",
    "                \n",
    "                rsa=aa_name / max_surface_area[aa_name]\n",
    "                \n",
    "                output_file.write('{:<3} {:>6.1f}{:>6.3f}\\n'.format(aa_name, aa_surface_area, rsa))\n",
    "    output_file.write('\\n')\n",
    "#not sure why I keep getting error here, it was working before"
   ]
  },
  {
   "cell_type": "code",
   "execution_count": 25,
   "id": "175abb4e",
   "metadata": {},
   "outputs": [
    {
     "ename": "SyntaxError",
     "evalue": "invalid decimal literal (1192597296.py, line 1)",
     "output_type": "error",
     "traceback": [
      "\u001b[1;36m  Cell \u001b[1;32mIn[25], line 1\u001b[1;36m\u001b[0m\n\u001b[1;33m    python calculate_RSA.py 1A2T_A.dssp output.txt\u001b[0m\n\u001b[1;37m                            ^\u001b[0m\n\u001b[1;31mSyntaxError\u001b[0m\u001b[1;31m:\u001b[0m invalid decimal literal\n"
     ]
    }
   ],
   "source": [
    "python readDSSP.py 1A2T_A.dssp output.txt"
   ]
  },
  {
   "cell_type": "markdown",
   "id": "290107f6",
   "metadata": {},
   "source": [
    "Data transfer: Converting Comma-Separated-Values (CSV) input to formatted output"
   ]
  },
  {
   "cell_type": "code",
   "execution_count": 22,
   "id": "e8436d38",
   "metadata": {},
   "outputs": [],
   "source": [
    "import sys\n",
    "def csv_format(input_file, output_file):\n",
    "    if len(sys.argv)!=3:\n",
    "        print(\"Usage: python csv2formatted.py<input_file> <ouput_file>\")\n",
    "        sys.exit(1)\n",
    "\n",
    "    input_file=sys.argv[1]\n",
    "    output_file=sys.argv[2]\n",
    "\n",
    "    with open(input_file,'r') as f_in, open(output_file, 'w') as f_out:\n",
    "        for line in f_in:\n",
    "            values=[float(x) for x in line.strip().split(',')]\n",
    "            formatted_values=[f'{x:.3f}' for x in values]\n",
    "            formatted_line=''.join(formatted_values)+'\\n'\n",
    "            f_out.write(formatted_line)"
   ]
  },
  {
   "cell_type": "code",
   "execution_count": 21,
   "id": "1e93a1e4",
   "metadata": {},
   "outputs": [
    {
     "ename": "SyntaxError",
     "evalue": "invalid syntax (1119058764.py, line 1)",
     "output_type": "error",
     "traceback": [
      "\u001b[1;36m  Cell \u001b[1;32mIn[21], line 1\u001b[1;36m\u001b[0m\n\u001b[1;33m    python csv2formatted.py data.in data.python.out\u001b[0m\n\u001b[1;37m           ^\u001b[0m\n\u001b[1;31mSyntaxError\u001b[0m\u001b[1;31m:\u001b[0m invalid syntax\n"
     ]
    }
   ],
   "source": [
    "python csv2formatted.py data.in data.python.out\n",
    "#not sure why I keep getting an error here"
   ]
  },
  {
   "cell_type": "code",
   "execution_count": 24,
   "id": "3f7ff930",
   "metadata": {},
   "outputs": [],
   "source": [
    "import sys\n",
    "if len(sys.argv)!=3:\n",
    "        print(\"Usage: python csv2formatted.py<input_file> <ouput_file>\")\n",
    "        sys.exit(1)\n",
    "\n",
    "input_file=sys.argv[1]\n",
    "output_file=sys.argv[2]"
   ]
  },
  {
   "cell_type": "code",
   "execution_count": 23,
   "id": "d7f3e508",
   "metadata": {},
   "outputs": [],
   "source": [
    "def f(input_file,output_file):\n",
    "    with open(input_file,'r') as f_in, open(output_file, 'w') as f_out:\n",
    "            for line in f_in:\n",
    "                values=[float(x) for x in line.strip().split(',')]\n",
    "                formatted_values=[f'{x:.3f}' for x in values]\n",
    "                formatted_line=' '.join(formatted_values)+'\\n'\n",
    "                f_out.write(formatted_line)"
   ]
  },
  {
   "cell_type": "code",
   "execution_count": null,
   "id": "e645db29",
   "metadata": {},
   "outputs": [],
   "source": []
  }
 ],
 "metadata": {
  "kernelspec": {
   "display_name": "Python 3 (ipykernel)",
   "language": "python",
   "name": "python3"
  },
  "language_info": {
   "codemirror_mode": {
    "name": "ipython",
    "version": 3
   },
   "file_extension": ".py",
   "mimetype": "text/x-python",
   "name": "python",
   "nbconvert_exporter": "python",
   "pygments_lexer": "ipython3",
   "version": "3.10.9"
  }
 },
 "nbformat": 4,
 "nbformat_minor": 5
}
